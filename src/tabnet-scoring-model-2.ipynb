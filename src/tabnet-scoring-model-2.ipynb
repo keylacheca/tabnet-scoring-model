{
  "nbformat": 4,
  "nbformat_minor": 0,
  "metadata": {
    "colab": {
      "name": "ENTREGABLE 2 _ TRABAJO 2.ipynb",
      "provenance": [],
      "collapsed_sections": []
    },
    "kernelspec": {
      "name": "python3",
      "display_name": "Python 3"
    },
    "accelerator": "GPU"
  },
  "cells": [
    {
      "cell_type": "markdown",
      "metadata": {
        "id": "BEeQq_P0qHKM"
      },
      "source": [
        "# Entregable 2 - Trabajo 2"
      ]
    },
    {
      "cell_type": "markdown",
      "metadata": {
        "id": "euRBkPJQqnZ3"
      },
      "source": [
        "**CODIGO DE PREPROCESAMIENTO DEL DATASET**"
      ]
    },
    {
      "cell_type": "code",
      "metadata": {
        "id": "GR-2EMgbvVYj"
      },
      "source": [
        "!pip install -U -q PyDrive \n",
        "  \n",
        "from pydrive.auth import GoogleAuth \n",
        "from pydrive.drive import GoogleDrive \n",
        "from google.colab import auth \n",
        "from oauth2client.client import GoogleCredentials \n",
        "  \n",
        "  \n",
        "# Authenticate and create the PyDrive client. \n",
        "auth.authenticate_user() \n",
        "gauth = GoogleAuth() \n",
        "gauth.credentials = GoogleCredentials.get_application_default() \n",
        "drive = GoogleDrive(gauth)\n",
        "\n",
        "link = 'https://drive.google.com/file/d/1zO8OQFruiOW_crtJWeyNpsUFv1x0IqVp/view?usp=sharing'\n",
        "  \n",
        "import pandas as pd \n",
        "  \n",
        "# to get the id part of the file \n",
        "id = link.split(\"/\")[-2] \n",
        "  \n",
        "downloaded = drive.CreateFile({'id':id})  \n",
        "downloaded.GetContentFile('train_fixed.csv')   \n",
        "  \n",
        "df_train = pd.read_csv('train_fixed.csv') \n",
        "\n",
        "link = 'https://drive.google.com/file/d/1puIY2UlO7_wiynypBJUA4RDEdckN3yTS/view?usp=sharing'\n",
        "  \n",
        "# to get the id part of the file \n",
        "id = link.split(\"/\")[-2] \n",
        "  \n",
        "downloaded = drive.CreateFile({'id':id})  \n",
        "downloaded.GetContentFile('test_fixed.csv')   \n",
        "  \n",
        "df_test = pd.read_csv('test_fixed.csv') "
      ],
      "execution_count": 1,
      "outputs": []
    },
    {
      "cell_type": "code",
      "metadata": {
        "id": "GXi4fvRLv1bM"
      },
      "source": [
        "import numpy as np\n",
        "import pandas as pd\n",
        "import matplotlib.pyplot as plt\n",
        "%matplotlib inline\n",
        "import joblib\n",
        "from sklearn.utils import resample"
      ],
      "execution_count": 2,
      "outputs": []
    },
    {
      "cell_type": "code",
      "metadata": {
        "id": "jGUtWh9atR4D"
      },
      "source": [
        "pd.set_option('display.max_columns', None)"
      ],
      "execution_count": 24,
      "outputs": []
    },
    {
      "cell_type": "code",
      "metadata": {
        "id": "zonbORw1YhUI"
      },
      "source": [
        "pd.options.display.max_columns = None"
      ],
      "execution_count": 3,
      "outputs": []
    },
    {
      "cell_type": "code",
      "metadata": {
        "id": "wsh_oSXf0du2",
        "colab": {
          "base_uri": "https://localhost:8080/",
          "height": 301
        },
        "outputId": "745f5377-2c05-4aa1-dbd1-3fd5d01fe3c5"
      },
      "source": [
        "df_train.head(5)"
      ],
      "execution_count": 4,
      "outputs": [
        {
          "output_type": "execute_result",
          "data": {
            "text/html": [
              "<div>\n",
              "<style scoped>\n",
              "    .dataframe tbody tr th:only-of-type {\n",
              "        vertical-align: middle;\n",
              "    }\n",
              "\n",
              "    .dataframe tbody tr th {\n",
              "        vertical-align: top;\n",
              "    }\n",
              "\n",
              "    .dataframe thead th {\n",
              "        text-align: right;\n",
              "    }\n",
              "</style>\n",
              "<table border=\"1\" class=\"dataframe\">\n",
              "  <thead>\n",
              "    <tr style=\"text-align: right;\">\n",
              "      <th></th>\n",
              "      <th>periodo</th>\n",
              "      <th>per12</th>\n",
              "      <th>pagare</th>\n",
              "      <th>codcli</th>\n",
              "      <th>corper</th>\n",
              "      <th>producto</th>\n",
              "      <th>sub_producto</th>\n",
              "      <th>default12</th>\n",
              "      <th>descre</th>\n",
              "      <th>tipcre</th>\n",
              "      <th>grupo</th>\n",
              "      <th>sector</th>\n",
              "      <th>cladeu</th>\n",
              "      <th>cladeumax3</th>\n",
              "      <th>cladeumax6</th>\n",
              "      <th>cladeumax12</th>\n",
              "      <th>cladeumat</th>\n",
              "      <th>cladeumatmax3</th>\n",
              "      <th>cladeumatmax6</th>\n",
              "      <th>cladeumatmax12</th>\n",
              "      <th>saldo</th>\n",
              "      <th>saldoprom3</th>\n",
              "      <th>saldomax3</th>\n",
              "      <th>montodes</th>\n",
              "      <th>saldorcc</th>\n",
              "      <th>saldoprom6</th>\n",
              "      <th>saldoprom12</th>\n",
              "      <th>saldomax6</th>\n",
              "      <th>saldomax12</th>\n",
              "      <th>condiaprom6</th>\n",
              "      <th>condiaprom12</th>\n",
              "      <th>condiamatprom3</th>\n",
              "      <th>condiamatprom6</th>\n",
              "      <th>condiamatprom12</th>\n",
              "      <th>saldo103prom3</th>\n",
              "      <th>saldo103prom6</th>\n",
              "      <th>saldo103prom12</th>\n",
              "      <th>nentdir</th>\n",
              "      <th>nentdirprom3</th>\n",
              "      <th>nentdirprom6</th>\n",
              "      <th>nentdirprom12</th>\n",
              "      <th>nentdirmax3</th>\n",
              "      <th>nentdirmax6</th>\n",
              "      <th>nentdirmax12</th>\n",
              "      <th>porsaldopyme</th>\n",
              "      <th>saldopymeprom3</th>\n",
              "      <th>saldopymeprom6</th>\n",
              "      <th>saldopymeprom12</th>\n",
              "      <th>dctmg00</th>\n",
              "      <th>dctmg01</th>\n",
              "      <th>dctmg02</th>\n",
              "      <th>dctmg03</th>\n",
              "      <th>dctmg04</th>\n",
              "      <th>dctmg05</th>\n",
              "      <th>varsldo3</th>\n",
              "      <th>varsldo6</th>\n",
              "      <th>varsldo12</th>\n",
              "      <th>varpdm3</th>\n",
              "      <th>varpdm6</th>\n",
              "      <th>varpdm12</th>\n",
              "      <th>varnent3</th>\n",
              "      <th>varnent6</th>\n",
              "      <th>varnent12</th>\n",
              "      <th>varpyme3</th>\n",
              "      <th>varpyme6</th>\n",
              "      <th>varpyme12</th>\n",
              "      <th>v1_ventas_al_contado</th>\n",
              "      <th>v999_ventas_netas</th>\n",
              "      <th>v4_mercaderias_insumos_y_servicio</th>\n",
              "      <th>v999_costo_de_ventas</th>\n",
              "      <th>v9_gastos_de_ventas</th>\n",
              "      <th>v10_gastos_generales_y_administrativos</th>\n",
              "      <th>v100_total_gastos_de_operacion</th>\n",
              "      <th>v120_gastos_generales_y_administrativos</th>\n",
              "      <th>v18_gastos_financieros</th>\n",
              "      <th>v101_utilidad_bruta</th>\n",
              "      <th>v102_utilidad_operativo</th>\n",
              "      <th>v103_utilidad_perdida_antes_de_impuestos</th>\n",
              "      <th>v105_utilidad_perdida_neta</th>\n",
              "      <th>v106_liquidez_disponible</th>\n",
              "      <th>v107_utilidad_del_negocio</th>\n",
              "      <th>v900_liquidez_corriente</th>\n",
              "      <th>v901_activos_relacion_acida</th>\n",
              "      <th>v902_pasivos_relacion_acida</th>\n",
              "      <th>v903_total_activos</th>\n",
              "      <th>v904_total_pasivos</th>\n",
              "      <th>v905_tot_pasivos_gananec_diferidas_pat_neto</th>\n",
              "      <th>v906_activo_fijo</th>\n",
              "      <th>v911_relacion_acida</th>\n",
              "      <th>v914_rotacion_de_inventarios</th>\n",
              "      <th>v915_dias_de_inventario</th>\n",
              "      <th>v917_ciclo_financiero</th>\n",
              "      <th>v920_relacion_de_ventas_y_activo_fijo</th>\n",
              "      <th>v921_capital_de_trabajo</th>\n",
              "      <th>v922_rotacion_de_kw_bruto</th>\n",
              "      <th>v923_rotacion_patrimonial</th>\n",
              "      <th>v901_grado_de_patrimonio</th>\n",
              "      <th>v902_endeudamiento_patrimonial</th>\n",
              "      <th>v902_gastos_operativos</th>\n",
              "      <th>v905_rentabilidad_de_ventas</th>\n",
              "      <th>v901_apalancamiento</th>\n",
              "      <th>v903_pasivos_cp_tot_pasivos_patrimonio</th>\n",
              "      <th>v905_patrimonio_tot_pasivo_patrimonio</th>\n",
              "      <th>v901_activo_fijo_patrimonio</th>\n",
              "      <th>v1_otros_ingresos_familiares</th>\n",
              "      <th>v999_total_ingresos</th>\n",
              "      <th>v110_utilidad_del_negocio</th>\n",
              "      <th>v3_servicios_luz</th>\n",
              "      <th>v4_servicios_agua</th>\n",
              "      <th>v998_total_consumo_familiar</th>\n",
              "      <th>v999_total_egresos_uef</th>\n",
              "      <th>v999_liquidez_disponible</th>\n",
              "      <th>v100_caja_y_bancos</th>\n",
              "      <th>v101_caja</th>\n",
              "      <th>v120_clientes</th>\n",
              "      <th>v121_facturas_por_cobrar</th>\n",
              "      <th>v160_cuentas_por_cobrar_diversas</th>\n",
              "      <th>v168_otras_cuentas_por_cobrar_diversas</th>\n",
              "      <th>v200_inventarios</th>\n",
              "      <th>v201_mercaderia</th>\n",
              "      <th>v212_otros_activos_corrientes</th>\n",
              "      <th>v330_inmuebles_maquinaria_y_equipo</th>\n",
              "      <th>v451_deudas_a_largo_plazo</th>\n",
              "      <th>v500_capital</th>\n",
              "      <th>v501_capital_personal</th>\n",
              "      <th>v599_utilidad_perdida_neta</th>\n",
              "      <th>v999_total_activos_corrientes</th>\n",
              "      <th>v999_total_activos_no_corrientes</th>\n",
              "      <th>v999_total_pasivos_corrientes</th>\n",
              "      <th>v999_total_pasivos_no_corrientes</th>\n",
              "      <th>v4_mercaderias_insumos_y_servicio_999_ventas_netas</th>\n",
              "      <th>v999_costo_de_ventas_999_ventas_netas</th>\n",
              "      <th>v100_total_gastos_de_operacion_999_ventas_netas</th>\n",
              "      <th>v110_gastos_de_ventas_999_ventas_netas</th>\n",
              "      <th>v120_gastos_generales_y_administrativos_999_ventas_netas</th>\n",
              "      <th>v200_inventarios_903_total_activos</th>\n",
              "      <th>v106_liquidez_disponible_999_total_patrimonio_neto</th>\n",
              "      <th>v106_liquidez_disponible_903_total_activos</th>\n",
              "      <th>v100_caja_y_bancos_903_total_activos</th>\n",
              "      <th>v451_deudas_a_largo_plazo__999_total_pasivos_corrientes_999_total_pasivos_no_corrientes</th>\n",
              "      <th>v906_activo_fijo_903_total_activos</th>\n",
              "      <th>v999_total_activos_corrientes_903_total_activos</th>\n",
              "      <th>v999_total_activos_no_corrientes_903_total_activos</th>\n",
              "      <th>v904_total_pasivos_999_total_patrimonio_neto</th>\n",
              "      <th>v107_utilidad_del_negocio_999_ventas_netas</th>\n",
              "      <th>v107_utilidad_del_negocio_999_total_patrimonio_neto</th>\n",
              "      <th>v330_inmuebles_maquinaria_y_equipo_903_total_activos</th>\n",
              "      <th>v451_deudas_a_largo_plazo_999_total_patrimonio_neto</th>\n",
              "      <th>v998_total_consumo_familiar_999_ventas_netas</th>\n",
              "      <th>clasoc</th>\n",
              "      <th>concred_cladef</th>\n",
              "      <th>genero</th>\n",
              "      <th>tipovi</th>\n",
              "      <th>estadciv</th>\n",
              "      <th>ubidepa</th>\n",
              "      <th>sectec</th>\n",
              "      <th>niveduc</th>\n",
              "      <th>ocupa</th>\n",
              "      <th>produc</th>\n",
              "      <th>his_saldo</th>\n",
              "      <th>edad</th>\n",
              "      <th>saldobd1</th>\n",
              "      <th>plazobd1</th>\n",
              "      <th>tasa</th>\n",
              "      <th>couta</th>\n",
              "      <th>monga</th>\n",
              "      <th>his_saldo_prom_03meses</th>\n",
              "      <th>his_saldo_prom_06meses</th>\n",
              "      <th>his_saldo_prom_12meses</th>\n",
              "      <th>his_saldo_max_03meses</th>\n",
              "      <th>his_saldo_max_06meses</th>\n",
              "      <th>his_saldo_max_12meses</th>\n",
              "      <th>his_saldo_var_03meses</th>\n",
              "      <th>his_saldo_var_06meses</th>\n",
              "      <th>his_saldo_var_12meses</th>\n",
              "      <th>his_ant_tot_cred</th>\n",
              "      <th>saldo_cuenta</th>\n",
              "      <th>total_saldo_cuenta</th>\n",
              "      <th>promedio_sal_m03</th>\n",
              "      <th>promedio_sal_m06</th>\n",
              "      <th>promedio_sal_m12</th>\n",
              "      <th>saldo_maximo_m03</th>\n",
              "      <th>saldo_maximo_m06</th>\n",
              "      <th>saldo_maximo_m12</th>\n",
              "      <th>antig_depos_vigen</th>\n",
              "      <th>antig_total_depos</th>\n",
              "      <th>antig_tot_cred_dep</th>\n",
              "      <th>suma_total_deposi</th>\n",
              "      <th>concred_claint</th>\n",
              "      <th>segdesgra</th>\n",
              "      <th>segtodoriesgo</th>\n",
              "      <th>segvida</th>\n",
              "      <th>provision</th>\n",
              "      <th>concred_tasade</th>\n",
              "      <th>rentabilidad</th>\n",
              "      <th>fechavista</th>\n",
              "    </tr>\n",
              "  </thead>\n",
              "  <tbody>\n",
              "    <tr>\n",
              "      <th>0</th>\n",
              "      <td>201603</td>\n",
              "      <td>24195</td>\n",
              "      <td>0</td>\n",
              "      <td>0</td>\n",
              "      <td>1373</td>\n",
              "      <td>80</td>\n",
              "      <td>0</td>\n",
              "      <td>0</td>\n",
              "      <td>3</td>\n",
              "      <td>9</td>\n",
              "      <td>1</td>\n",
              "      <td>3</td>\n",
              "      <td>1</td>\n",
              "      <td>1</td>\n",
              "      <td>1</td>\n",
              "      <td>1</td>\n",
              "      <td>1</td>\n",
              "      <td>1</td>\n",
              "      <td>1</td>\n",
              "      <td>1</td>\n",
              "      <td>10000.0</td>\n",
              "      <td>46706.0198</td>\n",
              "      <td>85004.1938</td>\n",
              "      <td>10000.0</td>\n",
              "      <td>87007.8415</td>\n",
              "      <td>45935.594600</td>\n",
              "      <td>65346.541440</td>\n",
              "      <td>60517.563</td>\n",
              "      <td>65000.00</td>\n",
              "      <td>0.0</td>\n",
              "      <td>0.0</td>\n",
              "      <td>0.0</td>\n",
              "      <td>0.0</td>\n",
              "      <td>0.0</td>\n",
              "      <td>27925.3808</td>\n",
              "      <td>32788.22</td>\n",
              "      <td>30252.08</td>\n",
              "      <td>4.0</td>\n",
              "      <td>4.0</td>\n",
              "      <td>4.0</td>\n",
              "      <td>4.0</td>\n",
              "      <td>5.0</td>\n",
              "      <td>5.0</td>\n",
              "      <td>5.0</td>\n",
              "      <td>1.0</td>\n",
              "      <td>19627.9664</td>\n",
              "      <td>21107.344</td>\n",
              "      <td>36878.5655</td>\n",
              "      <td>1.0</td>\n",
              "      <td>0.0</td>\n",
              "      <td>1.0</td>\n",
              "      <td>1.0</td>\n",
              "      <td>0.0</td>\n",
              "      <td>1.0</td>\n",
              "      <td>1.000000</td>\n",
              "      <td>1.000000</td>\n",
              "      <td>1.000000</td>\n",
              "      <td>0.160421</td>\n",
              "      <td>0.144791</td>\n",
              "      <td>0.116211</td>\n",
              "      <td>1.0</td>\n",
              "      <td>1.0</td>\n",
              "      <td>1.0</td>\n",
              "      <td>1.000000</td>\n",
              "      <td>1.000000</td>\n",
              "      <td>1.000000</td>\n",
              "      <td>23160.0</td>\n",
              "      <td>26166.0</td>\n",
              "      <td>28115.67</td>\n",
              "      <td>23319.6</td>\n",
              "      <td>5800.0</td>\n",
              "      <td>750.0</td>\n",
              "      <td>4250.0</td>\n",
              "      <td>750.0</td>\n",
              "      <td>2650.0</td>\n",
              "      <td>24000.0</td>\n",
              "      <td>16347.0</td>\n",
              "      <td>9170.0</td>\n",
              "      <td>7646.85</td>\n",
              "      <td>4388.93</td>\n",
              "      <td>8337.682</td>\n",
              "      <td>1.06</td>\n",
              "      <td>8500.0</td>\n",
              "      <td>37434.8</td>\n",
              "      <td>231425.0</td>\n",
              "      <td>97460.6</td>\n",
              "      <td>178802.2</td>\n",
              "      <td>83800.0</td>\n",
              "      <td>0.09</td>\n",
              "      <td>0.51</td>\n",
              "      <td>58.47</td>\n",
              "      <td>58.47</td>\n",
              "      <td>0.59</td>\n",
              "      <td>18410.0</td>\n",
              "      <td>0.58</td>\n",
              "      <td>0.55</td>\n",
              "      <td>52.77</td>\n",
              "      <td>0.89</td>\n",
              "      <td>6554.4</td>\n",
              "      <td>4.93</td>\n",
              "      <td>0.89</td>\n",
              "      <td>47.22</td>\n",
              "      <td>52.77</td>\n",
              "      <td>0.94</td>\n",
              "      <td>NaN</td>\n",
              "      <td>7990.8615</td>\n",
              "      <td>4190.0</td>\n",
              "      <td>100.0</td>\n",
              "      <td>25.0</td>\n",
              "      <td>1130.0</td>\n",
              "      <td>1130.0</td>\n",
              "      <td>6425.92</td>\n",
              "      <td>12000.0</td>\n",
              "      <td>4000.0</td>\n",
              "      <td>12000.0</td>\n",
              "      <td>12000.0</td>\n",
              "      <td>NaN</td>\n",
              "      <td>NaN</td>\n",
              "      <td>45000.0</td>\n",
              "      <td>44750.0</td>\n",
              "      <td>NaN</td>\n",
              "      <td>149520.0</td>\n",
              "      <td>NaN</td>\n",
              "      <td>125329.0</td>\n",
              "      <td>156293.13</td>\n",
              "      <td>9170.0</td>\n",
              "      <td>87000.0</td>\n",
              "      <td>152500.0</td>\n",
              "      <td>61292.7695</td>\n",
              "      <td>NaN</td>\n",
              "      <td>0.796984</td>\n",
              "      <td>0.796984</td>\n",
              "      <td>0.035272</td>\n",
              "      <td>0.031233</td>\n",
              "      <td>0.004039</td>\n",
              "      <td>0.458630</td>\n",
              "      <td>0.026634</td>\n",
              "      <td>0.000044</td>\n",
              "      <td>0.023849</td>\n",
              "      <td>NaN</td>\n",
              "      <td>0.498442</td>\n",
              "      <td>0.501558</td>\n",
              "      <td>0.498442</td>\n",
              "      <td>0.894972</td>\n",
              "      <td>0.053689</td>\n",
              "      <td>0.030038</td>\n",
              "      <td>0.498442</td>\n",
              "      <td>NaN</td>\n",
              "      <td>0.008129</td>\n",
              "      <td>1</td>\n",
              "      <td>1</td>\n",
              "      <td>0.0</td>\n",
              "      <td>2</td>\n",
              "      <td>3</td>\n",
              "      <td>4</td>\n",
              "      <td>3</td>\n",
              "      <td>3</td>\n",
              "      <td>2</td>\n",
              "      <td>1</td>\n",
              "      <td>23914.142</td>\n",
              "      <td>50</td>\n",
              "      <td>10000.0</td>\n",
              "      <td>90</td>\n",
              "      <td>18.00</td>\n",
              "      <td>1</td>\n",
              "      <td>14921.3175</td>\n",
              "      <td>25000.00</td>\n",
              "      <td>27250.2008</td>\n",
              "      <td>29202.23</td>\n",
              "      <td>0.0</td>\n",
              "      <td>0.0</td>\n",
              "      <td>0.0</td>\n",
              "      <td>0.918</td>\n",
              "      <td>0.773</td>\n",
              "      <td>0.698</td>\n",
              "      <td>61.0</td>\n",
              "      <td>0.53</td>\n",
              "      <td>71.0644</td>\n",
              "      <td>142.1624</td>\n",
              "      <td>313.5864</td>\n",
              "      <td>561.685</td>\n",
              "      <td>1015.8434</td>\n",
              "      <td>1244.105</td>\n",
              "      <td>3006.46</td>\n",
              "      <td>12.0</td>\n",
              "      <td>96.0</td>\n",
              "      <td>160.0</td>\n",
              "      <td>61.0</td>\n",
              "      <td>0</td>\n",
              "      <td>1</td>\n",
              "      <td>0</td>\n",
              "      <td>0</td>\n",
              "      <td>100.0</td>\n",
              "      <td>18.00</td>\n",
              "      <td>180000.0</td>\n",
              "      <td>10/25/19 19:03</td>\n",
              "    </tr>\n",
              "    <tr>\n",
              "      <th>1</th>\n",
              "      <td>201409</td>\n",
              "      <td>24177</td>\n",
              "      <td>0</td>\n",
              "      <td>0</td>\n",
              "      <td>7563</td>\n",
              "      <td>80</td>\n",
              "      <td>0</td>\n",
              "      <td>0</td>\n",
              "      <td>3</td>\n",
              "      <td>10</td>\n",
              "      <td>3</td>\n",
              "      <td>3</td>\n",
              "      <td>1</td>\n",
              "      <td>1</td>\n",
              "      <td>1</td>\n",
              "      <td>1</td>\n",
              "      <td>1</td>\n",
              "      <td>1</td>\n",
              "      <td>1</td>\n",
              "      <td>1</td>\n",
              "      <td>2000.0</td>\n",
              "      <td>259.4200</td>\n",
              "      <td>383.5800</td>\n",
              "      <td>2000.0</td>\n",
              "      <td>133.5500</td>\n",
              "      <td>319.565000</td>\n",
              "      <td>319.565000</td>\n",
              "      <td>500.000</td>\n",
              "      <td>500.00</td>\n",
              "      <td>0.0</td>\n",
              "      <td>0.0</td>\n",
              "      <td>0.0</td>\n",
              "      <td>0.0</td>\n",
              "      <td>0.0</td>\n",
              "      <td>259.4200</td>\n",
              "      <td>319.56</td>\n",
              "      <td>319.56</td>\n",
              "      <td>1.0</td>\n",
              "      <td>1.0</td>\n",
              "      <td>1.0</td>\n",
              "      <td>1.0</td>\n",
              "      <td>1.0</td>\n",
              "      <td>1.0</td>\n",
              "      <td>1.0</td>\n",
              "      <td>0.0</td>\n",
              "      <td>0.0000</td>\n",
              "      <td>0.000</td>\n",
              "      <td>0.0000</td>\n",
              "      <td>1.0</td>\n",
              "      <td>0.0</td>\n",
              "      <td>0.0</td>\n",
              "      <td>0.0</td>\n",
              "      <td>0.0</td>\n",
              "      <td>0.0</td>\n",
              "      <td>0.514802</td>\n",
              "      <td>0.417912</td>\n",
              "      <td>0.417912</td>\n",
              "      <td>1.000000</td>\n",
              "      <td>0.999984</td>\n",
              "      <td>0.999984</td>\n",
              "      <td>1.0</td>\n",
              "      <td>1.0</td>\n",
              "      <td>1.0</td>\n",
              "      <td>0.196524</td>\n",
              "      <td>0.253367</td>\n",
              "      <td>0.284487</td>\n",
              "      <td>15600.0</td>\n",
              "      <td>15600.0</td>\n",
              "      <td>8400.00</td>\n",
              "      <td>8400.0</td>\n",
              "      <td>NaN</td>\n",
              "      <td>2020.0</td>\n",
              "      <td>2020.0</td>\n",
              "      <td>2020.0</td>\n",
              "      <td>2650.0</td>\n",
              "      <td>7200.0</td>\n",
              "      <td>5180.0</td>\n",
              "      <td>1814.0</td>\n",
              "      <td>1814.00</td>\n",
              "      <td>1064.00</td>\n",
              "      <td>1814.000</td>\n",
              "      <td>NaN</td>\n",
              "      <td>900.0</td>\n",
              "      <td>37434.8</td>\n",
              "      <td>200900.0</td>\n",
              "      <td>97460.6</td>\n",
              "      <td>178802.2</td>\n",
              "      <td>83800.0</td>\n",
              "      <td>NaN</td>\n",
              "      <td>NaN</td>\n",
              "      <td>NaN</td>\n",
              "      <td>NaN</td>\n",
              "      <td>0.07</td>\n",
              "      <td>-760.0</td>\n",
              "      <td>8.05</td>\n",
              "      <td>0.27</td>\n",
              "      <td>33.64</td>\n",
              "      <td>1.39</td>\n",
              "      <td>5386.0</td>\n",
              "      <td>11.62</td>\n",
              "      <td>0.94</td>\n",
              "      <td>55.86</td>\n",
              "      <td>45.80</td>\n",
              "      <td>1.71</td>\n",
              "      <td>NaN</td>\n",
              "      <td>1814.0000</td>\n",
              "      <td>1814.0</td>\n",
              "      <td>50.0</td>\n",
              "      <td>30.0</td>\n",
              "      <td>750.0</td>\n",
              "      <td>750.0</td>\n",
              "      <td>1064.00</td>\n",
              "      <td>900.0</td>\n",
              "      <td>900.0</td>\n",
              "      <td>NaN</td>\n",
              "      <td>NaN</td>\n",
              "      <td>NaN</td>\n",
              "      <td>NaN</td>\n",
              "      <td>NaN</td>\n",
              "      <td>NaN</td>\n",
              "      <td>NaN</td>\n",
              "      <td>149520.0</td>\n",
              "      <td>NaN</td>\n",
              "      <td>55086.0</td>\n",
              "      <td>55086.00</td>\n",
              "      <td>1814.0</td>\n",
              "      <td>900.0</td>\n",
              "      <td>152500.0</td>\n",
              "      <td>61292.7695</td>\n",
              "      <td>NaN</td>\n",
              "      <td>0.538462</td>\n",
              "      <td>0.538462</td>\n",
              "      <td>0.129487</td>\n",
              "      <td>NaN</td>\n",
              "      <td>0.116734</td>\n",
              "      <td>NaN</td>\n",
              "      <td>0.018699</td>\n",
              "      <td>0.000044</td>\n",
              "      <td>0.004480</td>\n",
              "      <td>NaN</td>\n",
              "      <td>0.990396</td>\n",
              "      <td>0.005848</td>\n",
              "      <td>0.793336</td>\n",
              "      <td>2.254158</td>\n",
              "      <td>0.116282</td>\n",
              "      <td>0.031880</td>\n",
              "      <td>0.995520</td>\n",
              "      <td>NaN</td>\n",
              "      <td>0.048077</td>\n",
              "      <td>1</td>\n",
              "      <td>1</td>\n",
              "      <td>0.0</td>\n",
              "      <td>1</td>\n",
              "      <td>3</td>\n",
              "      <td>5</td>\n",
              "      <td>4</td>\n",
              "      <td>3</td>\n",
              "      <td>2</td>\n",
              "      <td>1</td>\n",
              "      <td>133.550</td>\n",
              "      <td>32</td>\n",
              "      <td>2000.0</td>\n",
              "      <td>374</td>\n",
              "      <td>42.58</td>\n",
              "      <td>12</td>\n",
              "      <td>0.0000</td>\n",
              "      <td>259.42</td>\n",
              "      <td>330.3530</td>\n",
              "      <td>340.88</td>\n",
              "      <td>0.0</td>\n",
              "      <td>0.0</td>\n",
              "      <td>0.0</td>\n",
              "      <td>0.514</td>\n",
              "      <td>0.417</td>\n",
              "      <td>0.417</td>\n",
              "      <td>3.0</td>\n",
              "      <td>0.00</td>\n",
              "      <td>0.0000</td>\n",
              "      <td>0.0000</td>\n",
              "      <td>0.0000</td>\n",
              "      <td>0.000</td>\n",
              "      <td>0.0000</td>\n",
              "      <td>0.000</td>\n",
              "      <td>0.00</td>\n",
              "      <td>0.0</td>\n",
              "      <td>0.0</td>\n",
              "      <td>3.0</td>\n",
              "      <td>0.0</td>\n",
              "      <td>0</td>\n",
              "      <td>1</td>\n",
              "      <td>0</td>\n",
              "      <td>0</td>\n",
              "      <td>30.0</td>\n",
              "      <td>42.58</td>\n",
              "      <td>85160.0</td>\n",
              "      <td>10/25/19 19:03</td>\n",
              "    </tr>\n",
              "    <tr>\n",
              "      <th>2</th>\n",
              "      <td>201510</td>\n",
              "      <td>24190</td>\n",
              "      <td>0</td>\n",
              "      <td>0</td>\n",
              "      <td>12</td>\n",
              "      <td>80</td>\n",
              "      <td>22</td>\n",
              "      <td>0</td>\n",
              "      <td>3</td>\n",
              "      <td>10</td>\n",
              "      <td>1</td>\n",
              "      <td>3</td>\n",
              "      <td>1</td>\n",
              "      <td>1</td>\n",
              "      <td>2</td>\n",
              "      <td>2</td>\n",
              "      <td>1</td>\n",
              "      <td>1</td>\n",
              "      <td>2</td>\n",
              "      <td>2</td>\n",
              "      <td>1000.0</td>\n",
              "      <td>5442.7100</td>\n",
              "      <td>6211.2200</td>\n",
              "      <td>1000.0</td>\n",
              "      <td>4723.3600</td>\n",
              "      <td>6635.203333</td>\n",
              "      <td>8710.810833</td>\n",
              "      <td>8594.380</td>\n",
              "      <td>12163.35</td>\n",
              "      <td>5.0</td>\n",
              "      <td>5.0</td>\n",
              "      <td>0.0</td>\n",
              "      <td>5.0</td>\n",
              "      <td>5.0</td>\n",
              "      <td>4031.0900</td>\n",
              "      <td>4527.19</td>\n",
              "      <td>5379.62</td>\n",
              "      <td>2.0</td>\n",
              "      <td>2.0</td>\n",
              "      <td>2.0</td>\n",
              "      <td>2.0</td>\n",
              "      <td>3.0</td>\n",
              "      <td>3.0</td>\n",
              "      <td>3.0</td>\n",
              "      <td>1.0</td>\n",
              "      <td>5386.9000</td>\n",
              "      <td>6394.820</td>\n",
              "      <td>7265.0200</td>\n",
              "      <td>1.0</td>\n",
              "      <td>0.0</td>\n",
              "      <td>0.0</td>\n",
              "      <td>1.0</td>\n",
              "      <td>0.0</td>\n",
              "      <td>1.0</td>\n",
              "      <td>0.867832</td>\n",
              "      <td>0.711864</td>\n",
              "      <td>0.542241</td>\n",
              "      <td>0.740640</td>\n",
              "      <td>0.682299</td>\n",
              "      <td>0.617580</td>\n",
              "      <td>1.0</td>\n",
              "      <td>1.0</td>\n",
              "      <td>1.0</td>\n",
              "      <td>0.989746</td>\n",
              "      <td>0.963772</td>\n",
              "      <td>0.834023</td>\n",
              "      <td>6400.0</td>\n",
              "      <td>6400.0</td>\n",
              "      <td>4480.00</td>\n",
              "      <td>4480.0</td>\n",
              "      <td>NaN</td>\n",
              "      <td>200.0</td>\n",
              "      <td>200.0</td>\n",
              "      <td>200.0</td>\n",
              "      <td>180.0</td>\n",
              "      <td>1920.0</td>\n",
              "      <td>1320.0</td>\n",
              "      <td>1140.0</td>\n",
              "      <td>1140.00</td>\n",
              "      <td>830.00</td>\n",
              "      <td>1540.000</td>\n",
              "      <td>3.19</td>\n",
              "      <td>1500.0</td>\n",
              "      <td>4701.0</td>\n",
              "      <td>18200.0</td>\n",
              "      <td>4701.0</td>\n",
              "      <td>18200.0</td>\n",
              "      <td>250.0</td>\n",
              "      <td>0.31</td>\n",
              "      <td>0.33</td>\n",
              "      <td>90.40</td>\n",
              "      <td>90.40</td>\n",
              "      <td>3.73</td>\n",
              "      <td>10299.0</td>\n",
              "      <td>0.42</td>\n",
              "      <td>0.47</td>\n",
              "      <td>74.17</td>\n",
              "      <td>0.34</td>\n",
              "      <td>380.0</td>\n",
              "      <td>17.81</td>\n",
              "      <td>0.34</td>\n",
              "      <td>25.82</td>\n",
              "      <td>74.17</td>\n",
              "      <td>0.16</td>\n",
              "      <td>NaN</td>\n",
              "      <td>1540.0000</td>\n",
              "      <td>1540.0</td>\n",
              "      <td>NaN</td>\n",
              "      <td>NaN</td>\n",
              "      <td>610.0</td>\n",
              "      <td>710.0</td>\n",
              "      <td>830.00</td>\n",
              "      <td>1500.0</td>\n",
              "      <td>1500.0</td>\n",
              "      <td>NaN</td>\n",
              "      <td>NaN</td>\n",
              "      <td>NaN</td>\n",
              "      <td>NaN</td>\n",
              "      <td>13500.0</td>\n",
              "      <td>13500.0</td>\n",
              "      <td>NaN</td>\n",
              "      <td>250.0</td>\n",
              "      <td>NaN</td>\n",
              "      <td>12359.0</td>\n",
              "      <td>12359.00</td>\n",
              "      <td>1140.0</td>\n",
              "      <td>15000.0</td>\n",
              "      <td>3200.0</td>\n",
              "      <td>4701.0000</td>\n",
              "      <td>NaN</td>\n",
              "      <td>0.700000</td>\n",
              "      <td>0.700000</td>\n",
              "      <td>0.031250</td>\n",
              "      <td>NaN</td>\n",
              "      <td>0.031250</td>\n",
              "      <td>0.741758</td>\n",
              "      <td>0.061486</td>\n",
              "      <td>0.000044</td>\n",
              "      <td>0.082418</td>\n",
              "      <td>NaN</td>\n",
              "      <td>0.021738</td>\n",
              "      <td>0.824176</td>\n",
              "      <td>0.175824</td>\n",
              "      <td>0.348248</td>\n",
              "      <td>0.240625</td>\n",
              "      <td>0.114083</td>\n",
              "      <td>0.010989</td>\n",
              "      <td>NaN</td>\n",
              "      <td>0.095312</td>\n",
              "      <td>1</td>\n",
              "      <td>1</td>\n",
              "      <td>0.0</td>\n",
              "      <td>1</td>\n",
              "      <td>3</td>\n",
              "      <td>0</td>\n",
              "      <td>4</td>\n",
              "      <td>3</td>\n",
              "      <td>2</td>\n",
              "      <td>1</td>\n",
              "      <td>3685.450</td>\n",
              "      <td>44</td>\n",
              "      <td>1000.0</td>\n",
              "      <td>90</td>\n",
              "      <td>57.35</td>\n",
              "      <td>1</td>\n",
              "      <td>0.0000</td>\n",
              "      <td>4031.09</td>\n",
              "      <td>4527.1900</td>\n",
              "      <td>5379.62</td>\n",
              "      <td>0.0</td>\n",
              "      <td>0.0</td>\n",
              "      <td>0.0</td>\n",
              "      <td>0.914</td>\n",
              "      <td>0.773</td>\n",
              "      <td>0.685</td>\n",
              "      <td>61.0</td>\n",
              "      <td>5.32</td>\n",
              "      <td>5.3200</td>\n",
              "      <td>9.3000</td>\n",
              "      <td>15.2800</td>\n",
              "      <td>19.460</td>\n",
              "      <td>13.2900</td>\n",
              "      <td>25.240</td>\n",
              "      <td>41.12</td>\n",
              "      <td>84.0</td>\n",
              "      <td>0.0</td>\n",
              "      <td>118.0</td>\n",
              "      <td>24.0</td>\n",
              "      <td>0</td>\n",
              "      <td>1</td>\n",
              "      <td>0</td>\n",
              "      <td>0</td>\n",
              "      <td>10.0</td>\n",
              "      <td>57.35</td>\n",
              "      <td>57350.0</td>\n",
              "      <td>10/25/19 19:03</td>\n",
              "    </tr>\n",
              "    <tr>\n",
              "      <th>3</th>\n",
              "      <td>201509</td>\n",
              "      <td>24189</td>\n",
              "      <td>0</td>\n",
              "      <td>0</td>\n",
              "      <td>2863</td>\n",
              "      <td>80</td>\n",
              "      <td>22</td>\n",
              "      <td>0</td>\n",
              "      <td>3</td>\n",
              "      <td>10</td>\n",
              "      <td>1</td>\n",
              "      <td>3</td>\n",
              "      <td>1</td>\n",
              "      <td>1</td>\n",
              "      <td>1</td>\n",
              "      <td>1</td>\n",
              "      <td>1</td>\n",
              "      <td>1</td>\n",
              "      <td>1</td>\n",
              "      <td>1</td>\n",
              "      <td>10000.0</td>\n",
              "      <td>NaN</td>\n",
              "      <td>NaN</td>\n",
              "      <td>10000.0</td>\n",
              "      <td>NaN</td>\n",
              "      <td>NaN</td>\n",
              "      <td>NaN</td>\n",
              "      <td>NaN</td>\n",
              "      <td>NaN</td>\n",
              "      <td>NaN</td>\n",
              "      <td>NaN</td>\n",
              "      <td>NaN</td>\n",
              "      <td>NaN</td>\n",
              "      <td>NaN</td>\n",
              "      <td>NaN</td>\n",
              "      <td>NaN</td>\n",
              "      <td>NaN</td>\n",
              "      <td>NaN</td>\n",
              "      <td>NaN</td>\n",
              "      <td>NaN</td>\n",
              "      <td>NaN</td>\n",
              "      <td>NaN</td>\n",
              "      <td>NaN</td>\n",
              "      <td>NaN</td>\n",
              "      <td>NaN</td>\n",
              "      <td>NaN</td>\n",
              "      <td>NaN</td>\n",
              "      <td>NaN</td>\n",
              "      <td>NaN</td>\n",
              "      <td>NaN</td>\n",
              "      <td>NaN</td>\n",
              "      <td>NaN</td>\n",
              "      <td>NaN</td>\n",
              "      <td>NaN</td>\n",
              "      <td>NaN</td>\n",
              "      <td>NaN</td>\n",
              "      <td>NaN</td>\n",
              "      <td>NaN</td>\n",
              "      <td>NaN</td>\n",
              "      <td>NaN</td>\n",
              "      <td>NaN</td>\n",
              "      <td>NaN</td>\n",
              "      <td>NaN</td>\n",
              "      <td>NaN</td>\n",
              "      <td>NaN</td>\n",
              "      <td>NaN</td>\n",
              "      <td>19600.0</td>\n",
              "      <td>19600.0</td>\n",
              "      <td>13780.00</td>\n",
              "      <td>13780.0</td>\n",
              "      <td>2425.0</td>\n",
              "      <td>900.0</td>\n",
              "      <td>3325.0</td>\n",
              "      <td>900.0</td>\n",
              "      <td>NaN</td>\n",
              "      <td>5820.0</td>\n",
              "      <td>2495.0</td>\n",
              "      <td>2495.0</td>\n",
              "      <td>2495.00</td>\n",
              "      <td>1850.00</td>\n",
              "      <td>2495.000</td>\n",
              "      <td>NaN</td>\n",
              "      <td>2800.0</td>\n",
              "      <td>NaN</td>\n",
              "      <td>28453.1</td>\n",
              "      <td>NaN</td>\n",
              "      <td>28453.1</td>\n",
              "      <td>14600.0</td>\n",
              "      <td>NaN</td>\n",
              "      <td>1.24</td>\n",
              "      <td>24.06</td>\n",
              "      <td>24.06</td>\n",
              "      <td>1.34</td>\n",
              "      <td>13853.1</td>\n",
              "      <td>1.41</td>\n",
              "      <td>0.68</td>\n",
              "      <td>100.00</td>\n",
              "      <td>NaN</td>\n",
              "      <td>3325.0</td>\n",
              "      <td>12.72</td>\n",
              "      <td>NaN</td>\n",
              "      <td>NaN</td>\n",
              "      <td>99.00</td>\n",
              "      <td>0.51</td>\n",
              "      <td>NaN</td>\n",
              "      <td>2495.0000</td>\n",
              "      <td>2495.0</td>\n",
              "      <td>15.0</td>\n",
              "      <td>NaN</td>\n",
              "      <td>445.0</td>\n",
              "      <td>645.0</td>\n",
              "      <td>1850.00</td>\n",
              "      <td>2000.0</td>\n",
              "      <td>2000.0</td>\n",
              "      <td>800.0</td>\n",
              "      <td>800.0</td>\n",
              "      <td>NaN</td>\n",
              "      <td>NaN</td>\n",
              "      <td>11053.1</td>\n",
              "      <td>11053.1</td>\n",
              "      <td>NaN</td>\n",
              "      <td>14600.0</td>\n",
              "      <td>NaN</td>\n",
              "      <td>25958.1</td>\n",
              "      <td>25958.10</td>\n",
              "      <td>2495.0</td>\n",
              "      <td>13853.1</td>\n",
              "      <td>14600.0</td>\n",
              "      <td>NaN</td>\n",
              "      <td>NaN</td>\n",
              "      <td>0.703061</td>\n",
              "      <td>0.703061</td>\n",
              "      <td>0.150343</td>\n",
              "      <td>0.111111</td>\n",
              "      <td>0.045918</td>\n",
              "      <td>0.388467</td>\n",
              "      <td>0.065019</td>\n",
              "      <td>0.000044</td>\n",
              "      <td>0.070291</td>\n",
              "      <td>NaN</td>\n",
              "      <td>0.513125</td>\n",
              "      <td>0.486875</td>\n",
              "      <td>0.513125</td>\n",
              "      <td>NaN</td>\n",
              "      <td>0.127296</td>\n",
              "      <td>0.087688</td>\n",
              "      <td>0.513125</td>\n",
              "      <td>NaN</td>\n",
              "      <td>0.022704</td>\n",
              "      <td>1</td>\n",
              "      <td>1</td>\n",
              "      <td>1.0</td>\n",
              "      <td>1</td>\n",
              "      <td>3</td>\n",
              "      <td>4</td>\n",
              "      <td>4</td>\n",
              "      <td>3</td>\n",
              "      <td>2</td>\n",
              "      <td>1</td>\n",
              "      <td>NaN</td>\n",
              "      <td>24</td>\n",
              "      <td>10000.0</td>\n",
              "      <td>458</td>\n",
              "      <td>50.10</td>\n",
              "      <td>15</td>\n",
              "      <td>2000.0000</td>\n",
              "      <td>NaN</td>\n",
              "      <td>NaN</td>\n",
              "      <td>NaN</td>\n",
              "      <td>NaN</td>\n",
              "      <td>NaN</td>\n",
              "      <td>NaN</td>\n",
              "      <td>NaN</td>\n",
              "      <td>NaN</td>\n",
              "      <td>NaN</td>\n",
              "      <td>NaN</td>\n",
              "      <td>NaN</td>\n",
              "      <td>NaN</td>\n",
              "      <td>NaN</td>\n",
              "      <td>NaN</td>\n",
              "      <td>NaN</td>\n",
              "      <td>NaN</td>\n",
              "      <td>NaN</td>\n",
              "      <td>NaN</td>\n",
              "      <td>NaN</td>\n",
              "      <td>NaN</td>\n",
              "      <td>NaN</td>\n",
              "      <td>NaN</td>\n",
              "      <td>0</td>\n",
              "      <td>1</td>\n",
              "      <td>0</td>\n",
              "      <td>1</td>\n",
              "      <td>100.0</td>\n",
              "      <td>50.10</td>\n",
              "      <td>501000.0</td>\n",
              "      <td>10/25/19 19:03</td>\n",
              "    </tr>\n",
              "    <tr>\n",
              "      <th>4</th>\n",
              "      <td>201404</td>\n",
              "      <td>24172</td>\n",
              "      <td>0</td>\n",
              "      <td>0</td>\n",
              "      <td>3039</td>\n",
              "      <td>80</td>\n",
              "      <td>22</td>\n",
              "      <td>0</td>\n",
              "      <td>3</td>\n",
              "      <td>10</td>\n",
              "      <td>3</td>\n",
              "      <td>3</td>\n",
              "      <td>1</td>\n",
              "      <td>1</td>\n",
              "      <td>1</td>\n",
              "      <td>1</td>\n",
              "      <td>1</td>\n",
              "      <td>1</td>\n",
              "      <td>1</td>\n",
              "      <td>1</td>\n",
              "      <td>2000.0</td>\n",
              "      <td>2012.7750</td>\n",
              "      <td>2314.0000</td>\n",
              "      <td>2000.0</td>\n",
              "      <td>1711.5500</td>\n",
              "      <td>2012.775000</td>\n",
              "      <td>2012.775000</td>\n",
              "      <td>2314.000</td>\n",
              "      <td>2314.00</td>\n",
              "      <td>0.0</td>\n",
              "      <td>0.0</td>\n",
              "      <td>0.0</td>\n",
              "      <td>0.0</td>\n",
              "      <td>0.0</td>\n",
              "      <td>0.0000</td>\n",
              "      <td>0.00</td>\n",
              "      <td>0.00</td>\n",
              "      <td>1.0</td>\n",
              "      <td>1.0</td>\n",
              "      <td>1.0</td>\n",
              "      <td>1.0</td>\n",
              "      <td>1.0</td>\n",
              "      <td>1.0</td>\n",
              "      <td>1.0</td>\n",
              "      <td>0.0</td>\n",
              "      <td>0.0000</td>\n",
              "      <td>0.000</td>\n",
              "      <td>0.0000</td>\n",
              "      <td>0.0</td>\n",
              "      <td>0.0</td>\n",
              "      <td>0.0</td>\n",
              "      <td>0.0</td>\n",
              "      <td>0.0</td>\n",
              "      <td>1.0</td>\n",
              "      <td>0.850343</td>\n",
              "      <td>0.850343</td>\n",
              "      <td>0.850343</td>\n",
              "      <td>0.160421</td>\n",
              "      <td>0.144791</td>\n",
              "      <td>0.116211</td>\n",
              "      <td>1.0</td>\n",
              "      <td>1.0</td>\n",
              "      <td>1.0</td>\n",
              "      <td>0.196524</td>\n",
              "      <td>0.253367</td>\n",
              "      <td>0.284487</td>\n",
              "      <td>1260.0</td>\n",
              "      <td>1260.0</td>\n",
              "      <td>267.00</td>\n",
              "      <td>267.0</td>\n",
              "      <td>NaN</td>\n",
              "      <td>NaN</td>\n",
              "      <td>NaN</td>\n",
              "      <td>NaN</td>\n",
              "      <td>49.0</td>\n",
              "      <td>993.0</td>\n",
              "      <td>793.0</td>\n",
              "      <td>744.0</td>\n",
              "      <td>744.00</td>\n",
              "      <td>534.00</td>\n",
              "      <td>944.000</td>\n",
              "      <td>0.47</td>\n",
              "      <td>400.0</td>\n",
              "      <td>848.0</td>\n",
              "      <td>4900.0</td>\n",
              "      <td>848.0</td>\n",
              "      <td>4900.0</td>\n",
              "      <td>2500.0</td>\n",
              "      <td>0.47</td>\n",
              "      <td>NaN</td>\n",
              "      <td>NaN</td>\n",
              "      <td>NaN</td>\n",
              "      <td>0.50</td>\n",
              "      <td>-448.0</td>\n",
              "      <td>3.15</td>\n",
              "      <td>0.31</td>\n",
              "      <td>82.69</td>\n",
              "      <td>0.20</td>\n",
              "      <td>49.0</td>\n",
              "      <td>45.86</td>\n",
              "      <td>0.20</td>\n",
              "      <td>17.30</td>\n",
              "      <td>82.69</td>\n",
              "      <td>0.61</td>\n",
              "      <td>450.0</td>\n",
              "      <td>1394.0000</td>\n",
              "      <td>944.0</td>\n",
              "      <td>10.0</td>\n",
              "      <td>10.0</td>\n",
              "      <td>810.0</td>\n",
              "      <td>860.0</td>\n",
              "      <td>534.00</td>\n",
              "      <td>400.0</td>\n",
              "      <td>400.0</td>\n",
              "      <td>NaN</td>\n",
              "      <td>NaN</td>\n",
              "      <td>NaN</td>\n",
              "      <td>NaN</td>\n",
              "      <td>NaN</td>\n",
              "      <td>NaN</td>\n",
              "      <td>NaN</td>\n",
              "      <td>2500.0</td>\n",
              "      <td>NaN</td>\n",
              "      <td>3308.0</td>\n",
              "      <td>3308.00</td>\n",
              "      <td>744.0</td>\n",
              "      <td>400.0</td>\n",
              "      <td>4500.0</td>\n",
              "      <td>848.0000</td>\n",
              "      <td>NaN</td>\n",
              "      <td>0.313804</td>\n",
              "      <td>0.315385</td>\n",
              "      <td>NaN</td>\n",
              "      <td>NaN</td>\n",
              "      <td>NaN</td>\n",
              "      <td>NaN</td>\n",
              "      <td>0.131787</td>\n",
              "      <td>0.000044</td>\n",
              "      <td>0.081633</td>\n",
              "      <td>NaN</td>\n",
              "      <td>0.510204</td>\n",
              "      <td>0.081633</td>\n",
              "      <td>0.793336</td>\n",
              "      <td>0.209279</td>\n",
              "      <td>0.519231</td>\n",
              "      <td>0.232971</td>\n",
              "      <td>0.510204</td>\n",
              "      <td>NaN</td>\n",
              "      <td>0.220238</td>\n",
              "      <td>1</td>\n",
              "      <td>1</td>\n",
              "      <td>1.0</td>\n",
              "      <td>1</td>\n",
              "      <td>3</td>\n",
              "      <td>0</td>\n",
              "      <td>4</td>\n",
              "      <td>3</td>\n",
              "      <td>3</td>\n",
              "      <td>1</td>\n",
              "      <td>NaN</td>\n",
              "      <td>35</td>\n",
              "      <td>2000.0</td>\n",
              "      <td>365</td>\n",
              "      <td>50.01</td>\n",
              "      <td>12</td>\n",
              "      <td>0.0000</td>\n",
              "      <td>NaN</td>\n",
              "      <td>NaN</td>\n",
              "      <td>NaN</td>\n",
              "      <td>NaN</td>\n",
              "      <td>NaN</td>\n",
              "      <td>NaN</td>\n",
              "      <td>NaN</td>\n",
              "      <td>NaN</td>\n",
              "      <td>NaN</td>\n",
              "      <td>NaN</td>\n",
              "      <td>NaN</td>\n",
              "      <td>NaN</td>\n",
              "      <td>NaN</td>\n",
              "      <td>NaN</td>\n",
              "      <td>NaN</td>\n",
              "      <td>NaN</td>\n",
              "      <td>NaN</td>\n",
              "      <td>NaN</td>\n",
              "      <td>NaN</td>\n",
              "      <td>NaN</td>\n",
              "      <td>NaN</td>\n",
              "      <td>NaN</td>\n",
              "      <td>0</td>\n",
              "      <td>1</td>\n",
              "      <td>0</td>\n",
              "      <td>0</td>\n",
              "      <td>30.0</td>\n",
              "      <td>50.01</td>\n",
              "      <td>100020.0</td>\n",
              "      <td>10/25/19 19:03</td>\n",
              "    </tr>\n",
              "  </tbody>\n",
              "</table>\n",
              "</div>"
            ],
            "text/plain": [
              "   periodo  per12  pagare  codcli  corper  producto  sub_producto  default12  \\\n",
              "0   201603  24195       0       0    1373        80             0          0   \n",
              "1   201409  24177       0       0    7563        80             0          0   \n",
              "2   201510  24190       0       0      12        80            22          0   \n",
              "3   201509  24189       0       0    2863        80            22          0   \n",
              "4   201404  24172       0       0    3039        80            22          0   \n",
              "\n",
              "   descre  tipcre  grupo  sector  cladeu  cladeumax3  cladeumax6  cladeumax12  \\\n",
              "0       3       9      1       3       1           1           1            1   \n",
              "1       3      10      3       3       1           1           1            1   \n",
              "2       3      10      1       3       1           1           2            2   \n",
              "3       3      10      1       3       1           1           1            1   \n",
              "4       3      10      3       3       1           1           1            1   \n",
              "\n",
              "   cladeumat  cladeumatmax3  cladeumatmax6  cladeumatmax12    saldo  \\\n",
              "0          1              1              1               1  10000.0   \n",
              "1          1              1              1               1   2000.0   \n",
              "2          1              1              2               2   1000.0   \n",
              "3          1              1              1               1  10000.0   \n",
              "4          1              1              1               1   2000.0   \n",
              "\n",
              "   saldoprom3   saldomax3  montodes    saldorcc    saldoprom6   saldoprom12  \\\n",
              "0  46706.0198  85004.1938   10000.0  87007.8415  45935.594600  65346.541440   \n",
              "1    259.4200    383.5800    2000.0    133.5500    319.565000    319.565000   \n",
              "2   5442.7100   6211.2200    1000.0   4723.3600   6635.203333   8710.810833   \n",
              "3         NaN         NaN   10000.0         NaN           NaN           NaN   \n",
              "4   2012.7750   2314.0000    2000.0   1711.5500   2012.775000   2012.775000   \n",
              "\n",
              "   saldomax6  saldomax12  condiaprom6  condiaprom12  condiamatprom3  \\\n",
              "0  60517.563    65000.00          0.0           0.0             0.0   \n",
              "1    500.000      500.00          0.0           0.0             0.0   \n",
              "2   8594.380    12163.35          5.0           5.0             0.0   \n",
              "3        NaN         NaN          NaN           NaN             NaN   \n",
              "4   2314.000     2314.00          0.0           0.0             0.0   \n",
              "\n",
              "   condiamatprom6  condiamatprom12  saldo103prom3  saldo103prom6  \\\n",
              "0             0.0              0.0     27925.3808       32788.22   \n",
              "1             0.0              0.0       259.4200         319.56   \n",
              "2             5.0              5.0      4031.0900        4527.19   \n",
              "3             NaN              NaN            NaN            NaN   \n",
              "4             0.0              0.0         0.0000           0.00   \n",
              "\n",
              "   saldo103prom12  nentdir  nentdirprom3  nentdirprom6  nentdirprom12  \\\n",
              "0        30252.08      4.0           4.0           4.0            4.0   \n",
              "1          319.56      1.0           1.0           1.0            1.0   \n",
              "2         5379.62      2.0           2.0           2.0            2.0   \n",
              "3             NaN      NaN           NaN           NaN            NaN   \n",
              "4            0.00      1.0           1.0           1.0            1.0   \n",
              "\n",
              "   nentdirmax3  nentdirmax6  nentdirmax12  porsaldopyme  saldopymeprom3  \\\n",
              "0          5.0          5.0           5.0           1.0      19627.9664   \n",
              "1          1.0          1.0           1.0           0.0          0.0000   \n",
              "2          3.0          3.0           3.0           1.0       5386.9000   \n",
              "3          NaN          NaN           NaN           NaN             NaN   \n",
              "4          1.0          1.0           1.0           0.0          0.0000   \n",
              "\n",
              "   saldopymeprom6  saldopymeprom12  dctmg00  dctmg01  dctmg02  dctmg03  \\\n",
              "0       21107.344       36878.5655      1.0      0.0      1.0      1.0   \n",
              "1           0.000           0.0000      1.0      0.0      0.0      0.0   \n",
              "2        6394.820        7265.0200      1.0      0.0      0.0      1.0   \n",
              "3             NaN              NaN      NaN      NaN      NaN      NaN   \n",
              "4           0.000           0.0000      0.0      0.0      0.0      0.0   \n",
              "\n",
              "   dctmg04  dctmg05  varsldo3  varsldo6  varsldo12   varpdm3   varpdm6  \\\n",
              "0      0.0      1.0  1.000000  1.000000   1.000000  0.160421  0.144791   \n",
              "1      0.0      0.0  0.514802  0.417912   0.417912  1.000000  0.999984   \n",
              "2      0.0      1.0  0.867832  0.711864   0.542241  0.740640  0.682299   \n",
              "3      NaN      NaN       NaN       NaN        NaN       NaN       NaN   \n",
              "4      0.0      1.0  0.850343  0.850343   0.850343  0.160421  0.144791   \n",
              "\n",
              "   varpdm12  varnent3  varnent6  varnent12  varpyme3  varpyme6  varpyme12  \\\n",
              "0  0.116211       1.0       1.0        1.0  1.000000  1.000000   1.000000   \n",
              "1  0.999984       1.0       1.0        1.0  0.196524  0.253367   0.284487   \n",
              "2  0.617580       1.0       1.0        1.0  0.989746  0.963772   0.834023   \n",
              "3       NaN       NaN       NaN        NaN       NaN       NaN        NaN   \n",
              "4  0.116211       1.0       1.0        1.0  0.196524  0.253367   0.284487   \n",
              "\n",
              "   v1_ventas_al_contado  v999_ventas_netas  v4_mercaderias_insumos_y_servicio  \\\n",
              "0               23160.0            26166.0                           28115.67   \n",
              "1               15600.0            15600.0                            8400.00   \n",
              "2                6400.0             6400.0                            4480.00   \n",
              "3               19600.0            19600.0                           13780.00   \n",
              "4                1260.0             1260.0                             267.00   \n",
              "\n",
              "   v999_costo_de_ventas  v9_gastos_de_ventas  \\\n",
              "0               23319.6               5800.0   \n",
              "1                8400.0                  NaN   \n",
              "2                4480.0                  NaN   \n",
              "3               13780.0               2425.0   \n",
              "4                 267.0                  NaN   \n",
              "\n",
              "   v10_gastos_generales_y_administrativos  v100_total_gastos_de_operacion  \\\n",
              "0                                   750.0                          4250.0   \n",
              "1                                  2020.0                          2020.0   \n",
              "2                                   200.0                           200.0   \n",
              "3                                   900.0                          3325.0   \n",
              "4                                     NaN                             NaN   \n",
              "\n",
              "   v120_gastos_generales_y_administrativos  v18_gastos_financieros  \\\n",
              "0                                    750.0                  2650.0   \n",
              "1                                   2020.0                  2650.0   \n",
              "2                                    200.0                   180.0   \n",
              "3                                    900.0                     NaN   \n",
              "4                                      NaN                    49.0   \n",
              "\n",
              "   v101_utilidad_bruta  v102_utilidad_operativo  \\\n",
              "0              24000.0                  16347.0   \n",
              "1               7200.0                   5180.0   \n",
              "2               1920.0                   1320.0   \n",
              "3               5820.0                   2495.0   \n",
              "4                993.0                    793.0   \n",
              "\n",
              "   v103_utilidad_perdida_antes_de_impuestos  v105_utilidad_perdida_neta  \\\n",
              "0                                    9170.0                     7646.85   \n",
              "1                                    1814.0                     1814.00   \n",
              "2                                    1140.0                     1140.00   \n",
              "3                                    2495.0                     2495.00   \n",
              "4                                     744.0                      744.00   \n",
              "\n",
              "   v106_liquidez_disponible  v107_utilidad_del_negocio  \\\n",
              "0                   4388.93                   8337.682   \n",
              "1                   1064.00                   1814.000   \n",
              "2                    830.00                   1540.000   \n",
              "3                   1850.00                   2495.000   \n",
              "4                    534.00                    944.000   \n",
              "\n",
              "   v900_liquidez_corriente  v901_activos_relacion_acida  \\\n",
              "0                     1.06                       8500.0   \n",
              "1                      NaN                        900.0   \n",
              "2                     3.19                       1500.0   \n",
              "3                      NaN                       2800.0   \n",
              "4                     0.47                        400.0   \n",
              "\n",
              "   v902_pasivos_relacion_acida  v903_total_activos  v904_total_pasivos  \\\n",
              "0                      37434.8            231425.0             97460.6   \n",
              "1                      37434.8            200900.0             97460.6   \n",
              "2                       4701.0             18200.0              4701.0   \n",
              "3                          NaN             28453.1                 NaN   \n",
              "4                        848.0              4900.0               848.0   \n",
              "\n",
              "   v905_tot_pasivos_gananec_diferidas_pat_neto  v906_activo_fijo  \\\n",
              "0                                     178802.2           83800.0   \n",
              "1                                     178802.2           83800.0   \n",
              "2                                      18200.0             250.0   \n",
              "3                                      28453.1           14600.0   \n",
              "4                                       4900.0            2500.0   \n",
              "\n",
              "   v911_relacion_acida  v914_rotacion_de_inventarios  v915_dias_de_inventario  \\\n",
              "0                 0.09                          0.51                    58.47   \n",
              "1                  NaN                           NaN                      NaN   \n",
              "2                 0.31                          0.33                    90.40   \n",
              "3                  NaN                          1.24                    24.06   \n",
              "4                 0.47                           NaN                      NaN   \n",
              "\n",
              "   v917_ciclo_financiero  v920_relacion_de_ventas_y_activo_fijo  \\\n",
              "0                  58.47                                   0.59   \n",
              "1                    NaN                                   0.07   \n",
              "2                  90.40                                   3.73   \n",
              "3                  24.06                                   1.34   \n",
              "4                    NaN                                   0.50   \n",
              "\n",
              "   v921_capital_de_trabajo  v922_rotacion_de_kw_bruto  \\\n",
              "0                  18410.0                       0.58   \n",
              "1                   -760.0                       8.05   \n",
              "2                  10299.0                       0.42   \n",
              "3                  13853.1                       1.41   \n",
              "4                   -448.0                       3.15   \n",
              "\n",
              "   v923_rotacion_patrimonial  v901_grado_de_patrimonio  \\\n",
              "0                       0.55                     52.77   \n",
              "1                       0.27                     33.64   \n",
              "2                       0.47                     74.17   \n",
              "3                       0.68                    100.00   \n",
              "4                       0.31                     82.69   \n",
              "\n",
              "   v902_endeudamiento_patrimonial  v902_gastos_operativos  \\\n",
              "0                            0.89                  6554.4   \n",
              "1                            1.39                  5386.0   \n",
              "2                            0.34                   380.0   \n",
              "3                             NaN                  3325.0   \n",
              "4                            0.20                    49.0   \n",
              "\n",
              "   v905_rentabilidad_de_ventas  v901_apalancamiento  \\\n",
              "0                         4.93                 0.89   \n",
              "1                        11.62                 0.94   \n",
              "2                        17.81                 0.34   \n",
              "3                        12.72                  NaN   \n",
              "4                        45.86                 0.20   \n",
              "\n",
              "   v903_pasivos_cp_tot_pasivos_patrimonio  \\\n",
              "0                                   47.22   \n",
              "1                                   55.86   \n",
              "2                                   25.82   \n",
              "3                                     NaN   \n",
              "4                                   17.30   \n",
              "\n",
              "   v905_patrimonio_tot_pasivo_patrimonio  v901_activo_fijo_patrimonio  \\\n",
              "0                                  52.77                         0.94   \n",
              "1                                  45.80                         1.71   \n",
              "2                                  74.17                         0.16   \n",
              "3                                  99.00                         0.51   \n",
              "4                                  82.69                         0.61   \n",
              "\n",
              "   v1_otros_ingresos_familiares  v999_total_ingresos  \\\n",
              "0                           NaN            7990.8615   \n",
              "1                           NaN            1814.0000   \n",
              "2                           NaN            1540.0000   \n",
              "3                           NaN            2495.0000   \n",
              "4                         450.0            1394.0000   \n",
              "\n",
              "   v110_utilidad_del_negocio  v3_servicios_luz  v4_servicios_agua  \\\n",
              "0                     4190.0             100.0               25.0   \n",
              "1                     1814.0              50.0               30.0   \n",
              "2                     1540.0               NaN                NaN   \n",
              "3                     2495.0              15.0                NaN   \n",
              "4                      944.0              10.0               10.0   \n",
              "\n",
              "   v998_total_consumo_familiar  v999_total_egresos_uef  \\\n",
              "0                       1130.0                  1130.0   \n",
              "1                        750.0                   750.0   \n",
              "2                        610.0                   710.0   \n",
              "3                        445.0                   645.0   \n",
              "4                        810.0                   860.0   \n",
              "\n",
              "   v999_liquidez_disponible  v100_caja_y_bancos  v101_caja  v120_clientes  \\\n",
              "0                   6425.92             12000.0     4000.0        12000.0   \n",
              "1                   1064.00               900.0      900.0            NaN   \n",
              "2                    830.00              1500.0     1500.0            NaN   \n",
              "3                   1850.00              2000.0     2000.0          800.0   \n",
              "4                    534.00               400.0      400.0            NaN   \n",
              "\n",
              "   v121_facturas_por_cobrar  v160_cuentas_por_cobrar_diversas  \\\n",
              "0                   12000.0                               NaN   \n",
              "1                       NaN                               NaN   \n",
              "2                       NaN                               NaN   \n",
              "3                     800.0                               NaN   \n",
              "4                       NaN                               NaN   \n",
              "\n",
              "   v168_otras_cuentas_por_cobrar_diversas  v200_inventarios  v201_mercaderia  \\\n",
              "0                                     NaN           45000.0          44750.0   \n",
              "1                                     NaN               NaN              NaN   \n",
              "2                                     NaN           13500.0          13500.0   \n",
              "3                                     NaN           11053.1          11053.1   \n",
              "4                                     NaN               NaN              NaN   \n",
              "\n",
              "   v212_otros_activos_corrientes  v330_inmuebles_maquinaria_y_equipo  \\\n",
              "0                            NaN                            149520.0   \n",
              "1                            NaN                            149520.0   \n",
              "2                            NaN                               250.0   \n",
              "3                            NaN                             14600.0   \n",
              "4                            NaN                              2500.0   \n",
              "\n",
              "   v451_deudas_a_largo_plazo  v500_capital  v501_capital_personal  \\\n",
              "0                        NaN      125329.0              156293.13   \n",
              "1                        NaN       55086.0               55086.00   \n",
              "2                        NaN       12359.0               12359.00   \n",
              "3                        NaN       25958.1               25958.10   \n",
              "4                        NaN        3308.0                3308.00   \n",
              "\n",
              "   v599_utilidad_perdida_neta  v999_total_activos_corrientes  \\\n",
              "0                      9170.0                        87000.0   \n",
              "1                      1814.0                          900.0   \n",
              "2                      1140.0                        15000.0   \n",
              "3                      2495.0                        13853.1   \n",
              "4                       744.0                          400.0   \n",
              "\n",
              "   v999_total_activos_no_corrientes  v999_total_pasivos_corrientes  \\\n",
              "0                          152500.0                     61292.7695   \n",
              "1                          152500.0                     61292.7695   \n",
              "2                            3200.0                      4701.0000   \n",
              "3                           14600.0                            NaN   \n",
              "4                            4500.0                       848.0000   \n",
              "\n",
              "   v999_total_pasivos_no_corrientes  \\\n",
              "0                               NaN   \n",
              "1                               NaN   \n",
              "2                               NaN   \n",
              "3                               NaN   \n",
              "4                               NaN   \n",
              "\n",
              "   v4_mercaderias_insumos_y_servicio_999_ventas_netas  \\\n",
              "0                                           0.796984    \n",
              "1                                           0.538462    \n",
              "2                                           0.700000    \n",
              "3                                           0.703061    \n",
              "4                                           0.313804    \n",
              "\n",
              "   v999_costo_de_ventas_999_ventas_netas  \\\n",
              "0                               0.796984   \n",
              "1                               0.538462   \n",
              "2                               0.700000   \n",
              "3                               0.703061   \n",
              "4                               0.315385   \n",
              "\n",
              "   v100_total_gastos_de_operacion_999_ventas_netas  \\\n",
              "0                                         0.035272   \n",
              "1                                         0.129487   \n",
              "2                                         0.031250   \n",
              "3                                         0.150343   \n",
              "4                                              NaN   \n",
              "\n",
              "   v110_gastos_de_ventas_999_ventas_netas  \\\n",
              "0                                0.031233   \n",
              "1                                     NaN   \n",
              "2                                     NaN   \n",
              "3                                0.111111   \n",
              "4                                     NaN   \n",
              "\n",
              "   v120_gastos_generales_y_administrativos_999_ventas_netas  \\\n",
              "0                                           0.004039          \n",
              "1                                           0.116734          \n",
              "2                                           0.031250          \n",
              "3                                           0.045918          \n",
              "4                                                NaN          \n",
              "\n",
              "   v200_inventarios_903_total_activos  \\\n",
              "0                            0.458630   \n",
              "1                                 NaN   \n",
              "2                            0.741758   \n",
              "3                            0.388467   \n",
              "4                                 NaN   \n",
              "\n",
              "   v106_liquidez_disponible_999_total_patrimonio_neto  \\\n",
              "0                                           0.026634    \n",
              "1                                           0.018699    \n",
              "2                                           0.061486    \n",
              "3                                           0.065019    \n",
              "4                                           0.131787    \n",
              "\n",
              "   v106_liquidez_disponible_903_total_activos  \\\n",
              "0                                    0.000044   \n",
              "1                                    0.000044   \n",
              "2                                    0.000044   \n",
              "3                                    0.000044   \n",
              "4                                    0.000044   \n",
              "\n",
              "   v100_caja_y_bancos_903_total_activos  \\\n",
              "0                              0.023849   \n",
              "1                              0.004480   \n",
              "2                              0.082418   \n",
              "3                              0.070291   \n",
              "4                              0.081633   \n",
              "\n",
              "   v451_deudas_a_largo_plazo__999_total_pasivos_corrientes_999_total_pasivos_no_corrientes  \\\n",
              "0                                                NaN                                         \n",
              "1                                                NaN                                         \n",
              "2                                                NaN                                         \n",
              "3                                                NaN                                         \n",
              "4                                                NaN                                         \n",
              "\n",
              "   v906_activo_fijo_903_total_activos  \\\n",
              "0                            0.498442   \n",
              "1                            0.990396   \n",
              "2                            0.021738   \n",
              "3                            0.513125   \n",
              "4                            0.510204   \n",
              "\n",
              "   v999_total_activos_corrientes_903_total_activos  \\\n",
              "0                                         0.501558   \n",
              "1                                         0.005848   \n",
              "2                                         0.824176   \n",
              "3                                         0.486875   \n",
              "4                                         0.081633   \n",
              "\n",
              "   v999_total_activos_no_corrientes_903_total_activos  \\\n",
              "0                                           0.498442    \n",
              "1                                           0.793336    \n",
              "2                                           0.175824    \n",
              "3                                           0.513125    \n",
              "4                                           0.793336    \n",
              "\n",
              "   v904_total_pasivos_999_total_patrimonio_neto  \\\n",
              "0                                      0.894972   \n",
              "1                                      2.254158   \n",
              "2                                      0.348248   \n",
              "3                                           NaN   \n",
              "4                                      0.209279   \n",
              "\n",
              "   v107_utilidad_del_negocio_999_ventas_netas  \\\n",
              "0                                    0.053689   \n",
              "1                                    0.116282   \n",
              "2                                    0.240625   \n",
              "3                                    0.127296   \n",
              "4                                    0.519231   \n",
              "\n",
              "   v107_utilidad_del_negocio_999_total_patrimonio_neto  \\\n",
              "0                                           0.030038     \n",
              "1                                           0.031880     \n",
              "2                                           0.114083     \n",
              "3                                           0.087688     \n",
              "4                                           0.232971     \n",
              "\n",
              "   v330_inmuebles_maquinaria_y_equipo_903_total_activos  \\\n",
              "0                                           0.498442      \n",
              "1                                           0.995520      \n",
              "2                                           0.010989      \n",
              "3                                           0.513125      \n",
              "4                                           0.510204      \n",
              "\n",
              "   v451_deudas_a_largo_plazo_999_total_patrimonio_neto  \\\n",
              "0                                                NaN     \n",
              "1                                                NaN     \n",
              "2                                                NaN     \n",
              "3                                                NaN     \n",
              "4                                                NaN     \n",
              "\n",
              "   v998_total_consumo_familiar_999_ventas_netas  clasoc  concred_cladef  \\\n",
              "0                                      0.008129       1               1   \n",
              "1                                      0.048077       1               1   \n",
              "2                                      0.095312       1               1   \n",
              "3                                      0.022704       1               1   \n",
              "4                                      0.220238       1               1   \n",
              "\n",
              "   genero  tipovi  estadciv  ubidepa  sectec  niveduc  ocupa  produc  \\\n",
              "0     0.0       2         3        4       3        3      2       1   \n",
              "1     0.0       1         3        5       4        3      2       1   \n",
              "2     0.0       1         3        0       4        3      2       1   \n",
              "3     1.0       1         3        4       4        3      2       1   \n",
              "4     1.0       1         3        0       4        3      3       1   \n",
              "\n",
              "   his_saldo  edad  saldobd1  plazobd1   tasa  couta       monga  \\\n",
              "0  23914.142    50   10000.0        90  18.00      1  14921.3175   \n",
              "1    133.550    32    2000.0       374  42.58     12      0.0000   \n",
              "2   3685.450    44    1000.0        90  57.35      1      0.0000   \n",
              "3        NaN    24   10000.0       458  50.10     15   2000.0000   \n",
              "4        NaN    35    2000.0       365  50.01     12      0.0000   \n",
              "\n",
              "   his_saldo_prom_03meses  his_saldo_prom_06meses  his_saldo_prom_12meses  \\\n",
              "0                25000.00              27250.2008                29202.23   \n",
              "1                  259.42                330.3530                  340.88   \n",
              "2                 4031.09               4527.1900                 5379.62   \n",
              "3                     NaN                     NaN                     NaN   \n",
              "4                     NaN                     NaN                     NaN   \n",
              "\n",
              "   his_saldo_max_03meses  his_saldo_max_06meses  his_saldo_max_12meses  \\\n",
              "0                    0.0                    0.0                    0.0   \n",
              "1                    0.0                    0.0                    0.0   \n",
              "2                    0.0                    0.0                    0.0   \n",
              "3                    NaN                    NaN                    NaN   \n",
              "4                    NaN                    NaN                    NaN   \n",
              "\n",
              "   his_saldo_var_03meses  his_saldo_var_06meses  his_saldo_var_12meses  \\\n",
              "0                  0.918                  0.773                  0.698   \n",
              "1                  0.514                  0.417                  0.417   \n",
              "2                  0.914                  0.773                  0.685   \n",
              "3                    NaN                    NaN                    NaN   \n",
              "4                    NaN                    NaN                    NaN   \n",
              "\n",
              "   his_ant_tot_cred  saldo_cuenta  total_saldo_cuenta  promedio_sal_m03  \\\n",
              "0              61.0          0.53             71.0644          142.1624   \n",
              "1               3.0          0.00              0.0000            0.0000   \n",
              "2              61.0          5.32              5.3200            9.3000   \n",
              "3               NaN           NaN                 NaN               NaN   \n",
              "4               NaN           NaN                 NaN               NaN   \n",
              "\n",
              "   promedio_sal_m06  promedio_sal_m12  saldo_maximo_m03  saldo_maximo_m06  \\\n",
              "0          313.5864           561.685         1015.8434          1244.105   \n",
              "1            0.0000             0.000            0.0000             0.000   \n",
              "2           15.2800            19.460           13.2900            25.240   \n",
              "3               NaN               NaN               NaN               NaN   \n",
              "4               NaN               NaN               NaN               NaN   \n",
              "\n",
              "   saldo_maximo_m12  antig_depos_vigen  antig_total_depos  antig_tot_cred_dep  \\\n",
              "0           3006.46               12.0               96.0               160.0   \n",
              "1              0.00                0.0                0.0                 3.0   \n",
              "2             41.12               84.0                0.0               118.0   \n",
              "3               NaN                NaN                NaN                 NaN   \n",
              "4               NaN                NaN                NaN                 NaN   \n",
              "\n",
              "   suma_total_deposi  concred_claint  segdesgra  segtodoriesgo  segvida  \\\n",
              "0               61.0               0          1              0        0   \n",
              "1                0.0               0          1              0        0   \n",
              "2               24.0               0          1              0        0   \n",
              "3                NaN               0          1              0        1   \n",
              "4                NaN               0          1              0        0   \n",
              "\n",
              "   provision  concred_tasade  rentabilidad      fechavista  \n",
              "0      100.0           18.00      180000.0  10/25/19 19:03  \n",
              "1       30.0           42.58       85160.0  10/25/19 19:03  \n",
              "2       10.0           57.35       57350.0  10/25/19 19:03  \n",
              "3      100.0           50.10      501000.0  10/25/19 19:03  \n",
              "4       30.0           50.01      100020.0  10/25/19 19:03  "
            ]
          },
          "metadata": {
            "tags": []
          },
          "execution_count": 4
        }
      ]
    },
    {
      "cell_type": "code",
      "metadata": {
        "colab": {
          "base_uri": "https://localhost:8080/"
        },
        "id": "8s8I3qgOgv2f",
        "outputId": "19f835bd-e81f-468c-ff31-e6cfa33d7852"
      },
      "source": [
        "names = df_train.columns.values \r\n",
        "names"
      ],
      "execution_count": 135,
      "outputs": [
        {
          "output_type": "execute_result",
          "data": {
            "text/plain": [
              "array(['periodo', 'per12', 'pagare', 'codcli', 'corper', 'producto',\n",
              "       'sub_producto', 'default12', 'descre', 'tipcre', 'grupo', 'sector',\n",
              "       'cladeu', 'cladeumax3', 'cladeumax6', 'cladeumax12', 'cladeumat',\n",
              "       'cladeumatmax3', 'cladeumatmax6', 'cladeumatmax12', 'saldo',\n",
              "       'saldoprom3', 'saldomax3', 'montodes', 'saldorcc', 'saldoprom6',\n",
              "       'saldoprom12', 'saldomax6', 'saldomax12', 'condiaprom6',\n",
              "       'condiaprom12', 'condiamatprom3', 'condiamatprom6',\n",
              "       'condiamatprom12', 'saldo103prom3', 'saldo103prom6',\n",
              "       'saldo103prom12', 'nentdir', 'nentdirprom3', 'nentdirprom6',\n",
              "       'nentdirprom12', 'nentdirmax3', 'nentdirmax6', 'nentdirmax12',\n",
              "       'porsaldopyme', 'saldopymeprom3', 'saldopymeprom6',\n",
              "       'saldopymeprom12', 'dctmg00', 'dctmg01', 'dctmg02', 'dctmg03',\n",
              "       'dctmg04', 'dctmg05', 'varsldo3', 'varsldo6', 'varsldo12',\n",
              "       'varpdm3', 'varpdm6', 'varpdm12', 'varnent3', 'varnent6',\n",
              "       'varnent12', 'varpyme3', 'varpyme6', 'varpyme12',\n",
              "       'v1_ventas_al_contado', 'v999_ventas_netas',\n",
              "       'v4_mercaderias_insumos_y_servicio', 'v999_costo_de_ventas',\n",
              "       'v9_gastos_de_ventas', 'v10_gastos_generales_y_administrativos',\n",
              "       'v100_total_gastos_de_operacion',\n",
              "       'v120_gastos_generales_y_administrativos',\n",
              "       'v18_gastos_financieros', 'v101_utilidad_bruta',\n",
              "       'v102_utilidad_operativo',\n",
              "       'v103_utilidad_perdida_antes_de_impuestos',\n",
              "       'v105_utilidad_perdida_neta', 'v106_liquidez_disponible',\n",
              "       'v107_utilidad_del_negocio', 'v900_liquidez_corriente',\n",
              "       'v901_activos_relacion_acida', 'v902_pasivos_relacion_acida',\n",
              "       'v903_total_activos', 'v904_total_pasivos',\n",
              "       'v905_tot_pasivos_gananec_diferidas_pat_neto', 'v906_activo_fijo',\n",
              "       'v911_relacion_acida', 'v914_rotacion_de_inventarios',\n",
              "       'v915_dias_de_inventario', 'v917_ciclo_financiero',\n",
              "       'v920_relacion_de_ventas_y_activo_fijo', 'v921_capital_de_trabajo',\n",
              "       'v922_rotacion_de_kw_bruto', 'v923_rotacion_patrimonial',\n",
              "       'v901_grado_de_patrimonio', 'v902_endeudamiento_patrimonial',\n",
              "       'v902_gastos_operativos', 'v905_rentabilidad_de_ventas',\n",
              "       'v901_apalancamiento', 'v903_pasivos_cp_tot_pasivos_patrimonio',\n",
              "       'v905_patrimonio_tot_pasivo_patrimonio',\n",
              "       'v901_activo_fijo_patrimonio', 'v1_otros_ingresos_familiares',\n",
              "       'v999_total_ingresos', 'v110_utilidad_del_negocio',\n",
              "       'v3_servicios_luz', 'v4_servicios_agua',\n",
              "       'v998_total_consumo_familiar', 'v999_total_egresos_uef',\n",
              "       'v999_liquidez_disponible', 'v100_caja_y_bancos', 'v101_caja',\n",
              "       'v120_clientes', 'v121_facturas_por_cobrar',\n",
              "       'v160_cuentas_por_cobrar_diversas',\n",
              "       'v168_otras_cuentas_por_cobrar_diversas', 'v200_inventarios',\n",
              "       'v201_mercaderia', 'v212_otros_activos_corrientes',\n",
              "       'v330_inmuebles_maquinaria_y_equipo', 'v451_deudas_a_largo_plazo',\n",
              "       'v500_capital', 'v501_capital_personal',\n",
              "       'v599_utilidad_perdida_neta', 'v999_total_activos_corrientes',\n",
              "       'v999_total_activos_no_corrientes',\n",
              "       'v999_total_pasivos_corrientes',\n",
              "       'v999_total_pasivos_no_corrientes',\n",
              "       'v4_mercaderias_insumos_y_servicio_999_ventas_netas',\n",
              "       'v999_costo_de_ventas_999_ventas_netas',\n",
              "       'v100_total_gastos_de_operacion_999_ventas_netas',\n",
              "       'v110_gastos_de_ventas_999_ventas_netas',\n",
              "       'v120_gastos_generales_y_administrativos_999_ventas_netas',\n",
              "       'v200_inventarios_903_total_activos',\n",
              "       'v106_liquidez_disponible_999_total_patrimonio_neto',\n",
              "       'v106_liquidez_disponible_903_total_activos',\n",
              "       'v100_caja_y_bancos_903_total_activos',\n",
              "       'v451_deudas_a_largo_plazo__999_total_pasivos_corrientes_999_total_pasivos_no_corrientes',\n",
              "       'v906_activo_fijo_903_total_activos',\n",
              "       'v999_total_activos_corrientes_903_total_activos',\n",
              "       'v999_total_activos_no_corrientes_903_total_activos',\n",
              "       'v904_total_pasivos_999_total_patrimonio_neto',\n",
              "       'v107_utilidad_del_negocio_999_ventas_netas',\n",
              "       'v107_utilidad_del_negocio_999_total_patrimonio_neto',\n",
              "       'v330_inmuebles_maquinaria_y_equipo_903_total_activos',\n",
              "       'v451_deudas_a_largo_plazo_999_total_patrimonio_neto',\n",
              "       'v998_total_consumo_familiar_999_ventas_netas', 'clasoc',\n",
              "       'concred_cladef', 'genero', 'tipovi', 'estadciv', 'ubidepa',\n",
              "       'sectec', 'niveduc', 'ocupa', 'produc', 'his_saldo', 'edad',\n",
              "       'saldobd1', 'plazobd1', 'tasa', 'couta', 'monga',\n",
              "       'his_saldo_prom_03meses', 'his_saldo_prom_06meses',\n",
              "       'his_saldo_prom_12meses', 'his_saldo_max_03meses',\n",
              "       'his_saldo_max_06meses', 'his_saldo_max_12meses',\n",
              "       'his_saldo_var_03meses', 'his_saldo_var_06meses',\n",
              "       'his_saldo_var_12meses', 'his_ant_tot_cred', 'saldo_cuenta',\n",
              "       'total_saldo_cuenta', 'promedio_sal_m03', 'promedio_sal_m06',\n",
              "       'promedio_sal_m12', 'saldo_maximo_m03', 'saldo_maximo_m06',\n",
              "       'saldo_maximo_m12', 'antig_depos_vigen', 'antig_total_depos',\n",
              "       'antig_tot_cred_dep', 'suma_total_deposi', 'concred_claint',\n",
              "       'segdesgra', 'segtodoriesgo', 'segvida', 'provision',\n",
              "       'concred_tasade', 'rentabilidad', 'fechavista'], dtype=object)"
            ]
          },
          "metadata": {
            "tags": []
          },
          "execution_count": 135
        }
      ]
    },
    {
      "cell_type": "code",
      "metadata": {
        "id": "XIgNzw6ow2h6"
      },
      "source": [
        "columns = ['saldo','saldoprom3','saldomax3','saldorcc','nentdir','varsldo3','v999_ventas_netas',\n",
        "           'edad','genero','tipovi','estadciv','ubidepa','plazobd1','his_saldo_prom_03meses',\n",
        "           'v107_utilidad_del_negocio','v106_liquidez_disponible_999_total_patrimonio_neto',\n",
        "           'v500_capital','v100_caja_y_bancos','his_ant_tot_cred',\n",
        "           'v107_utilidad_del_negocio_999_total_patrimonio_neto','default12']\n",
        "\n",
        "Data_Seleccionada = pd.DataFrame(df_train, columns=columns)"
      ],
      "execution_count": 5,
      "outputs": []
    },
    {
      "cell_type": "code",
      "metadata": {
        "id": "GB2LPLcww66a",
        "colab": {
          "base_uri": "https://localhost:8080/"
        },
        "outputId": "2c4a26ba-7d68-4690-8ed0-78f431dcb2a0"
      },
      "source": [
        "Data_Seleccionada.isnull().sum(axis = 0)"
      ],
      "execution_count": 6,
      "outputs": [
        {
          "output_type": "execute_result",
          "data": {
            "text/plain": [
              "saldo                                                       0\n",
              "saldoprom3                                              84605\n",
              "saldomax3                                               84605\n",
              "saldorcc                                                84605\n",
              "nentdir                                                 84605\n",
              "varsldo3                                                89873\n",
              "v999_ventas_netas                                        9166\n",
              "edad                                                        0\n",
              "genero                                                  11699\n",
              "tipovi                                                      0\n",
              "estadciv                                                    0\n",
              "ubidepa                                                     0\n",
              "plazobd1                                                    0\n",
              "his_saldo_prom_03meses                                 219469\n",
              "v107_utilidad_del_negocio                                9164\n",
              "v106_liquidez_disponible_999_total_patrimonio_neto       9303\n",
              "v500_capital                                             9766\n",
              "v100_caja_y_bancos                                      10593\n",
              "his_ant_tot_cred                                       219469\n",
              "v107_utilidad_del_negocio_999_total_patrimonio_neto      9304\n",
              "default12                                                   0\n",
              "dtype: int64"
            ]
          },
          "metadata": {
            "tags": []
          },
          "execution_count": 6
        }
      ]
    },
    {
      "cell_type": "code",
      "metadata": {
        "id": "aSWdr-M5w-fy",
        "colab": {
          "base_uri": "https://localhost:8080/"
        },
        "outputId": "a4c5f8a9-74ab-4e2a-e71e-186f93d45fd4"
      },
      "source": [
        "Data_Seleccionada.genero.value_counts()"
      ],
      "execution_count": 7,
      "outputs": [
        {
          "output_type": "execute_result",
          "data": {
            "text/plain": [
              "0.0    320395\n",
              "1.0    251519\n",
              "Name: genero, dtype: int64"
            ]
          },
          "metadata": {
            "tags": []
          },
          "execution_count": 7
        }
      ]
    },
    {
      "cell_type": "code",
      "metadata": {
        "id": "yKV9dmIEbrix",
        "colab": {
          "base_uri": "https://localhost:8080/"
        },
        "outputId": "3cf7cacc-8c7b-4082-8021-724d607ec273"
      },
      "source": [
        "mask = Data_Seleccionada['genero'].isna() \n",
        "ind = Data_Seleccionada['genero'].loc[mask].sample(frac=(Data_Seleccionada.genero.value_counts(0)[1]/(Data_Seleccionada.genero.value_counts(0)[1]+Data_Seleccionada.genero.value_counts(0)[0]))).index\n",
        "Data_Seleccionada.loc[ind, 'genero'] = 1\n",
        "Data_Seleccionada['genero'] = Data_Seleccionada['genero'].fillna(0)\n",
        "Data_Seleccionada.genero.value_counts()"
      ],
      "execution_count": 8,
      "outputs": [
        {
          "output_type": "execute_result",
          "data": {
            "text/plain": [
              "0.0    326949\n",
              "1.0    256664\n",
              "Name: genero, dtype: int64"
            ]
          },
          "metadata": {
            "tags": []
          },
          "execution_count": 8
        }
      ]
    },
    {
      "cell_type": "code",
      "metadata": {
        "id": "dQ3rZeWpaTd7",
        "colab": {
          "base_uri": "https://localhost:8080/"
        },
        "outputId": "12531aaa-c3ff-4793-d169-987f2ed659cd"
      },
      "source": [
        "Data_Seleccionada_F1=Data_Seleccionada.dropna(thresh=Data_Seleccionada.shape[1]-5)\n",
        "print(Data_Seleccionada_F1.shape)"
      ],
      "execution_count": 9,
      "outputs": [
        {
          "output_type": "stream",
          "text": [
            "(491387, 21)\n"
          ],
          "name": "stdout"
        }
      ]
    },
    {
      "cell_type": "code",
      "metadata": {
        "id": "V4OyYgEAaj2I",
        "colab": {
          "base_uri": "https://localhost:8080/"
        },
        "outputId": "21c90e81-5c37-4bc3-c886-4d9e8d167d8a"
      },
      "source": [
        "Data_Seleccionada_F1.isnull().sum(axis = 0)"
      ],
      "execution_count": 10,
      "outputs": [
        {
          "output_type": "execute_result",
          "data": {
            "text/plain": [
              "saldo                                                       0\n",
              "saldoprom3                                                527\n",
              "saldomax3                                                 527\n",
              "saldorcc                                                  527\n",
              "nentdir                                                   527\n",
              "varsldo3                                                 5717\n",
              "v999_ventas_netas                                          57\n",
              "edad                                                        0\n",
              "genero                                                      0\n",
              "tipovi                                                      0\n",
              "estadciv                                                    0\n",
              "ubidepa                                                     0\n",
              "plazobd1                                                    0\n",
              "his_saldo_prom_03meses                                 133734\n",
              "v107_utilidad_del_negocio                                  57\n",
              "v106_liquidez_disponible_999_total_patrimonio_neto        146\n",
              "v500_capital                                              520\n",
              "v100_caja_y_bancos                                       1186\n",
              "his_ant_tot_cred                                       133734\n",
              "v107_utilidad_del_negocio_999_total_patrimonio_neto       148\n",
              "default12                                                   0\n",
              "dtype: int64"
            ]
          },
          "metadata": {
            "tags": []
          },
          "execution_count": 10
        }
      ]
    },
    {
      "cell_type": "code",
      "metadata": {
        "id": "oPHCUX_JamPT",
        "colab": {
          "base_uri": "https://localhost:8080/"
        },
        "outputId": "b5ff4f5a-9bcc-4fa2-fbaa-56f13c2936ba"
      },
      "source": [
        "Data_Seleccionada_F2 = Data_Seleccionada_F1.dropna(thresh=Data_Seleccionada_F1.shape[0]-(len(Data_Seleccionada_F1.index))*0.1, axis=1)\n",
        "print(Data_Seleccionada_F2.shape)"
      ],
      "execution_count": 11,
      "outputs": [
        {
          "output_type": "stream",
          "text": [
            "(491387, 19)\n"
          ],
          "name": "stdout"
        }
      ]
    },
    {
      "cell_type": "code",
      "metadata": {
        "id": "4fVY1dSbjVxN",
        "colab": {
          "base_uri": "https://localhost:8080/"
        },
        "outputId": "79b4d5ab-4f39-4f22-f315-d8bdb26499e9"
      },
      "source": [
        "Data_Seleccionada_F2.isnull().sum(axis = 0)"
      ],
      "execution_count": 12,
      "outputs": [
        {
          "output_type": "execute_result",
          "data": {
            "text/plain": [
              "saldo                                                     0\n",
              "saldoprom3                                              527\n",
              "saldomax3                                               527\n",
              "saldorcc                                                527\n",
              "nentdir                                                 527\n",
              "varsldo3                                               5717\n",
              "v999_ventas_netas                                        57\n",
              "edad                                                      0\n",
              "genero                                                    0\n",
              "tipovi                                                    0\n",
              "estadciv                                                  0\n",
              "ubidepa                                                   0\n",
              "plazobd1                                                  0\n",
              "v107_utilidad_del_negocio                                57\n",
              "v106_liquidez_disponible_999_total_patrimonio_neto      146\n",
              "v500_capital                                            520\n",
              "v100_caja_y_bancos                                     1186\n",
              "v107_utilidad_del_negocio_999_total_patrimonio_neto     148\n",
              "default12                                                 0\n",
              "dtype: int64"
            ]
          },
          "metadata": {
            "tags": []
          },
          "execution_count": 12
        }
      ]
    },
    {
      "cell_type": "code",
      "metadata": {
        "id": "uunGWN18bG6p",
        "colab": {
          "base_uri": "https://localhost:8080/"
        },
        "outputId": "5e9a4e85-1d7c-4d8f-8479-6955986f75d2"
      },
      "source": [
        "Data_Seleccionada_F2.default12.value_counts()"
      ],
      "execution_count": 13,
      "outputs": [
        {
          "output_type": "execute_result",
          "data": {
            "text/plain": [
              "0    437529\n",
              "1     53858\n",
              "Name: default12, dtype: int64"
            ]
          },
          "metadata": {
            "tags": []
          },
          "execution_count": 13
        }
      ]
    },
    {
      "cell_type": "code",
      "metadata": {
        "id": "uvgjv4xbbUHo",
        "colab": {
          "base_uri": "https://localhost:8080/"
        },
        "outputId": "5c05d8c4-c851-4ef4-8b30-2b1118deb5bf"
      },
      "source": [
        "Data_Seleccionada_F3= Data_Seleccionada_F2[Data_Seleccionada_F2['v100_caja_y_bancos'].notna()]\n",
        "Data_Seleccionada_F3.isnull().sum(axis = 0)"
      ],
      "execution_count": 14,
      "outputs": [
        {
          "output_type": "execute_result",
          "data": {
            "text/plain": [
              "saldo                                                     0\n",
              "saldoprom3                                              527\n",
              "saldomax3                                               527\n",
              "saldorcc                                                527\n",
              "nentdir                                                 527\n",
              "varsldo3                                               5704\n",
              "v999_ventas_netas                                        57\n",
              "edad                                                      0\n",
              "genero                                                    0\n",
              "tipovi                                                    0\n",
              "estadciv                                                  0\n",
              "ubidepa                                                   0\n",
              "plazobd1                                                  0\n",
              "v107_utilidad_del_negocio                                57\n",
              "v106_liquidez_disponible_999_total_patrimonio_neto       55\n",
              "v500_capital                                            421\n",
              "v100_caja_y_bancos                                        0\n",
              "v107_utilidad_del_negocio_999_total_patrimonio_neto      57\n",
              "default12                                                 0\n",
              "dtype: int64"
            ]
          },
          "metadata": {
            "tags": []
          },
          "execution_count": 14
        }
      ]
    },
    {
      "cell_type": "code",
      "metadata": {
        "id": "vOmoPzc1jpHU",
        "colab": {
          "base_uri": "https://localhost:8080/"
        },
        "outputId": "9023a477-e978-420b-bc92-34d5ca967ac7"
      },
      "source": [
        "Data_Seleccionada_F4= Data_Seleccionada_F3[Data_Seleccionada_F3['v500_capital'].notna()]\n",
        "Data_Seleccionada_F4.isnull().sum(axis = 0)"
      ],
      "execution_count": 15,
      "outputs": [
        {
          "output_type": "execute_result",
          "data": {
            "text/plain": [
              "saldo                                                     0\n",
              "saldoprom3                                              527\n",
              "saldomax3                                               527\n",
              "saldorcc                                                527\n",
              "nentdir                                                 527\n",
              "varsldo3                                               5696\n",
              "v999_ventas_netas                                        54\n",
              "edad                                                      0\n",
              "genero                                                    0\n",
              "tipovi                                                    0\n",
              "estadciv                                                  0\n",
              "ubidepa                                                   0\n",
              "plazobd1                                                  0\n",
              "v107_utilidad_del_negocio                                54\n",
              "v106_liquidez_disponible_999_total_patrimonio_neto       52\n",
              "v500_capital                                              0\n",
              "v100_caja_y_bancos                                        0\n",
              "v107_utilidad_del_negocio_999_total_patrimonio_neto      54\n",
              "default12                                                 0\n",
              "dtype: int64"
            ]
          },
          "metadata": {
            "tags": []
          },
          "execution_count": 15
        }
      ]
    },
    {
      "cell_type": "code",
      "metadata": {
        "id": "8qu2CEDxkNvk",
        "colab": {
          "base_uri": "https://localhost:8080/"
        },
        "outputId": "474619bb-8000-4e83-f818-03c55e5cb630"
      },
      "source": [
        "Data_Seleccionada_F5= Data_Seleccionada_F4[Data_Seleccionada_F4['v107_utilidad_del_negocio'].notna()]\n",
        "Data_Seleccionada_F5.isnull().sum(axis = 0)"
      ],
      "execution_count": 16,
      "outputs": [
        {
          "output_type": "execute_result",
          "data": {
            "text/plain": [
              "saldo                                                     0\n",
              "saldoprom3                                              527\n",
              "saldomax3                                               527\n",
              "saldorcc                                                527\n",
              "nentdir                                                 527\n",
              "varsldo3                                               5696\n",
              "v999_ventas_netas                                         0\n",
              "edad                                                      0\n",
              "genero                                                    0\n",
              "tipovi                                                    0\n",
              "estadciv                                                  0\n",
              "ubidepa                                                   0\n",
              "plazobd1                                                  0\n",
              "v107_utilidad_del_negocio                                 0\n",
              "v106_liquidez_disponible_999_total_patrimonio_neto        1\n",
              "v500_capital                                              0\n",
              "v100_caja_y_bancos                                        0\n",
              "v107_utilidad_del_negocio_999_total_patrimonio_neto       0\n",
              "default12                                                 0\n",
              "dtype: int64"
            ]
          },
          "metadata": {
            "tags": []
          },
          "execution_count": 16
        }
      ]
    },
    {
      "cell_type": "code",
      "metadata": {
        "id": "Cs80iB1GkRFr",
        "colab": {
          "base_uri": "https://localhost:8080/"
        },
        "outputId": "f36c29ae-c585-4474-f7d1-709854edb6b3"
      },
      "source": [
        "Data_Seleccionada_F6= Data_Seleccionada_F5[Data_Seleccionada_F5['v106_liquidez_disponible_999_total_patrimonio_neto'].notna()]\n",
        "Data_Seleccionada_F6.isnull().sum(axis = 0)"
      ],
      "execution_count": 17,
      "outputs": [
        {
          "output_type": "execute_result",
          "data": {
            "text/plain": [
              "saldo                                                     0\n",
              "saldoprom3                                              527\n",
              "saldomax3                                               527\n",
              "saldorcc                                                527\n",
              "nentdir                                                 527\n",
              "varsldo3                                               5695\n",
              "v999_ventas_netas                                         0\n",
              "edad                                                      0\n",
              "genero                                                    0\n",
              "tipovi                                                    0\n",
              "estadciv                                                  0\n",
              "ubidepa                                                   0\n",
              "plazobd1                                                  0\n",
              "v107_utilidad_del_negocio                                 0\n",
              "v106_liquidez_disponible_999_total_patrimonio_neto        0\n",
              "v500_capital                                              0\n",
              "v100_caja_y_bancos                                        0\n",
              "v107_utilidad_del_negocio_999_total_patrimonio_neto       0\n",
              "default12                                                 0\n",
              "dtype: int64"
            ]
          },
          "metadata": {
            "tags": []
          },
          "execution_count": 17
        }
      ]
    },
    {
      "cell_type": "code",
      "metadata": {
        "colab": {
          "base_uri": "https://localhost:8080/"
        },
        "id": "Dl7pvvagMT9O",
        "outputId": "5bb5e2fb-2dd9-457f-c8ea-cddc994a077f"
      },
      "source": [
        "Data_Seleccionada_F6.default12.value_counts()"
      ],
      "execution_count": 18,
      "outputs": [
        {
          "output_type": "execute_result",
          "data": {
            "text/plain": [
              "0    436049\n",
              "1     53676\n",
              "Name: default12, dtype: int64"
            ]
          },
          "metadata": {
            "tags": []
          },
          "execution_count": 18
        }
      ]
    },
    {
      "cell_type": "code",
      "metadata": {
        "colab": {
          "base_uri": "https://localhost:8080/"
        },
        "id": "e22d3DYOMXl5",
        "outputId": "ab9879d2-34a6-42e5-b6b7-dc6b8df52445"
      },
      "source": [
        "print(Data_Seleccionada_F6.shape)"
      ],
      "execution_count": 19,
      "outputs": [
        {
          "output_type": "stream",
          "text": [
            "(489725, 19)\n"
          ],
          "name": "stdout"
        }
      ]
    },
    {
      "cell_type": "code",
      "metadata": {
        "colab": {
          "base_uri": "https://localhost:8080/",
          "height": 345
        },
        "id": "fkbirkbYMZq9",
        "outputId": "f7eaa065-1d22-497f-a80a-f84f5ea2a4ea"
      },
      "source": [
        "Data_Seleccionada_F6.value_counts(Data_Seleccionada_F6['default12']).plot.bar()\r\n",
        "plt.title('Default histogram')\r\n",
        "plt.xlabel('default12')\r\n",
        "plt.ylabel('Frequency')\r\n",
        "Data_Seleccionada_F6['default12'].value_counts()\r\n"
      ],
      "execution_count": 20,
      "outputs": [
        {
          "output_type": "execute_result",
          "data": {
            "text/plain": [
              "0    436049\n",
              "1     53676\n",
              "Name: default12, dtype: int64"
            ]
          },
          "metadata": {
            "tags": []
          },
          "execution_count": 20
        },
        {
          "output_type": "display_data",
          "data": {
            "image/png": "[encoded data removed]",
            "text/plain": [
              "<Figure size 432x288 with 1 Axes>"
            ]
          },
          "metadata": {
            "tags": [],
            "needs_background": "light"
          }
        }
      ]
    },
    {
      "cell_type": "code",
      "metadata": {
        "id": "gP_agdnPhvE1"
      },
      "source": [
        "pd.options.mode.chained_assignment = None  # default='warn'"
      ],
      "execution_count": 21,
      "outputs": []
    },
    {
      "cell_type": "code",
      "metadata": {
        "id": "zMeG5Ik3hLE8"
      },
      "source": [
        "Data_Seleccionada_F6.fillna({'saldoprom3':0,'saldomax3':0,'saldorcc':0,'nentdir':0,'varsldo3':0},inplace=True)"
      ],
      "execution_count": 22,
      "outputs": []
    },
    {
      "cell_type": "code",
      "metadata": {
        "colab": {
          "base_uri": "https://localhost:8080/"
        },
        "id": "SxFr8Hp9hzDj",
        "outputId": "42ed213b-47f4-44d2-9cfe-3d00f27c3b31"
      },
      "source": [
        "Data_Seleccionada_F6.isnull().sum(axis = 0)"
      ],
      "execution_count": 23,
      "outputs": [
        {
          "output_type": "execute_result",
          "data": {
            "text/plain": [
              "saldo                                                  0\n",
              "saldoprom3                                             0\n",
              "saldomax3                                              0\n",
              "saldorcc                                               0\n",
              "nentdir                                                0\n",
              "varsldo3                                               0\n",
              "v999_ventas_netas                                      0\n",
              "edad                                                   0\n",
              "genero                                                 0\n",
              "tipovi                                                 0\n",
              "estadciv                                               0\n",
              "ubidepa                                                0\n",
              "plazobd1                                               0\n",
              "v107_utilidad_del_negocio                              0\n",
              "v106_liquidez_disponible_999_total_patrimonio_neto     0\n",
              "v500_capital                                           0\n",
              "v100_caja_y_bancos                                     0\n",
              "v107_utilidad_del_negocio_999_total_patrimonio_neto    0\n",
              "default12                                              0\n",
              "dtype: int64"
            ]
          },
          "metadata": {
            "tags": []
          },
          "execution_count": 23
        }
      ]
    },
    {
      "cell_type": "markdown",
      "metadata": {
        "id": "IlyskBlSqnnG"
      },
      "source": [
        "**JUSTIFICACIÓN DE VARIABLES, ANALISIS ESTADÍSTICO E HISTOGRAMA**\r\n"
      ]
    },
    {
      "cell_type": "markdown",
      "metadata": {
        "id": "g8W3SIMQ672R"
      },
      "source": [
        "##### **1. Género**"
      ]
    },
    {
      "cell_type": "code",
      "metadata": {
        "colab": {
          "base_uri": "https://localhost:8080/",
          "height": 312
        },
        "id": "nEk7PXtY6qQp",
        "outputId": "062f73e4-0a43-42f4-ca86-3bd69a9a2e48"
      },
      "source": [
        "plt.hist (Data_Seleccionada_F6 [\"genero\"], bins = 10) \r\n",
        "plt.xticks ((0,1), ('0', '1'))\r\n",
        "plt.xlabel (\"Género\") \r\n",
        "plt.ylabel (\"Frecuencia\") \r\n",
        "plt.title (\"Histograma Variable genero\") "
      ],
      "execution_count": 25,
      "outputs": [
        {
          "output_type": "execute_result",
          "data": {
            "text/plain": [
              "Text(0.5, 1.0, 'Histograma Variable genero')"
            ]
          },
          "metadata": {
            "tags": []
          },
          "execution_count": 25
        },
        {
          "output_type": "display_data",
          "data": {
            "image/png": "[encoded data removed]",
            "text/plain": [
              "<Figure size 432x288 with 1 Axes>"
            ]
          },
          "metadata": {
            "tags": [],
            "needs_background": "light"
          }
        }
      ]
    },
    {
      "cell_type": "code",
      "metadata": {
        "colab": {
          "base_uri": "https://localhost:8080/",
          "height": 330
        },
        "id": "sY6Y2Yga6qNg",
        "outputId": "e4109774-96ba-4586-c82b-e465edcc5986"
      },
      "source": [
        "percentages = []\r\n",
        "for gen in list(Data_Seleccionada_F6[\"genero\"].unique()):\r\n",
        "    \r\n",
        "    p = round((Data_Seleccionada_F6[\"default12\"][Data_Seleccionada_F6[\"genero\"]==gen].value_counts()[1]/Data_Seleccionada_F6[\"default12\"][Data_Seleccionada_F6[\"genero\"]==gen].value_counts().sum())*100 , 2)\r\n",
        "    \r\n",
        "    percentages.append(p)\r\n",
        "    print(gen,\"(% to exit) : \", p)\r\n",
        "plt.bar (0, percentages [0]) \r\n",
        "plt.bar (1, percentages [1])\r\n",
        "plt.xticks ((0,1), ('Mujer', 'Hombre')) \r\n",
        "plt.xlabel (\"Género\") \r\n",
        "plt.ylabel (\"Porcentaje\") \r\n",
        "plt.title (\"Porcentaje de género para hacer Default\") \r\n",
        "plt. show()"
      ],
      "execution_count": 26,
      "outputs": [
        {
          "output_type": "stream",
          "text": [
            "0.0 (% to exit) :  11.25\n",
            "1.0 (% to exit) :  10.58\n"
          ],
          "name": "stdout"
        },
        {
          "output_type": "display_data",
          "data": {
            "image/png": "[encoded data removed]",
            "text/plain": [
              "<Figure size 432x288 with 1 Axes>"
            ]
          },
          "metadata": {
            "tags": [],
            "needs_background": "light"
          }
        }
      ]
    },
    {
      "cell_type": "markdown",
      "metadata": {
        "id": "VkKsJowA7K7g"
      },
      "source": [
        "##### **2. Ubicación del departamento**"
      ]
    },
    {
      "cell_type": "code",
      "metadata": {
        "colab": {
          "base_uri": "https://localhost:8080/",
          "height": 312
        },
        "id": "jT1Ixk2j6qKl",
        "outputId": "d38b0ee0-caa6-43d1-fd91-0d5312a63d60"
      },
      "source": [
        "plt.hist (Data_Seleccionada_F6 [\"ubidepa\"], bins = 20) \r\n",
        "plt.xticks ((0,1,2,3,4,5,6,7), ('1','2','3','4','5','6','7','8')) \r\n",
        "plt.xlabel (\"Ubicacion Vivienda\") \r\n",
        "plt.ylabel (\"Frecuencia\") \r\n",
        "plt.title (\"Histograma Variable Ubidepa\") "
      ],
      "execution_count": 27,
      "outputs": [
        {
          "output_type": "execute_result",
          "data": {
            "text/plain": [
              "Text(0.5, 1.0, 'Histograma Variable Ubidepa')"
            ]
          },
          "metadata": {
            "tags": []
          },
          "execution_count": 27
        },
        {
          "output_type": "display_data",
          "data": {
            "image/png": "[encoded data removed]",
            "text/plain": [
              "<Figure size 432x288 with 1 Axes>"
            ]
          },
          "metadata": {
            "tags": [],
            "needs_background": "light"
          }
        }
      ]
    },
    {
      "cell_type": "code",
      "metadata": {
        "colab": {
          "base_uri": "https://localhost:8080/",
          "height": 436
        },
        "id": "qLN5b0DS6p_5",
        "outputId": "c8194447-b2de-4c45-d2c6-f640c1305669"
      },
      "source": [
        "percentages = []\r\n",
        "for gen in list(Data_Seleccionada_F6[\"ubidepa\"].unique()):\r\n",
        "    \r\n",
        "    p = round((Data_Seleccionada_F6[\"default12\"][Data_Seleccionada_F6[\"ubidepa\"]==gen].value_counts()[1]/Data_Seleccionada_F6[\"default12\"][Data_Seleccionada_F6[\"ubidepa\"]==gen].value_counts().sum())*100 , 2)\r\n",
        "    \r\n",
        "    percentages.append(p)\r\n",
        "    print(gen,\"(% to exit) : \", p)\r\n",
        "    \r\n",
        "plt.bar (0, percentages [0]) \r\n",
        "plt.bar (1, percentages [1])\r\n",
        "plt.bar (2, percentages [2]) \r\n",
        "plt.bar (3, percentages [3]) \r\n",
        "plt.bar (4, percentages [4]) \r\n",
        "plt.bar (5, percentages [5]) \r\n",
        "plt.bar (6, percentages [6]) \r\n",
        "plt.bar (7, percentages [7]) \r\n",
        "plt.xticks ((0,1,2,3,4,5,6,7), ('4','2','6','5','7','0','3','1')) \r\n",
        "plt.xlabel (\"Ubiacion Vivienda\") \r\n",
        "plt.ylabel (\"Porcentaje\") \r\n",
        "plt.title (\"Porcentaje para hacer Default según ubicación de vivienda\") \r\n",
        "plt. show()  "
      ],
      "execution_count": 28,
      "outputs": [
        {
          "output_type": "stream",
          "text": [
            "4 (% to exit) :  11.41\n",
            "5 (% to exit) :  12.03\n",
            "0 (% to exit) :  11.03\n",
            "7 (% to exit) :  14.28\n",
            "2 (% to exit) :  8.19\n",
            "6 (% to exit) :  14.01\n",
            "1 (% to exit) :  5.83\n",
            "3 (% to exit) :  9.46\n"
          ],
          "name": "stdout"
        },
        {
          "output_type": "display_data",
          "data": {
            "image/png": "[encoded data removed]",
            "text/plain": [
              "<Figure size 432x288 with 1 Axes>"
            ]
          },
          "metadata": {
            "tags": [],
            "needs_background": "light"
          }
        }
      ]
    },
    {
      "cell_type": "markdown",
      "metadata": {
        "id": "WB80yljv7Uri"
      },
      "source": [
        "##### **3. Edad**"
      ]
    },
    {
      "cell_type": "code",
      "metadata": {
        "colab": {
          "base_uri": "https://localhost:8080/",
          "height": 312
        },
        "id": "0qCLB97f6onC",
        "outputId": "f72bbfd3-e46e-4592-aefd-42d4cf639f2f"
      },
      "source": [
        "plt.hist (Data_Seleccionada_F6 [\"edad\"], bins = 20) \r\n",
        "plt.xlabel (\"Edad\") \r\n",
        "plt.ylabel (\"Frecuencia\")\r\n",
        "plt.title (\"Histograma Variable edad\") "
      ],
      "execution_count": 133,
      "outputs": [
        {
          "output_type": "execute_result",
          "data": {
            "text/plain": [
              "Text(0.5, 1.0, 'Histograma Variable edad')"
            ]
          },
          "metadata": {
            "tags": []
          },
          "execution_count": 133
        },
        {
          "output_type": "display_data",
          "data": {
            "image/png": "[encoded data removed]",
            "text/plain": [
              "<Figure size 432x288 with 1 Axes>"
            ]
          },
          "metadata": {
            "tags": [],
            "needs_background": "light"
          }
        }
      ]
    },
    {
      "cell_type": "markdown",
      "metadata": {
        "id": "UlFRaF0N8JHi"
      },
      "source": [
        "##### **4. Tipo de vivienda**"
      ]
    },
    {
      "cell_type": "code",
      "metadata": {
        "colab": {
          "base_uri": "https://localhost:8080/",
          "height": 312
        },
        "id": "5GEay_a8729P",
        "outputId": "2e9568e0-579e-49ae-fd88-82ff29ff2af6"
      },
      "source": [
        "plt.hist (Data_Seleccionada_F7 [\"tipovi\"], bins = 5) \r\n",
        "plt.xticks ((0,1,2), ('Tipo 0', 'Tipo 1', 'Tipo 2')) \r\n",
        "plt.xlabel (\"Tipo de vivienda\") \r\n",
        "plt.ylabel (\"Frecuencia\")\r\n",
        "plt.title (\"Histograma Variable Tipovi\") "
      ],
      "execution_count": 39,
      "outputs": [
        {
          "output_type": "execute_result",
          "data": {
            "text/plain": [
              "Text(0.5, 1.0, 'Histograma Variable Tipovi')"
            ]
          },
          "metadata": {
            "tags": []
          },
          "execution_count": 39
        },
        {
          "output_type": "display_data",
          "data": {
            "image/png": "[encoded data removed]",
            "text/plain": [
              "<Figure size 432x288 with 1 Axes>"
            ]
          },
          "metadata": {
            "tags": [],
            "needs_background": "light"
          }
        }
      ]
    },
    {
      "cell_type": "code",
      "metadata": {
        "colab": {
          "base_uri": "https://localhost:8080/"
        },
        "id": "4xPCkUPV7rp9",
        "outputId": "029659d3-415e-4baa-e250-3e45d5e2f838"
      },
      "source": [
        "Data_Seleccionada_F7.tipovi.value_counts()"
      ],
      "execution_count": 40,
      "outputs": [
        {
          "output_type": "execute_result",
          "data": {
            "text/plain": [
              "2    288111\n",
              "1    149177\n",
              "0     52437\n",
              "Name: tipovi, dtype: int64"
            ]
          },
          "metadata": {
            "tags": []
          },
          "execution_count": 40
        }
      ]
    },
    {
      "cell_type": "code",
      "metadata": {
        "colab": {
          "base_uri": "https://localhost:8080/",
          "height": 347
        },
        "id": "KV81kpxo7rl5",
        "outputId": "0a171bc4-3c8b-4db1-e846-5c7021b2901c"
      },
      "source": [
        "percentages = []\r\n",
        "for gen in list(Data_Seleccionada_F7[\"tipovi\"].unique()):\r\n",
        "    p = round((Data_Seleccionada_F7[\"default12\"][Data_Seleccionada_F7[\"tipovi\"]==gen].value_counts()[1]/Data_Seleccionada_F7[\"default12\"][Data_Seleccionada_F7[\"tipovi\"]==gen].value_counts().sum())*100 , 2)\r\n",
        "    percentages.append(p)\r\n",
        "    print(gen,\"(% to exit) : \", p)\r\n",
        "plt.bar (0, percentages [0]) \r\n",
        "plt.bar (1, percentages [1])\r\n",
        "plt.bar (2, percentages [2])\r\n",
        "plt.xticks ((0,1,2), ('Tipo 0', 'Tipo 1', 'Tipo 2')) \r\n",
        "plt.xlabel (\"Tipo de vivienda\") \r\n",
        "plt.ylabel (\"Porcentaje\") \r\n",
        "plt.title (\"Porcentaje para hacer Default según el tipo de vivienda\") \r\n",
        "plt. show()"
      ],
      "execution_count": 41,
      "outputs": [
        {
          "output_type": "stream",
          "text": [
            "2 (% to exit) :  9.44\n",
            "1 (% to exit) :  13.53\n",
            "0 (% to exit) :  12.03\n"
          ],
          "name": "stdout"
        },
        {
          "output_type": "display_data",
          "data": {
            "image/png": "[encoded data removed]",
            "text/plain": [
              "<Figure size 432x288 with 1 Axes>"
            ]
          },
          "metadata": {
            "tags": [],
            "needs_background": "light"
          }
        }
      ]
    },
    {
      "cell_type": "markdown",
      "metadata": {
        "id": "Vgxlk6kq8d2k"
      },
      "source": [
        "##### **5. Estado civil**"
      ]
    },
    {
      "cell_type": "code",
      "metadata": {
        "colab": {
          "base_uri": "https://localhost:8080/",
          "height": 312
        },
        "id": "ck43dvs67rir",
        "outputId": "690f6d7f-e90e-410a-ce60-cde0632f8250"
      },
      "source": [
        "plt.hist (Data_Seleccionada_F7 [\"estadciv\"], bins = 7) \r\n",
        "plt.xticks ((0,1,2,3), ('Tipo 0', 'Tipo 1', 'Tipo 2','Tipo 3')) \r\n",
        "plt.xlabel (\"Estado Civil\") \r\n",
        "plt.ylabel (\"Frecuencia\")\r\n",
        "plt.title (\"Histograma Variable EstadCiv\") "
      ],
      "execution_count": 42,
      "outputs": [
        {
          "output_type": "execute_result",
          "data": {
            "text/plain": [
              "Text(0.5, 1.0, 'Histograma Variable EstadCiv')"
            ]
          },
          "metadata": {
            "tags": []
          },
          "execution_count": 42
        },
        {
          "output_type": "display_data",
          "data": {
            "image/png": "[encoded data removed]",
            "text/plain": [
              "<Figure size 432x288 with 1 Axes>"
            ]
          },
          "metadata": {
            "tags": [],
            "needs_background": "light"
          }
        }
      ]
    },
    {
      "cell_type": "code",
      "metadata": {
        "colab": {
          "base_uri": "https://localhost:8080/"
        },
        "id": "Lqcne15H7rfV",
        "outputId": "fc6741b9-930c-4931-8d82-8c917d7bd251"
      },
      "source": [
        "Data_Seleccionada_F7.estadciv.value_counts()"
      ],
      "execution_count": 43,
      "outputs": [
        {
          "output_type": "execute_result",
          "data": {
            "text/plain": [
              "3    354372\n",
              "1    114806\n",
              "2     11970\n",
              "0      8577\n",
              "Name: estadciv, dtype: int64"
            ]
          },
          "metadata": {
            "tags": []
          },
          "execution_count": 43
        }
      ]
    },
    {
      "cell_type": "code",
      "metadata": {
        "colab": {
          "base_uri": "https://localhost:8080/",
          "height": 365
        },
        "id": "q9TV9RBl7rcJ",
        "outputId": "bd6bc25d-aaec-496b-a866-950a52b78318"
      },
      "source": [
        "percentages = []\r\n",
        "for gen in list(Data_Seleccionada_F7[\"estadciv\"].unique()):\r\n",
        "    p = round((Data_Seleccionada_F7[\"default12\"][Data_Seleccionada_F7[\"estadciv\"]==gen].value_counts()[0]/Data_Seleccionada_F7[\"default12\"][Data_Seleccionada_F7[\"estadciv\"]==gen].value_counts().sum())*100 , 2)\r\n",
        "    percentages.append(100-p)\r\n",
        "    print(gen,\"(% to exit) : \", round(100-p,2))\r\n",
        "plt.bar (0, percentages [0]) \r\n",
        "plt.bar (1, percentages [1])\r\n",
        "plt.bar (2, percentages [2])\r\n",
        "plt.bar (3, percentages [3])\r\n",
        "plt.xticks ((0,1,2,3), ('Tipo 3', 'Tipo 2', 'Tipo 1','Tipo 0')) \r\n",
        "plt.xlabel (\"Tipo de Estado Civil\") \r\n",
        "plt.ylabel (\"Porcentaje\") \r\n",
        "plt.title (\"Porcentaje para hacer Default según el estado civil\") \r\n",
        "plt. show()"
      ],
      "execution_count": 44,
      "outputs": [
        {
          "output_type": "stream",
          "text": [
            "3 (% to exit) :  12.08\n",
            "1 (% to exit) :  8.47\n",
            "2 (% to exit) :  9.48\n",
            "0 (% to exit) :  0.0\n"
          ],
          "name": "stdout"
        },
        {
          "output_type": "display_data",
          "data": {
            "image/png": "[encoded data removed]",
            "text/plain": [
              "<Figure size 432x288 with 1 Axes>"
            ]
          },
          "metadata": {
            "tags": [],
            "needs_background": "light"
          }
        }
      ]
    },
    {
      "cell_type": "markdown",
      "metadata": {
        "id": "JnjLrxK48r-G"
      },
      "source": [
        "##### **6. Número de entidades**"
      ]
    },
    {
      "cell_type": "code",
      "metadata": {
        "colab": {
          "base_uri": "https://localhost:8080/"
        },
        "id": "_LT5Vh5H7q-j",
        "outputId": "83ad5216-7cb5-456e-c8db-40b7c21c6547"
      },
      "source": [
        "Data_Seleccionada_F7.nentdir.value_counts()"
      ],
      "execution_count": 45,
      "outputs": [
        {
          "output_type": "execute_result",
          "data": {
            "text/plain": [
              "1.0    208365\n",
              "2.0    152981\n",
              "3.0     88148\n",
              "4.0     39704\n",
              "0.0       527\n",
              "Name: nentdir, dtype: int64"
            ]
          },
          "metadata": {
            "tags": []
          },
          "execution_count": 45
        }
      ]
    },
    {
      "cell_type": "code",
      "metadata": {
        "colab": {
          "base_uri": "https://localhost:8080/",
          "height": 312
        },
        "id": "RduclzZb7q7p",
        "outputId": "c0248560-1482-40a6-9de1-cb794c73d127"
      },
      "source": [
        "plt.hist (Data_Seleccionada_F7 [\"nentdir\"], bins = 10) \r\n",
        "plt.xticks ((0,1,2,3,4), ('Tipo 0', 'Tipo 1', 'Tipo 2','Tipo 3','Tipo4')) \r\n",
        "plt.xlabel (\"Nentdir\") \r\n",
        "plt.ylabel (\"Frecuencia\")\r\n",
        "plt.title (\"Histograma Variable Nentdir\") "
      ],
      "execution_count": 46,
      "outputs": [
        {
          "output_type": "execute_result",
          "data": {
            "text/plain": [
              "Text(0.5, 1.0, 'Histograma Variable Nentdir')"
            ]
          },
          "metadata": {
            "tags": []
          },
          "execution_count": 46
        },
        {
          "output_type": "display_data",
          "data": {
            "image/png": "[encoded data removed]",
            "text/plain": [
              "<Figure size 432x288 with 1 Axes>"
            ]
          },
          "metadata": {
            "tags": [],
            "needs_background": "light"
          }
        }
      ]
    },
    {
      "cell_type": "code",
      "metadata": {
        "colab": {
          "base_uri": "https://localhost:8080/",
          "height": 383
        },
        "id": "AcSXMwSK7q4N",
        "outputId": "28e2e7a1-9bca-4564-939c-325728fc57a4"
      },
      "source": [
        "percentages = []\r\n",
        "a=[0,1,2,3,4]\r\n",
        "for gen in a:\r\n",
        "    p = round((Data_Seleccionada_F7[\"default12\"][Data_Seleccionada_F7[\"nentdir\"]==gen].value_counts()[1]/Data_Seleccionada_F7[\"default12\"][Data_Seleccionada_F7[\"nentdir\"]==gen].value_counts().sum())*100 , 2)\r\n",
        "    percentages.append(p)\r\n",
        "    print(gen,\"(% to exit) : \", round(p,2))\r\n",
        "    \r\n",
        "plt.bar (0, percentages [0]) \r\n",
        "plt.bar (1, percentages [1])\r\n",
        "plt.bar (2, percentages [2])\r\n",
        "plt.bar (3, percentages [3])\r\n",
        "plt.bar (4, percentages [4])\r\n",
        "plt.xticks ((0,1,2,3,4), ('Tipo 0', 'Tipo 1', 'Tipo 2','Tipo 3','Tipo 4')) \r\n",
        "plt.xlabel (\"Nendir\") \r\n",
        "plt.ylabel (\"Porcentaje\") \r\n",
        "plt.title (\"Porcentaje para hacer Default según el Nentdir\") \r\n",
        "plt. show()"
      ],
      "execution_count": 47,
      "outputs": [
        {
          "output_type": "stream",
          "text": [
            "0 (% to exit) :  8.35\n",
            "1 (% to exit) :  7.48\n",
            "2 (% to exit) :  11.46\n",
            "3 (% to exit) :  14.64\n",
            "4 (% to exit) :  19.15\n"
          ],
          "name": "stdout"
        },
        {
          "output_type": "display_data",
          "data": {
            "image/png": "[encoded data removed]",
            "text/plain": [
              "<Figure size 432x288 with 1 Axes>"
            ]
          },
          "metadata": {
            "tags": [],
            "needs_background": "light"
          }
        }
      ]
    },
    {
      "cell_type": "markdown",
      "metadata": {
        "id": "zvgK1eKU9jIF"
      },
      "source": [
        "##### **7. Saldo**"
      ]
    },
    {
      "cell_type": "code",
      "metadata": {
        "colab": {
          "base_uri": "https://localhost:8080/",
          "height": 312
        },
        "id": "ud_DJql27q0e",
        "outputId": "5dee7ae7-53f3-4ded-88fd-2ee7ce0f03f1"
      },
      "source": [
        "plt.hist (Data_Seleccionada_F7 [\"saldo\"]) \r\n",
        "plt.xlabel (\"Saldo\") \r\n",
        "plt.ylabel (\"Frecuencia\") \r\n",
        "plt.title (\"Histograma variable Saldo\") "
      ],
      "execution_count": 48,
      "outputs": [
        {
          "output_type": "execute_result",
          "data": {
            "text/plain": [
              "Text(0.5, 1.0, 'Histograma variable Saldo')"
            ]
          },
          "metadata": {
            "tags": []
          },
          "execution_count": 48
        },
        {
          "output_type": "display_data",
          "data": {
            "image/png": "[encoded data removed]",
            "text/plain": [
              "<Figure size 432x288 with 1 Axes>"
            ]
          },
          "metadata": {
            "tags": [],
            "needs_background": "light"
          }
        }
      ]
    },
    {
      "cell_type": "markdown",
      "metadata": {
        "id": "ykW4S_bS9pnG"
      },
      "source": [
        "##### **8. Saldoprom3**"
      ]
    },
    {
      "cell_type": "code",
      "metadata": {
        "colab": {
          "base_uri": "https://localhost:8080/",
          "height": 312
        },
        "id": "xN8FX74W9vFQ",
        "outputId": "6a96fb54-82e6-4776-f685-95ab9f872c9c"
      },
      "source": [
        "plt.hist (Data_Seleccionada_F7 [\"saldoprom3\"]) \r\n",
        "plt.xlabel (\"Saldoprom3\") \r\n",
        "plt.ylabel (\"Frecuencia\") \r\n",
        "plt.title (\"Histograma variable Saldoprom3\") "
      ],
      "execution_count": 49,
      "outputs": [
        {
          "output_type": "execute_result",
          "data": {
            "text/plain": [
              "Text(0.5, 1.0, 'Histograma variable Saldoprom3')"
            ]
          },
          "metadata": {
            "tags": []
          },
          "execution_count": 49
        },
        {
          "output_type": "display_data",
          "data": {
            "image/png": "[encoded data removed]",
            "text/plain": [
              "<Figure size 432x288 with 1 Axes>"
            ]
          },
          "metadata": {
            "tags": [],
            "needs_background": "light"
          }
        }
      ]
    },
    {
      "cell_type": "code",
      "metadata": {
        "colab": {
          "base_uri": "https://localhost:8080/",
          "height": 383
        },
        "id": "VYsEz64SVTdg",
        "outputId": "5033591d-2f33-4ec5-b54d-ea1b92b1c679"
      },
      "source": [
        "plt.hist (df_test [\"saldoprom3\"]) \r\n",
        "plt.xlabel (\"Saldoprom3\") \r\n",
        "plt.ylabel (\"Frecuencia\") \r\n",
        "plt.title (\"Histograma variable Saldoprom3\") "
      ],
      "execution_count": 134,
      "outputs": [
        {
          "output_type": "stream",
          "text": [
            "/usr/local/lib/python3.6/dist-packages/numpy/lib/histograms.py:839: RuntimeWarning: invalid value encountered in greater_equal\n",
            "  keep = (tmp_a >= first_edge)\n",
            "/usr/local/lib/python3.6/dist-packages/numpy/lib/histograms.py:840: RuntimeWarning: invalid value encountered in less_equal\n",
            "  keep &= (tmp_a <= last_edge)\n"
          ],
          "name": "stderr"
        },
        {
          "output_type": "execute_result",
          "data": {
            "text/plain": [
              "Text(0.5, 1.0, 'Histograma variable Saldoprom3')"
            ]
          },
          "metadata": {
            "tags": []
          },
          "execution_count": 134
        },
        {
          "output_type": "display_data",
          "data": {
            "image/png": "[encoded data removed]",
            "text/plain": [
              "<Figure size 432x288 with 1 Axes>"
            ]
          },
          "metadata": {
            "tags": [],
            "needs_background": "light"
          }
        }
      ]
    },
    {
      "cell_type": "markdown",
      "metadata": {
        "id": "ybWI8--U9x3s"
      },
      "source": [
        "##### **9. SaldoMax3**"
      ]
    },
    {
      "cell_type": "code",
      "metadata": {
        "colab": {
          "base_uri": "https://localhost:8080/",
          "height": 312
        },
        "id": "jHhJGDws9vB7",
        "outputId": "a73a39d5-8b4e-42d0-be0f-3c46fc41df96"
      },
      "source": [
        "plt.hist (Data_Seleccionada_F7 [\"saldomax3\"]) \r\n",
        "plt.xlabel (\"Saldomax3\") \r\n",
        "plt.ylabel (\"Frecuencia\") \r\n",
        "plt.title (\"Histograma variable Saldomax3\")"
      ],
      "execution_count": 50,
      "outputs": [
        {
          "output_type": "execute_result",
          "data": {
            "text/plain": [
              "Text(0.5, 1.0, 'Histograma variable Saldomax3')"
            ]
          },
          "metadata": {
            "tags": []
          },
          "execution_count": 50
        },
        {
          "output_type": "display_data",
          "data": {
            "image/png": "[encoded data removed]",
            "text/plain": [
              "<Figure size 432x288 with 1 Axes>"
            ]
          },
          "metadata": {
            "tags": [],
            "needs_background": "light"
          }
        }
      ]
    },
    {
      "cell_type": "markdown",
      "metadata": {
        "id": "lLPbQh-y-QXH"
      },
      "source": [
        "##### **10. Capital**"
      ]
    },
    {
      "cell_type": "code",
      "metadata": {
        "colab": {
          "base_uri": "https://localhost:8080/",
          "height": 312
        },
        "id": "0YoJSwVm9u-c",
        "outputId": "ce656d3d-8ec9-41a0-e85a-d106a527b6a6"
      },
      "source": [
        "plt.hist (Data_Seleccionada_F7 [\"v500_capital\"]) \r\n",
        "plt.xlabel (\"Capital\") \r\n",
        "plt.ylabel (\"Frecuencia\") \r\n",
        "plt.title (\"Histograma variable Capital\") "
      ],
      "execution_count": 52,
      "outputs": [
        {
          "output_type": "execute_result",
          "data": {
            "text/plain": [
              "Text(0.5, 1.0, 'Histograma variable Capital')"
            ]
          },
          "metadata": {
            "tags": []
          },
          "execution_count": 52
        },
        {
          "output_type": "display_data",
          "data": {
            "image/png": "[encoded data removed]",
            "text/plain": [
              "<Figure size 432x288 with 1 Axes>"
            ]
          },
          "metadata": {
            "tags": [],
            "needs_background": "light"
          }
        }
      ]
    },
    {
      "cell_type": "markdown",
      "metadata": {
        "id": "kA21h7Cs-rio"
      },
      "source": [
        "##### **11. Cajas y bancos**"
      ]
    },
    {
      "cell_type": "code",
      "metadata": {
        "colab": {
          "base_uri": "https://localhost:8080/",
          "height": 312
        },
        "id": "KA2P-qed9u7J",
        "outputId": "782dcee9-5bca-4642-8ea6-4ca70fbf0782"
      },
      "source": [
        "plt.hist (Data_Seleccionada_F7 [\"v100_caja_y_bancos\"]) \r\n",
        "plt.xlabel (\"Cajas y Bancos\") \r\n",
        "plt.ylabel (\"Frecuencia\") \r\n",
        "plt.title (\"Histograma variable Cajas y bancos\") "
      ],
      "execution_count": 53,
      "outputs": [
        {
          "output_type": "execute_result",
          "data": {
            "text/plain": [
              "Text(0.5, 1.0, 'Histograma variable Cajas y bancos')"
            ]
          },
          "metadata": {
            "tags": []
          },
          "execution_count": 53
        },
        {
          "output_type": "display_data",
          "data": {
            "image/png": "[encoded data removed]",
            "text/plain": [
              "<Figure size 432x288 with 1 Axes>"
            ]
          },
          "metadata": {
            "tags": [],
            "needs_background": "light"
          }
        }
      ]
    },
    {
      "cell_type": "markdown",
      "metadata": {
        "id": "cLxVrG2F_FPl"
      },
      "source": [
        "##### **12. Liqueidez Disp/Patrimonio Neto**"
      ]
    },
    {
      "cell_type": "code",
      "metadata": {
        "colab": {
          "base_uri": "https://localhost:8080/",
          "height": 313
        },
        "id": "lAZpqmsn9u2a",
        "outputId": "0149a89e-3261-45c8-ab91-e796496c21c2"
      },
      "source": [
        "plt.hist (Data_Seleccionada_F7 [\"v106_liquidez_disponible_999_total_patrimonio_neto\"]) \r\n",
        "plt.xlabel (\"v106_liquidez_disponible_999_total_patrimonio_neto\") \r\n",
        "plt.ylabel (\"Frecuencia\") \r\n",
        "plt.title (\"Histograma variable Capital\") "
      ],
      "execution_count": 58,
      "outputs": [
        {
          "output_type": "execute_result",
          "data": {
            "text/plain": [
              "Text(0.5, 1.0, 'Histograma variable Capital')"
            ]
          },
          "metadata": {
            "tags": []
          },
          "execution_count": 58
        },
        {
          "output_type": "display_data",
          "data": {
            "image/png": "[encoded data removed]",
            "text/plain": [
              "<Figure size 432x288 with 1 Axes>"
            ]
          },
          "metadata": {
            "tags": [],
            "needs_background": "light"
          }
        }
      ]
    },
    {
      "cell_type": "markdown",
      "metadata": {
        "id": "vWcNiscUBDtp"
      },
      "source": [
        "##### **13.Coeficientes de Pearson**"
      ]
    },
    {
      "cell_type": "code",
      "metadata": {
        "colab": {
          "base_uri": "https://localhost:8080/",
          "height": 390
        },
        "id": "QEbTuByy9uyl",
        "outputId": "a32a08be-b00b-47db-fc0c-bc1aa8bd5f54"
      },
      "source": [
        "corr_matrix = Data_Seleccionada_F7.corr('pearson')\r\n",
        "print('COEFICIENTES DE PEARSON-BISERIAL')\r\n",
        "display(corr_matrix.iloc[17])"
      ],
      "execution_count": 59,
      "outputs": [
        {
          "output_type": "stream",
          "text": [
            "COEFICIENTES DE PEARSON-BISERIAL\n"
          ],
          "name": "stdout"
        },
        {
          "output_type": "display_data",
          "data": {
            "text/plain": [
              "saldo                                                 -0.068635\n",
              "saldoprom3                                            -0.030254\n",
              "saldomax3                                             -0.033294\n",
              "saldorcc                                              -0.027174\n",
              "nentdir                                                0.115565\n",
              "varsldo3                                               0.070989\n",
              "v999_ventas_netas                                     -0.061417\n",
              "genero                                                -0.010703\n",
              "tipovi                                                -0.047528\n",
              "estadciv                                               0.062770\n",
              "ubidepa                                                0.057918\n",
              "plazobd1                                               0.038508\n",
              "v107_utilidad_del_negocio                             -0.064471\n",
              "v106_liquidez_disponible_999_total_patrimonio_neto     0.076748\n",
              "v500_capital                                          -0.099853\n",
              "v100_caja_y_bancos                                    -0.062505\n",
              "v107_utilidad_del_negocio_999_total_patrimonio_neto    0.116762\n",
              "default12                                              1.000000\n",
              "Edad_bloques                                          -0.050280\n",
              "Name: default12, dtype: float64"
            ]
          },
          "metadata": {
            "tags": []
          }
        }
      ]
    },
    {
      "cell_type": "code",
      "metadata": {
        "colab": {
          "base_uri": "https://localhost:8080/",
          "height": 157
        },
        "id": "NaqauN729uuz",
        "outputId": "ad6d24f7-4707-44fc-e326-3b06cb2033f1"
      },
      "source": [
        "Data_Seleccionada_F7.describe().loc[['min','max', 'mean'],:]"
      ],
      "execution_count": 60,
      "outputs": [
        {
          "output_type": "execute_result",
          "data": {
            "text/html": [
              "<div>\n",
              "<style scoped>\n",
              "    .dataframe tbody tr th:only-of-type {\n",
              "        vertical-align: middle;\n",
              "    }\n",
              "\n",
              "    .dataframe tbody tr th {\n",
              "        vertical-align: top;\n",
              "    }\n",
              "\n",
              "    .dataframe thead th {\n",
              "        text-align: right;\n",
              "    }\n",
              "</style>\n",
              "<table border=\"1\" class=\"dataframe\">\n",
              "  <thead>\n",
              "    <tr style=\"text-align: right;\">\n",
              "      <th></th>\n",
              "      <th>saldo</th>\n",
              "      <th>saldoprom3</th>\n",
              "      <th>saldomax3</th>\n",
              "      <th>saldorcc</th>\n",
              "      <th>nentdir</th>\n",
              "      <th>varsldo3</th>\n",
              "      <th>v999_ventas_netas</th>\n",
              "      <th>genero</th>\n",
              "      <th>tipovi</th>\n",
              "      <th>estadciv</th>\n",
              "      <th>ubidepa</th>\n",
              "      <th>plazobd1</th>\n",
              "      <th>v107_utilidad_del_negocio</th>\n",
              "      <th>v106_liquidez_disponible_999_total_patrimonio_neto</th>\n",
              "      <th>v500_capital</th>\n",
              "      <th>v100_caja_y_bancos</th>\n",
              "      <th>v107_utilidad_del_negocio_999_total_patrimonio_neto</th>\n",
              "      <th>default12</th>\n",
              "      <th>Edad_bloques</th>\n",
              "    </tr>\n",
              "  </thead>\n",
              "  <tbody>\n",
              "    <tr>\n",
              "      <th>min</th>\n",
              "      <td>500.000000</td>\n",
              "      <td>0.000000</td>\n",
              "      <td>0.000000</td>\n",
              "      <td>0.000000</td>\n",
              "      <td>0.000000</td>\n",
              "      <td>0.000000</td>\n",
              "      <td>1050.000000</td>\n",
              "      <td>0.000000</td>\n",
              "      <td>0.000000</td>\n",
              "      <td>0.000000</td>\n",
              "      <td>0.000000</td>\n",
              "      <td>90.000000</td>\n",
              "      <td>381.927000</td>\n",
              "      <td>0.008611</td>\n",
              "      <td>640.00000</td>\n",
              "      <td>70.000000</td>\n",
              "      <td>0.012622</td>\n",
              "      <td>0.000000</td>\n",
              "      <td>1.000000</td>\n",
              "    </tr>\n",
              "    <tr>\n",
              "      <th>max</th>\n",
              "      <td>20000.000000</td>\n",
              "      <td>46706.019800</td>\n",
              "      <td>85004.193800</td>\n",
              "      <td>87007.841500</td>\n",
              "      <td>4.000000</td>\n",
              "      <td>1.000000</td>\n",
              "      <td>26166.000000</td>\n",
              "      <td>1.000000</td>\n",
              "      <td>2.000000</td>\n",
              "      <td>3.000000</td>\n",
              "      <td>7.000000</td>\n",
              "      <td>914.000000</td>\n",
              "      <td>8337.682000</td>\n",
              "      <td>0.218271</td>\n",
              "      <td>125329.00000</td>\n",
              "      <td>12000.000000</td>\n",
              "      <td>0.418703</td>\n",
              "      <td>1.000000</td>\n",
              "      <td>4.000000</td>\n",
              "    </tr>\n",
              "    <tr>\n",
              "      <th>mean</th>\n",
              "      <td>5698.611624</td>\n",
              "      <td>13281.679136</td>\n",
              "      <td>17572.408702</td>\n",
              "      <td>15898.660345</td>\n",
              "      <td>1.914517</td>\n",
              "      <td>0.874926</td>\n",
              "      <td>10693.169405</td>\n",
              "      <td>0.431646</td>\n",
              "      <td>1.481237</td>\n",
              "      <td>2.454157</td>\n",
              "      <td>3.673372</td>\n",
              "      <td>276.338355</td>\n",
              "      <td>2587.328471</td>\n",
              "      <td>0.073258</td>\n",
              "      <td>33473.86018</td>\n",
              "      <td>1695.930087</td>\n",
              "      <td>0.129046</td>\n",
              "      <td>0.109604</td>\n",
              "      <td>2.781049</td>\n",
              "    </tr>\n",
              "  </tbody>\n",
              "</table>\n",
              "</div>"
            ],
            "text/plain": [
              "             saldo    saldoprom3     saldomax3      saldorcc   nentdir  \\\n",
              "min     500.000000      0.000000      0.000000      0.000000  0.000000   \n",
              "max   20000.000000  46706.019800  85004.193800  87007.841500  4.000000   \n",
              "mean   5698.611624  13281.679136  17572.408702  15898.660345  1.914517   \n",
              "\n",
              "      varsldo3  v999_ventas_netas    genero    tipovi  estadciv   ubidepa  \\\n",
              "min   0.000000        1050.000000  0.000000  0.000000  0.000000  0.000000   \n",
              "max   1.000000       26166.000000  1.000000  2.000000  3.000000  7.000000   \n",
              "mean  0.874926       10693.169405  0.431646  1.481237  2.454157  3.673372   \n",
              "\n",
              "        plazobd1  v107_utilidad_del_negocio  \\\n",
              "min    90.000000                 381.927000   \n",
              "max   914.000000                8337.682000   \n",
              "mean  276.338355                2587.328471   \n",
              "\n",
              "      v106_liquidez_disponible_999_total_patrimonio_neto  v500_capital  \\\n",
              "min                                            0.008611      640.00000   \n",
              "max                                            0.218271   125329.00000   \n",
              "mean                                           0.073258    33473.86018   \n",
              "\n",
              "      v100_caja_y_bancos  v107_utilidad_del_negocio_999_total_patrimonio_neto  \\\n",
              "min            70.000000                                           0.012622     \n",
              "max         12000.000000                                           0.418703     \n",
              "mean         1695.930087                                           0.129046     \n",
              "\n",
              "      default12  Edad_bloques  \n",
              "min    0.000000      1.000000  \n",
              "max    1.000000      4.000000  \n",
              "mean   0.109604      2.781049  "
            ]
          },
          "metadata": {
            "tags": []
          },
          "execution_count": 60
        }
      ]
    },
    {
      "cell_type": "code",
      "metadata": {
        "colab": {
          "base_uri": "https://localhost:8080/"
        },
        "id": "IrlFDeSP9uqR",
        "outputId": "e7e27ea7-d3f6-4140-c124-54d73f66a22f"
      },
      "source": [
        "Data_Seleccionada_F7.default12.value_counts()"
      ],
      "execution_count": 61,
      "outputs": [
        {
          "output_type": "execute_result",
          "data": {
            "text/plain": [
              "0    436049\n",
              "1     53676\n",
              "Name: default12, dtype: int64"
            ]
          },
          "metadata": {
            "tags": []
          },
          "execution_count": 61
        }
      ]
    },
    {
      "cell_type": "markdown",
      "metadata": {
        "id": "WmeuVH0QqnKY"
      },
      "source": [
        "**Encapsulamiento del código de limpieza**"
      ]
    },
    {
      "cell_type": "code",
      "metadata": {
        "id": "F33VL21thqGl"
      },
      "source": [
        "def PreprocesamientoData4 (dataframe, PreprocesamientoData4 = None ) :\r\n",
        "    from sklearn.preprocessing import StandardScaler\r\n",
        "    from sklearn.decomposition import PCA\r\n",
        "    from sklearn.feature_selection import VarianceThreshold\r\n",
        "\r\n",
        "    Data_Preprocesada=dataframe[dataframe.default12.eq(0) | dataframe.default12.eq(1)]\r\n",
        "    columns = ['saldo','saldoprom3','saldomax3','saldorcc','nentdir','varsldo3','v999_ventas_netas',\r\n",
        "           'edad','genero','tipovi','estadciv','ubidepa','plazobd1','his_saldo_prom_03meses',\r\n",
        "           'v107_utilidad_del_negocio','v106_liquidez_disponible_999_total_patrimonio_neto',\r\n",
        "           'v500_capital','v100_caja_y_bancos','his_ant_tot_cred',\r\n",
        "           'v107_utilidad_del_negocio_999_total_patrimonio_neto','default12']\r\n",
        "    Data_Preprocesada = pd.DataFrame(Data_Preprocesada, columns=columns)\r\n",
        "    mask = Data_Preprocesada['genero'].isna() \r\n",
        "    ind = Data_Preprocesada['genero'].loc[mask].sample(frac=(Data_Preprocesada.genero.value_counts(0)[1]/(Data_Preprocesada.genero.value_counts(0)[1]+Data_Preprocesada.genero.value_counts(0)[0]))).index\r\n",
        "    Data_Preprocesada.loc[ind, 'genero'] = 1\r\n",
        "    Data_Preprocesada['genero'] = Data_Preprocesada['genero'].fillna(0)\r\n",
        "    Data_Preprocesada=Data_Preprocesada.dropna(thresh=Data_Preprocesada.shape[1]-5)\r\n",
        "    Data_Preprocesada = Data_Preprocesada.dropna(thresh=Data_Preprocesada.shape[0]-(len(Data_Preprocesada.index))*0.1, axis=1)\r\n",
        "    Data_Preprocesada.fillna({'saldoprom3':0,'saldomax3':0,'saldorcc':0,'nentdir':0,'varsldo3':0},inplace=True)\r\n",
        "    Data_Preprocesada= Data_Preprocesada.dropna()\r\n",
        "    Data_Preprocesada=Data_Preprocesada.reset_index(drop=True)  \r\n",
        "    features = ['saldo','saldoprom3','saldomax3','saldorcc','nentdir','varsldo3','v999_ventas_netas',\r\n",
        "           'edad','genero','tipovi','estadciv','ubidepa','plazobd1','v107_utilidad_del_negocio',\r\n",
        "           'v106_liquidez_disponible_999_total_patrimonio_neto',\r\n",
        "           'v500_capital','v100_caja_y_bancos','v107_utilidad_del_negocio_999_total_patrimonio_neto']\r\n",
        "    x = Data_Preprocesada.loc[:, features].values\r\n",
        "    y = Data_Preprocesada[['default12']]\r\n",
        "    x = StandardScaler().fit_transform(x)\r\n",
        "    pca = PCA(n_components=10)\r\n",
        "    principalComponents = pca.fit_transform(x)\r\n",
        "    principalDf = pd.DataFrame(data = principalComponents)\r\n",
        "    Data_Preprocesada = pd.concat((principalDf,y), axis = 1)\r\n",
        "    #Análisis de Varianza\r\n",
        "    col_default = ['default12']\r\n",
        "    Default_data = pd.DataFrame(Data_Preprocesada, columns=col_default)\r\n",
        "    selector=VarianceThreshold(threshold=0.8)\r\n",
        "    Aux_1=selector.fit_transform(Data_Preprocesada)\r\n",
        "    Aux_2 = pd.DataFrame(data = Aux_1)\r\n",
        "    Data_Preprocesada = pd.concat((Aux_2,Default_data), axis = 1)\r\n",
        "\r\n",
        "    return Data_Preprocesada"
      ],
      "execution_count": null,
      "outputs": []
    },
    {
      "cell_type": "markdown",
      "metadata": {
        "id": "TrwZyoV2hEcP"
      },
      "source": [
        "# DATA UPSAMPLING (COPY PASTE)"
      ]
    },
    {
      "cell_type": "markdown",
      "metadata": {
        "id": "WEW8yrcTHfjh"
      },
      "source": [
        "<img src=\"https://miro.medium.com/max/422/1*aKJJOozIlVVH1gT-4rYy4w.png\">\r\n"
      ]
    },
    {
      "cell_type": "code",
      "metadata": {
        "id": "ELE79EN1hCEN"
      },
      "source": [
        "df_minority = Data_Seleccionada_F6[Data_Seleccionada_F6.default12==1]\r\n",
        "df_majority = Data_Seleccionada_F6[Data_Seleccionada_F6.default12==0]"
      ],
      "execution_count": 65,
      "outputs": []
    },
    {
      "cell_type": "code",
      "metadata": {
        "id": "T16sU_ochPcX"
      },
      "source": [
        "df_minority_upsampled = resample(df_minority, \r\n",
        "                                 replace=True,     # sample with replacement\r\n",
        "                                 n_samples=53676*3,    # to match majority class\r\n",
        "                                 random_state=123) # reproducible results"
      ],
      "execution_count": 66,
      "outputs": []
    },
    {
      "cell_type": "code",
      "metadata": {
        "colab": {
          "base_uri": "https://localhost:8080/"
        },
        "id": "QOo-XfSrXi92",
        "outputId": "ec738157-1396-469e-943b-2a3b385cbf7c"
      },
      "source": [
        "print(df_minority.shape)\r\n",
        "print(df_minority_upsampled.shape)"
      ],
      "execution_count": 67,
      "outputs": [
        {
          "output_type": "stream",
          "text": [
            "(53676, 20)\n",
            "(161028, 20)\n"
          ],
          "name": "stdout"
        }
      ]
    },
    {
      "cell_type": "code",
      "metadata": {
        "id": "nwz3TeYmXpx6"
      },
      "source": [
        "df_upsampled = pd.concat([df_majority, df_minority_upsampled])"
      ],
      "execution_count": 68,
      "outputs": []
    },
    {
      "cell_type": "code",
      "metadata": {
        "colab": {
          "base_uri": "https://localhost:8080/",
          "height": 345
        },
        "id": "VVIJwX9pXt8f",
        "outputId": "a6548ec5-4944-4b0b-eb1d-73e0164b6196"
      },
      "source": [
        "df_upsampled.value_counts(df_upsampled['default12']).plot.bar()\r\n",
        "plt.title('Default histogram')\r\n",
        "plt.xlabel('default12')\r\n",
        "plt.ylabel('Frequency')\r\n",
        "df_upsampled['default12'].value_counts()"
      ],
      "execution_count": 69,
      "outputs": [
        {
          "output_type": "execute_result",
          "data": {
            "text/plain": [
              "0    436049\n",
              "1    161028\n",
              "Name: default12, dtype: int64"
            ]
          },
          "metadata": {
            "tags": []
          },
          "execution_count": 69
        },
        {
          "output_type": "display_data",
          "data": {
            "image/png": "[encoded data removed]",
            "text/plain": [
              "<Figure size 432x288 with 1 Axes>"
            ]
          },
          "metadata": {
            "tags": [],
            "needs_background": "light"
          }
        }
      ]
    },
    {
      "cell_type": "code",
      "metadata": {
        "id": "Nernv31NXy2-"
      },
      "source": [
        "Data_Prueba_1=df_upsampled"
      ],
      "execution_count": 70,
      "outputs": []
    },
    {
      "cell_type": "code",
      "metadata": {
        "colab": {
          "base_uri": "https://localhost:8080/",
          "height": 426
        },
        "id": "-hl6GIlzX1Es",
        "outputId": "5690aa0c-ba58-4f88-eebe-63891e807510"
      },
      "source": [
        "Data_Prueba_1.head(100)"
      ],
      "execution_count": 71,
      "outputs": [
        {
          "output_type": "execute_result",
          "data": {
            "text/html": [
              "<div>\n",
              "<style scoped>\n",
              "    .dataframe tbody tr th:only-of-type {\n",
              "        vertical-align: middle;\n",
              "    }\n",
              "\n",
              "    .dataframe tbody tr th {\n",
              "        vertical-align: top;\n",
              "    }\n",
              "\n",
              "    .dataframe thead th {\n",
              "        text-align: right;\n",
              "    }\n",
              "</style>\n",
              "<table border=\"1\" class=\"dataframe\">\n",
              "  <thead>\n",
              "    <tr style=\"text-align: right;\">\n",
              "      <th></th>\n",
              "      <th>saldo</th>\n",
              "      <th>saldoprom3</th>\n",
              "      <th>saldomax3</th>\n",
              "      <th>saldorcc</th>\n",
              "      <th>nentdir</th>\n",
              "      <th>varsldo3</th>\n",
              "      <th>v999_ventas_netas</th>\n",
              "      <th>edad</th>\n",
              "      <th>genero</th>\n",
              "      <th>tipovi</th>\n",
              "      <th>estadciv</th>\n",
              "      <th>ubidepa</th>\n",
              "      <th>plazobd1</th>\n",
              "      <th>v107_utilidad_del_negocio</th>\n",
              "      <th>v106_liquidez_disponible_999_total_patrimonio_neto</th>\n",
              "      <th>v500_capital</th>\n",
              "      <th>v100_caja_y_bancos</th>\n",
              "      <th>v107_utilidad_del_negocio_999_total_patrimonio_neto</th>\n",
              "      <th>default12</th>\n",
              "      <th>Edad_bloques</th>\n",
              "    </tr>\n",
              "  </thead>\n",
              "  <tbody>\n",
              "    <tr>\n",
              "      <th>0</th>\n",
              "      <td>10000.0</td>\n",
              "      <td>46706.019800</td>\n",
              "      <td>85004.1938</td>\n",
              "      <td>87007.8415</td>\n",
              "      <td>4.0</td>\n",
              "      <td>1.000000</td>\n",
              "      <td>26166.0</td>\n",
              "      <td>50</td>\n",
              "      <td>0.0</td>\n",
              "      <td>2</td>\n",
              "      <td>3</td>\n",
              "      <td>4</td>\n",
              "      <td>90</td>\n",
              "      <td>8337.682</td>\n",
              "      <td>0.026634</td>\n",
              "      <td>125329.00</td>\n",
              "      <td>12000.0</td>\n",
              "      <td>0.030038</td>\n",
              "      <td>0</td>\n",
              "      <td>3</td>\n",
              "    </tr>\n",
              "    <tr>\n",
              "      <th>1</th>\n",
              "      <td>2000.0</td>\n",
              "      <td>259.420000</td>\n",
              "      <td>383.5800</td>\n",
              "      <td>133.5500</td>\n",
              "      <td>1.0</td>\n",
              "      <td>0.514802</td>\n",
              "      <td>15600.0</td>\n",
              "      <td>32</td>\n",
              "      <td>0.0</td>\n",
              "      <td>1</td>\n",
              "      <td>3</td>\n",
              "      <td>5</td>\n",
              "      <td>374</td>\n",
              "      <td>1814.000</td>\n",
              "      <td>0.018699</td>\n",
              "      <td>55086.00</td>\n",
              "      <td>900.0</td>\n",
              "      <td>0.031880</td>\n",
              "      <td>0</td>\n",
              "      <td>2</td>\n",
              "    </tr>\n",
              "    <tr>\n",
              "      <th>2</th>\n",
              "      <td>1000.0</td>\n",
              "      <td>5442.710000</td>\n",
              "      <td>6211.2200</td>\n",
              "      <td>4723.3600</td>\n",
              "      <td>2.0</td>\n",
              "      <td>0.867832</td>\n",
              "      <td>6400.0</td>\n",
              "      <td>44</td>\n",
              "      <td>0.0</td>\n",
              "      <td>1</td>\n",
              "      <td>3</td>\n",
              "      <td>0</td>\n",
              "      <td>90</td>\n",
              "      <td>1540.000</td>\n",
              "      <td>0.061486</td>\n",
              "      <td>12359.00</td>\n",
              "      <td>1500.0</td>\n",
              "      <td>0.114083</td>\n",
              "      <td>0</td>\n",
              "      <td>3</td>\n",
              "    </tr>\n",
              "    <tr>\n",
              "      <th>4</th>\n",
              "      <td>2000.0</td>\n",
              "      <td>2012.775000</td>\n",
              "      <td>2314.0000</td>\n",
              "      <td>1711.5500</td>\n",
              "      <td>1.0</td>\n",
              "      <td>0.850343</td>\n",
              "      <td>1260.0</td>\n",
              "      <td>35</td>\n",
              "      <td>1.0</td>\n",
              "      <td>1</td>\n",
              "      <td>3</td>\n",
              "      <td>0</td>\n",
              "      <td>365</td>\n",
              "      <td>944.000</td>\n",
              "      <td>0.131787</td>\n",
              "      <td>3308.00</td>\n",
              "      <td>400.0</td>\n",
              "      <td>0.232971</td>\n",
              "      <td>0</td>\n",
              "      <td>2</td>\n",
              "    </tr>\n",
              "    <tr>\n",
              "      <th>5</th>\n",
              "      <td>10000.0</td>\n",
              "      <td>15073.506670</td>\n",
              "      <td>21637.7200</td>\n",
              "      <td>21637.7200</td>\n",
              "      <td>3.0</td>\n",
              "      <td>1.000000</td>\n",
              "      <td>8888.5</td>\n",
              "      <td>56</td>\n",
              "      <td>0.0</td>\n",
              "      <td>2</td>\n",
              "      <td>3</td>\n",
              "      <td>7</td>\n",
              "      <td>90</td>\n",
              "      <td>5946.710</td>\n",
              "      <td>0.032417</td>\n",
              "      <td>86858.29</td>\n",
              "      <td>200.0</td>\n",
              "      <td>0.066321</td>\n",
              "      <td>0</td>\n",
              "      <td>4</td>\n",
              "    </tr>\n",
              "    <tr>\n",
              "      <th>...</th>\n",
              "      <td>...</td>\n",
              "      <td>...</td>\n",
              "      <td>...</td>\n",
              "      <td>...</td>\n",
              "      <td>...</td>\n",
              "      <td>...</td>\n",
              "      <td>...</td>\n",
              "      <td>...</td>\n",
              "      <td>...</td>\n",
              "      <td>...</td>\n",
              "      <td>...</td>\n",
              "      <td>...</td>\n",
              "      <td>...</td>\n",
              "      <td>...</td>\n",
              "      <td>...</td>\n",
              "      <td>...</td>\n",
              "      <td>...</td>\n",
              "      <td>...</td>\n",
              "      <td>...</td>\n",
              "      <td>...</td>\n",
              "    </tr>\n",
              "    <tr>\n",
              "      <th>132</th>\n",
              "      <td>3000.0</td>\n",
              "      <td>24457.736670</td>\n",
              "      <td>30357.9100</td>\n",
              "      <td>30357.9100</td>\n",
              "      <td>3.0</td>\n",
              "      <td>1.000000</td>\n",
              "      <td>22356.0</td>\n",
              "      <td>47</td>\n",
              "      <td>1.0</td>\n",
              "      <td>2</td>\n",
              "      <td>1</td>\n",
              "      <td>2</td>\n",
              "      <td>90</td>\n",
              "      <td>2420.700</td>\n",
              "      <td>0.047500</td>\n",
              "      <td>41804.84</td>\n",
              "      <td>2000.0</td>\n",
              "      <td>0.054735</td>\n",
              "      <td>0</td>\n",
              "      <td>3</td>\n",
              "    </tr>\n",
              "    <tr>\n",
              "      <th>133</th>\n",
              "      <td>1000.0</td>\n",
              "      <td>17158.430000</td>\n",
              "      <td>17734.8600</td>\n",
              "      <td>17734.8600</td>\n",
              "      <td>2.0</td>\n",
              "      <td>1.000000</td>\n",
              "      <td>4200.0</td>\n",
              "      <td>32</td>\n",
              "      <td>1.0</td>\n",
              "      <td>2</td>\n",
              "      <td>3</td>\n",
              "      <td>0</td>\n",
              "      <td>365</td>\n",
              "      <td>2770.000</td>\n",
              "      <td>0.079441</td>\n",
              "      <td>22280.00</td>\n",
              "      <td>650.0</td>\n",
              "      <td>0.110579</td>\n",
              "      <td>0</td>\n",
              "      <td>2</td>\n",
              "    </tr>\n",
              "    <tr>\n",
              "      <th>134</th>\n",
              "      <td>5000.0</td>\n",
              "      <td>46706.019800</td>\n",
              "      <td>55926.9900</td>\n",
              "      <td>52139.0400</td>\n",
              "      <td>3.0</td>\n",
              "      <td>0.964803</td>\n",
              "      <td>23560.0</td>\n",
              "      <td>56</td>\n",
              "      <td>0.0</td>\n",
              "      <td>2</td>\n",
              "      <td>2</td>\n",
              "      <td>5</td>\n",
              "      <td>372</td>\n",
              "      <td>5885.000</td>\n",
              "      <td>0.159560</td>\n",
              "      <td>11067.87</td>\n",
              "      <td>2000.0</td>\n",
              "      <td>0.347139</td>\n",
              "      <td>0</td>\n",
              "      <td>4</td>\n",
              "    </tr>\n",
              "    <tr>\n",
              "      <th>135</th>\n",
              "      <td>4000.0</td>\n",
              "      <td>6646.653333</td>\n",
              "      <td>7310.7100</td>\n",
              "      <td>5977.9000</td>\n",
              "      <td>1.0</td>\n",
              "      <td>0.899385</td>\n",
              "      <td>9600.0</td>\n",
              "      <td>56</td>\n",
              "      <td>1.0</td>\n",
              "      <td>2</td>\n",
              "      <td>1</td>\n",
              "      <td>2</td>\n",
              "      <td>365</td>\n",
              "      <td>2503.500</td>\n",
              "      <td>0.079365</td>\n",
              "      <td>17696.50</td>\n",
              "      <td>3500.0</td>\n",
              "      <td>0.127081</td>\n",
              "      <td>0</td>\n",
              "      <td>4</td>\n",
              "    </tr>\n",
              "    <tr>\n",
              "      <th>136</th>\n",
              "      <td>10000.0</td>\n",
              "      <td>17607.226670</td>\n",
              "      <td>18238.0000</td>\n",
              "      <td>16963.8500</td>\n",
              "      <td>1.0</td>\n",
              "      <td>0.963460</td>\n",
              "      <td>26166.0</td>\n",
              "      <td>43</td>\n",
              "      <td>1.0</td>\n",
              "      <td>1</td>\n",
              "      <td>3</td>\n",
              "      <td>1</td>\n",
              "      <td>375</td>\n",
              "      <td>8246.000</td>\n",
              "      <td>0.049552</td>\n",
              "      <td>92067.57</td>\n",
              "      <td>5000.0</td>\n",
              "      <td>0.085127</td>\n",
              "      <td>0</td>\n",
              "      <td>3</td>\n",
              "    </tr>\n",
              "  </tbody>\n",
              "</table>\n",
              "<p>100 rows × 20 columns</p>\n",
              "</div>"
            ],
            "text/plain": [
              "       saldo    saldoprom3   saldomax3    saldorcc  nentdir  varsldo3  \\\n",
              "0    10000.0  46706.019800  85004.1938  87007.8415      4.0  1.000000   \n",
              "1     2000.0    259.420000    383.5800    133.5500      1.0  0.514802   \n",
              "2     1000.0   5442.710000   6211.2200   4723.3600      2.0  0.867832   \n",
              "4     2000.0   2012.775000   2314.0000   1711.5500      1.0  0.850343   \n",
              "5    10000.0  15073.506670  21637.7200  21637.7200      3.0  1.000000   \n",
              "..       ...           ...         ...         ...      ...       ...   \n",
              "132   3000.0  24457.736670  30357.9100  30357.9100      3.0  1.000000   \n",
              "133   1000.0  17158.430000  17734.8600  17734.8600      2.0  1.000000   \n",
              "134   5000.0  46706.019800  55926.9900  52139.0400      3.0  0.964803   \n",
              "135   4000.0   6646.653333   7310.7100   5977.9000      1.0  0.899385   \n",
              "136  10000.0  17607.226670  18238.0000  16963.8500      1.0  0.963460   \n",
              "\n",
              "     v999_ventas_netas  edad  genero  tipovi  estadciv  ubidepa  plazobd1  \\\n",
              "0              26166.0    50     0.0       2         3        4        90   \n",
              "1              15600.0    32     0.0       1         3        5       374   \n",
              "2               6400.0    44     0.0       1         3        0        90   \n",
              "4               1260.0    35     1.0       1         3        0       365   \n",
              "5               8888.5    56     0.0       2         3        7        90   \n",
              "..                 ...   ...     ...     ...       ...      ...       ...   \n",
              "132            22356.0    47     1.0       2         1        2        90   \n",
              "133             4200.0    32     1.0       2         3        0       365   \n",
              "134            23560.0    56     0.0       2         2        5       372   \n",
              "135             9600.0    56     1.0       2         1        2       365   \n",
              "136            26166.0    43     1.0       1         3        1       375   \n",
              "\n",
              "     v107_utilidad_del_negocio  \\\n",
              "0                     8337.682   \n",
              "1                     1814.000   \n",
              "2                     1540.000   \n",
              "4                      944.000   \n",
              "5                     5946.710   \n",
              "..                         ...   \n",
              "132                   2420.700   \n",
              "133                   2770.000   \n",
              "134                   5885.000   \n",
              "135                   2503.500   \n",
              "136                   8246.000   \n",
              "\n",
              "     v106_liquidez_disponible_999_total_patrimonio_neto  v500_capital  \\\n",
              "0                                             0.026634      125329.00   \n",
              "1                                             0.018699       55086.00   \n",
              "2                                             0.061486       12359.00   \n",
              "4                                             0.131787        3308.00   \n",
              "5                                             0.032417       86858.29   \n",
              "..                                                 ...            ...   \n",
              "132                                           0.047500       41804.84   \n",
              "133                                           0.079441       22280.00   \n",
              "134                                           0.159560       11067.87   \n",
              "135                                           0.079365       17696.50   \n",
              "136                                           0.049552       92067.57   \n",
              "\n",
              "     v100_caja_y_bancos  v107_utilidad_del_negocio_999_total_patrimonio_neto  \\\n",
              "0               12000.0                                           0.030038     \n",
              "1                 900.0                                           0.031880     \n",
              "2                1500.0                                           0.114083     \n",
              "4                 400.0                                           0.232971     \n",
              "5                 200.0                                           0.066321     \n",
              "..                  ...                                                ...     \n",
              "132              2000.0                                           0.054735     \n",
              "133               650.0                                           0.110579     \n",
              "134              2000.0                                           0.347139     \n",
              "135              3500.0                                           0.127081     \n",
              "136              5000.0                                           0.085127     \n",
              "\n",
              "     default12  Edad_bloques  \n",
              "0            0             3  \n",
              "1            0             2  \n",
              "2            0             3  \n",
              "4            0             2  \n",
              "5            0             4  \n",
              "..         ...           ...  \n",
              "132          0             3  \n",
              "133          0             2  \n",
              "134          0             4  \n",
              "135          0             4  \n",
              "136          0             3  \n",
              "\n",
              "[100 rows x 20 columns]"
            ]
          },
          "metadata": {
            "tags": []
          },
          "execution_count": 71
        }
      ]
    },
    {
      "cell_type": "markdown",
      "metadata": {
        "id": "DPkX5fd8YMQ4"
      },
      "source": [
        "# PCA"
      ]
    },
    {
      "cell_type": "markdown",
      "metadata": {
        "id": "AU4omTObJAgZ"
      },
      "source": [
        "<img src=\"https://miro.medium.com/max/788/1*mgncZaKaVx9U6OCQu_m8Bg.jpeg\">\r\n",
        "\r\n",
        "\r\n"
      ]
    },
    {
      "cell_type": "code",
      "metadata": {
        "id": "Om-pmHqrYQ-z"
      },
      "source": [
        "from sklearn.preprocessing import StandardScaler\r\n",
        "from sklearn.decomposition import PCA"
      ],
      "execution_count": 72,
      "outputs": []
    },
    {
      "cell_type": "code",
      "metadata": {
        "id": "SUas0xIQYVMz"
      },
      "source": [
        "features = ['saldo','saldoprom3','saldomax3','saldorcc','nentdir','varsldo3','v999_ventas_netas',\r\n",
        "           'edad','genero','tipovi','estadciv','ubidepa','plazobd1','v107_utilidad_del_negocio','v106_liquidez_disponible_999_total_patrimonio_neto',\r\n",
        "           'v500_capital','v100_caja_y_bancos','v107_utilidad_del_negocio_999_total_patrimonio_neto']\r\n",
        "# Estandarizacion de la data \r\n",
        "x = Data_Prueba_1.loc[:, features].values\r\n",
        "y = Data_Prueba_1.loc[:,['default12']].values\r\n",
        "x = StandardScaler().fit_transform(x)"
      ],
      "execution_count": 73,
      "outputs": []
    },
    {
      "cell_type": "code",
      "metadata": {
        "colab": {
          "base_uri": "https://localhost:8080/"
        },
        "id": "uf9JJtC7YY6j",
        "outputId": "7de097e1-3109-45ca-ca41-fe1d41271617"
      },
      "source": [
        "pd.DataFrame(data = x, columns = features).isnull().sum(axis = 0)"
      ],
      "execution_count": 74,
      "outputs": [
        {
          "output_type": "execute_result",
          "data": {
            "text/plain": [
              "saldo                                                  0\n",
              "saldoprom3                                             0\n",
              "saldomax3                                              0\n",
              "saldorcc                                               0\n",
              "nentdir                                                0\n",
              "varsldo3                                               0\n",
              "v999_ventas_netas                                      0\n",
              "edad                                                   0\n",
              "genero                                                 0\n",
              "tipovi                                                 0\n",
              "estadciv                                               0\n",
              "ubidepa                                                0\n",
              "plazobd1                                               0\n",
              "v107_utilidad_del_negocio                              0\n",
              "v106_liquidez_disponible_999_total_patrimonio_neto     0\n",
              "v500_capital                                           0\n",
              "v100_caja_y_bancos                                     0\n",
              "v107_utilidad_del_negocio_999_total_patrimonio_neto    0\n",
              "dtype: int64"
            ]
          },
          "metadata": {
            "tags": []
          },
          "execution_count": 74
        }
      ]
    },
    {
      "cell_type": "code",
      "metadata": {
        "id": "9BXHGzy5Ye3-"
      },
      "source": [
        "pca = PCA(n_components=10)"
      ],
      "execution_count": 75,
      "outputs": []
    },
    {
      "cell_type": "code",
      "metadata": {
        "id": "DBA-FhqRYkke"
      },
      "source": [
        "principalComponents = pca.fit_transform(x)"
      ],
      "execution_count": 76,
      "outputs": []
    },
    {
      "cell_type": "code",
      "metadata": {
        "id": "QM92Mop8Y7Un"
      },
      "source": [
        "principalDf = pd.DataFrame(data = principalComponents\r\n",
        "             , columns = ['component 1', 'component 2','component 3','component 4', 'component 5', 'component 6', 'component 7', 'component 8', 'component 9', 'component 10'])"
      ],
      "execution_count": 77,
      "outputs": []
    },
    {
      "cell_type": "code",
      "metadata": {
        "colab": {
          "base_uri": "https://localhost:8080/",
          "height": 406
        },
        "id": "sJqVcCUQZGwx",
        "outputId": "caca5216-3dff-404e-bc30-1bd1e279173d"
      },
      "source": [
        "principalDf.head(597078)"
      ],
      "execution_count": 78,
      "outputs": [
        {
          "output_type": "execute_result",
          "data": {
            "text/html": [
              "<div>\n",
              "<style scoped>\n",
              "    .dataframe tbody tr th:only-of-type {\n",
              "        vertical-align: middle;\n",
              "    }\n",
              "\n",
              "    .dataframe tbody tr th {\n",
              "        vertical-align: top;\n",
              "    }\n",
              "\n",
              "    .dataframe thead th {\n",
              "        text-align: right;\n",
              "    }\n",
              "</style>\n",
              "<table border=\"1\" class=\"dataframe\">\n",
              "  <thead>\n",
              "    <tr style=\"text-align: right;\">\n",
              "      <th></th>\n",
              "      <th>component 1</th>\n",
              "      <th>component 2</th>\n",
              "      <th>component 3</th>\n",
              "      <th>component 4</th>\n",
              "      <th>component 5</th>\n",
              "      <th>component 6</th>\n",
              "      <th>component 7</th>\n",
              "      <th>component 8</th>\n",
              "      <th>component 9</th>\n",
              "      <th>component 10</th>\n",
              "    </tr>\n",
              "  </thead>\n",
              "  <tbody>\n",
              "    <tr>\n",
              "      <th>0</th>\n",
              "      <td>7.436477</td>\n",
              "      <td>0.636667</td>\n",
              "      <td>-1.333718</td>\n",
              "      <td>-0.300929</td>\n",
              "      <td>-0.998069</td>\n",
              "      <td>0.874651</td>\n",
              "      <td>0.841652</td>\n",
              "      <td>-1.299133</td>\n",
              "      <td>0.034457</td>\n",
              "      <td>0.736872</td>\n",
              "    </tr>\n",
              "    <tr>\n",
              "      <th>1</th>\n",
              "      <td>-0.931401</td>\n",
              "      <td>-0.976114</td>\n",
              "      <td>2.252927</td>\n",
              "      <td>-0.997501</td>\n",
              "      <td>0.343006</td>\n",
              "      <td>1.751956</td>\n",
              "      <td>0.739695</td>\n",
              "      <td>-0.412420</td>\n",
              "      <td>0.561615</td>\n",
              "      <td>0.104533</td>\n",
              "    </tr>\n",
              "    <tr>\n",
              "      <th>2</th>\n",
              "      <td>-1.296187</td>\n",
              "      <td>-0.235236</td>\n",
              "      <td>-0.123798</td>\n",
              "      <td>-0.642676</td>\n",
              "      <td>-1.374941</td>\n",
              "      <td>-0.547413</td>\n",
              "      <td>1.544209</td>\n",
              "      <td>0.300313</td>\n",
              "      <td>0.536405</td>\n",
              "      <td>0.853266</td>\n",
              "    </tr>\n",
              "    <tr>\n",
              "      <th>3</th>\n",
              "      <td>-2.329193</td>\n",
              "      <td>0.640286</td>\n",
              "      <td>1.231987</td>\n",
              "      <td>-0.047963</td>\n",
              "      <td>-0.507513</td>\n",
              "      <td>-2.251387</td>\n",
              "      <td>0.116128</td>\n",
              "      <td>0.358938</td>\n",
              "      <td>0.281657</td>\n",
              "      <td>-0.452577</td>\n",
              "    </tr>\n",
              "    <tr>\n",
              "      <th>4</th>\n",
              "      <td>1.636114</td>\n",
              "      <td>-0.590684</td>\n",
              "      <td>-1.423198</td>\n",
              "      <td>-0.111670</td>\n",
              "      <td>-0.003120</td>\n",
              "      <td>1.696428</td>\n",
              "      <td>-0.411837</td>\n",
              "      <td>-1.238835</td>\n",
              "      <td>-0.525621</td>\n",
              "      <td>1.121659</td>\n",
              "    </tr>\n",
              "    <tr>\n",
              "      <th>...</th>\n",
              "      <td>...</td>\n",
              "      <td>...</td>\n",
              "      <td>...</td>\n",
              "      <td>...</td>\n",
              "      <td>...</td>\n",
              "      <td>...</td>\n",
              "      <td>...</td>\n",
              "      <td>...</td>\n",
              "      <td>...</td>\n",
              "      <td>...</td>\n",
              "    </tr>\n",
              "    <tr>\n",
              "      <th>597072</th>\n",
              "      <td>0.858286</td>\n",
              "      <td>-0.378239</td>\n",
              "      <td>-0.929541</td>\n",
              "      <td>-0.540410</td>\n",
              "      <td>-0.096903</td>\n",
              "      <td>1.221507</td>\n",
              "      <td>-2.022615</td>\n",
              "      <td>1.708509</td>\n",
              "      <td>0.752513</td>\n",
              "      <td>0.705546</td>\n",
              "    </tr>\n",
              "    <tr>\n",
              "      <th>597073</th>\n",
              "      <td>-0.157851</td>\n",
              "      <td>0.879368</td>\n",
              "      <td>-1.796015</td>\n",
              "      <td>-0.042957</td>\n",
              "      <td>1.322609</td>\n",
              "      <td>1.399289</td>\n",
              "      <td>-0.462601</td>\n",
              "      <td>1.565996</td>\n",
              "      <td>0.431401</td>\n",
              "      <td>0.326985</td>\n",
              "    </tr>\n",
              "    <tr>\n",
              "      <th>597074</th>\n",
              "      <td>6.368324</td>\n",
              "      <td>0.780116</td>\n",
              "      <td>1.042227</td>\n",
              "      <td>-0.582750</td>\n",
              "      <td>-0.674631</td>\n",
              "      <td>1.626977</td>\n",
              "      <td>0.609653</td>\n",
              "      <td>-1.294139</td>\n",
              "      <td>-1.779895</td>\n",
              "      <td>-0.986941</td>\n",
              "    </tr>\n",
              "    <tr>\n",
              "      <th>597075</th>\n",
              "      <td>-1.920113</td>\n",
              "      <td>1.554168</td>\n",
              "      <td>1.402546</td>\n",
              "      <td>-1.571616</td>\n",
              "      <td>-0.062018</td>\n",
              "      <td>-0.888621</td>\n",
              "      <td>1.358885</td>\n",
              "      <td>1.312457</td>\n",
              "      <td>-0.547862</td>\n",
              "      <td>0.326322</td>\n",
              "    </tr>\n",
              "    <tr>\n",
              "      <th>597076</th>\n",
              "      <td>-0.044103</td>\n",
              "      <td>-0.202930</td>\n",
              "      <td>-2.078216</td>\n",
              "      <td>-0.764672</td>\n",
              "      <td>1.275740</td>\n",
              "      <td>0.832486</td>\n",
              "      <td>0.083323</td>\n",
              "      <td>1.748292</td>\n",
              "      <td>1.216195</td>\n",
              "      <td>-0.330495</td>\n",
              "    </tr>\n",
              "  </tbody>\n",
              "</table>\n",
              "<p>597077 rows × 10 columns</p>\n",
              "</div>"
            ],
            "text/plain": [
              "        component 1  component 2  component 3  component 4  component 5  \\\n",
              "0          7.436477     0.636667    -1.333718    -0.300929    -0.998069   \n",
              "1         -0.931401    -0.976114     2.252927    -0.997501     0.343006   \n",
              "2         -1.296187    -0.235236    -0.123798    -0.642676    -1.374941   \n",
              "3         -2.329193     0.640286     1.231987    -0.047963    -0.507513   \n",
              "4          1.636114    -0.590684    -1.423198    -0.111670    -0.003120   \n",
              "...             ...          ...          ...          ...          ...   \n",
              "597072     0.858286    -0.378239    -0.929541    -0.540410    -0.096903   \n",
              "597073    -0.157851     0.879368    -1.796015    -0.042957     1.322609   \n",
              "597074     6.368324     0.780116     1.042227    -0.582750    -0.674631   \n",
              "597075    -1.920113     1.554168     1.402546    -1.571616    -0.062018   \n",
              "597076    -0.044103    -0.202930    -2.078216    -0.764672     1.275740   \n",
              "\n",
              "        component 6  component 7  component 8  component 9  component 10  \n",
              "0          0.874651     0.841652    -1.299133     0.034457      0.736872  \n",
              "1          1.751956     0.739695    -0.412420     0.561615      0.104533  \n",
              "2         -0.547413     1.544209     0.300313     0.536405      0.853266  \n",
              "3         -2.251387     0.116128     0.358938     0.281657     -0.452577  \n",
              "4          1.696428    -0.411837    -1.238835    -0.525621      1.121659  \n",
              "...             ...          ...          ...          ...           ...  \n",
              "597072     1.221507    -2.022615     1.708509     0.752513      0.705546  \n",
              "597073     1.399289    -0.462601     1.565996     0.431401      0.326985  \n",
              "597074     1.626977     0.609653    -1.294139    -1.779895     -0.986941  \n",
              "597075    -0.888621     1.358885     1.312457    -0.547862      0.326322  \n",
              "597076     0.832486     0.083323     1.748292     1.216195     -0.330495  \n",
              "\n",
              "[597077 rows x 10 columns]"
            ]
          },
          "metadata": {
            "tags": []
          },
          "execution_count": 78
        }
      ]
    },
    {
      "cell_type": "code",
      "metadata": {
        "colab": {
          "base_uri": "https://localhost:8080/"
        },
        "id": "qUHtyIK9ZKoV",
        "outputId": "96fdee1c-ba7c-43d9-8572-de4e4b499e14"
      },
      "source": [
        "print(principalDf.shape)"
      ],
      "execution_count": 79,
      "outputs": [
        {
          "output_type": "stream",
          "text": [
            "(597077, 10)\n"
          ],
          "name": "stdout"
        }
      ]
    },
    {
      "cell_type": "code",
      "metadata": {
        "colab": {
          "base_uri": "https://localhost:8080/"
        },
        "id": "Eqyxk8bCZP_X",
        "outputId": "7b24906e-a9d5-4b6c-e8e3-79ed62a7846b"
      },
      "source": [
        "print(Data_Prueba_1.default12.shape)"
      ],
      "execution_count": 80,
      "outputs": [
        {
          "output_type": "stream",
          "text": [
            "(597077,)\n"
          ],
          "name": "stdout"
        }
      ]
    },
    {
      "cell_type": "code",
      "metadata": {
        "id": "Kb_-lQ1-ZTmK"
      },
      "source": [
        "Data_xd=Data_Prueba_1"
      ],
      "execution_count": 81,
      "outputs": []
    },
    {
      "cell_type": "code",
      "metadata": {
        "id": "Cq5RQYQjZX5S"
      },
      "source": [
        "y=Data_xd[['default12']]\r\n",
        "z=y.reset_index(drop=True)"
      ],
      "execution_count": 82,
      "outputs": []
    },
    {
      "cell_type": "code",
      "metadata": {
        "id": "fgIriJdfZd26"
      },
      "source": [
        "finalDf = pd.concat((principalDf,z), axis = 1)"
      ],
      "execution_count": 83,
      "outputs": []
    },
    {
      "cell_type": "code",
      "metadata": {
        "colab": {
          "base_uri": "https://localhost:8080/",
          "height": 247
        },
        "id": "XEidCwuwZnd7",
        "outputId": "c614d8e2-b5f6-4302-8882-9ccdda22a368"
      },
      "source": [
        "corr_matrix = finalDf.corr('pearson')\r\n",
        "print('COEFICIENTES DE PEARSON-BISERIAL')\r\n",
        "display(corr_matrix.iloc[10])"
      ],
      "execution_count": 84,
      "outputs": [
        {
          "output_type": "stream",
          "text": [
            "COEFICIENTES DE PEARSON-BISERIAL\n"
          ],
          "name": "stdout"
        },
        {
          "output_type": "display_data",
          "data": {
            "text/plain": [
              "component 1    -0.099252\n",
              "component 2     0.154110\n",
              "component 3    -0.129546\n",
              "component 4    -0.093732\n",
              "component 5     0.086275\n",
              "component 6    -0.044432\n",
              "component 7    -0.073584\n",
              "component 8    -0.013658\n",
              "component 9     0.033511\n",
              "component 10    0.000060\n",
              "default12       1.000000\n",
              "Name: default12, dtype: float64"
            ]
          },
          "metadata": {
            "tags": []
          }
        }
      ]
    },
    {
      "cell_type": "code",
      "metadata": {
        "id": "wM3i5oo9ZsAP"
      },
      "source": [
        "del finalDf['component 10']"
      ],
      "execution_count": 85,
      "outputs": []
    },
    {
      "cell_type": "code",
      "metadata": {
        "id": "KLja3fnFZyz_"
      },
      "source": [
        "Data_Prueba_2=finalDf"
      ],
      "execution_count": 86,
      "outputs": []
    },
    {
      "cell_type": "markdown",
      "metadata": {
        "id": "oaejCliOJy3u"
      },
      "source": [
        "# SMOTE"
      ]
    },
    {
      "cell_type": "markdown",
      "metadata": {
        "id": "UM32rApfLK4B"
      },
      "source": [
        "<img src=\"https://machinelearningparatodos.com/wp-content/uploads/2020/01/desbalanceo-1140x641.jpeg\">"
      ]
    },
    {
      "cell_type": "code",
      "metadata": {
        "id": "jNbBSOt3JyHH"
      },
      "source": [
        "! pip install imbalanced-learn"
      ],
      "execution_count": null,
      "outputs": []
    },
    {
      "cell_type": "code",
      "metadata": {
        "id": "LiBA3RDaKV-_"
      },
      "source": [
        "import imblearn\r\n",
        "print(imblearn.__version__)"
      ],
      "execution_count": null,
      "outputs": []
    },
    {
      "cell_type": "code",
      "metadata": {
        "id": "gnLNUSb8KV8J"
      },
      "source": [
        "from numpy import mean\r\n",
        "from sklearn.model_selection import cross_val_score\r\n",
        "from sklearn.model_selection import RepeatedStratifiedKFold\r\n"
      ],
      "execution_count": null,
      "outputs": []
    },
    {
      "cell_type": "code",
      "metadata": {
        "id": "TROacbo8KV5e"
      },
      "source": [
        "def datasmote(data):\r\n",
        "    #DIVISIÓN DE DATOS\r\n",
        "    X = np.array(Data_Seleccionada_F6.iloc[:, Data_Seleccionada_F6.columns != 'default12'])\r\n",
        "    y = np.array(Data_Seleccionada_F6.iloc[:, Data_Seleccionada_F6.columns == 'default12'])\r\n",
        "    #SMOTE CATEGORIAL\r\n",
        "    sm = SMOTENC(random_state=42,sampling_strategy = 0.37, categorical_features=[4,8,9,10,11])\r\n",
        "    X_res, y_res = sm.fit_resample(X, y)\r\n",
        "    print('Resampled dataset samples per class {}'.format(Counter(y_res)))\r\n",
        "    #MATRIZ X\r\n",
        "    X_res_smote = pd.DataFrame(X_res, columns = ['saldo','saldoprom3', 'saldomax3', 'saldorcc','nentdir','varsldo3','v999_ventas_netas','edad','genero',\r\n",
        "                                             'tipovi','estadciv','ubidepa','plazobd1','v107_utilidad_del_negocio','v106_liquidez_disponible_999_total_patrimonio_neto',\r\n",
        "                                             'v500_capital','v100_caja_y_bancos', 'v107_utilidad_del_negocio_999_total_patrimonio_neto'])\r\n",
        "    y_res_smote = pd.DataFrame(y_res, columns = ['default12'])\r\n",
        "\r\n",
        "    data = pd.concat((X_res_smote,y_res_smote), axis = 1)\r\n",
        "\r\n",
        "    data['nentdir']=data['nentdir'].astype('int32')\r\n",
        "    data['genero']=data['genero'].astype('int32')\r\n",
        "    data['tipovi']=data['tipovi'].astype('int32')\r\n",
        "    data['estadciv']=data['estadciv'].astype('int32')\r\n",
        "    data['ubidepa']=data['ubidepa'].astype('int32')\r\n",
        "\r\n",
        "    return (data)"
      ],
      "execution_count": null,
      "outputs": []
    },
    {
      "cell_type": "markdown",
      "metadata": {
        "id": "tDTqAFcnxphF"
      },
      "source": [
        "# ANÁLISIS DE VARIANZA"
      ]
    },
    {
      "cell_type": "markdown",
      "metadata": {
        "id": "PrU0kHlvxsjh"
      },
      "source": [
        "## Con data upsampling"
      ]
    },
    {
      "cell_type": "code",
      "metadata": {
        "id": "_UzmIvpJxomE"
      },
      "source": [
        "from sklearn.feature_selection import VarianceThreshold"
      ],
      "execution_count": 87,
      "outputs": []
    },
    {
      "cell_type": "code",
      "metadata": {
        "colab": {
          "base_uri": "https://localhost:8080/"
        },
        "id": "hVmFaH0Pxuj4",
        "outputId": "e55989bd-a87c-494d-8b56-6e7014c105cc"
      },
      "source": [
        "print(Data_Prueba_1.var())"
      ],
      "execution_count": 88,
      "outputs": [
        {
          "output_type": "stream",
          "text": [
            "saldo                                                  3.331489e+07\n",
            "saldoprom3                                             2.293427e+08\n",
            "saldomax3                                              5.371801e+08\n",
            "saldorcc                                               5.095204e+08\n",
            "nentdir                                                9.643330e-01\n",
            "varsldo3                                               3.211626e-02\n",
            "v999_ventas_netas                                      6.736419e+07\n",
            "edad                                                   1.062883e+02\n",
            "genero                                                 2.448309e-01\n",
            "tipovi                                                 4.660718e-01\n",
            "estadciv                                               7.854382e-01\n",
            "ubidepa                                                4.284756e+00\n",
            "plazobd1                                               3.533535e+04\n",
            "v107_utilidad_del_negocio                              4.115068e+06\n",
            "v106_liquidez_disponible_999_total_patrimonio_neto     3.051398e-03\n",
            "v500_capital                                           1.286761e+09\n",
            "v100_caja_y_bancos                                     6.452581e+06\n",
            "v107_utilidad_del_negocio_999_total_patrimonio_neto    1.154112e-02\n",
            "default12                                              1.969594e-01\n",
            "Edad_bloques                                           1.121034e+00\n",
            "dtype: float64\n"
          ],
          "name": "stdout"
        }
      ]
    },
    {
      "cell_type": "markdown",
      "metadata": {
        "id": "s_aLRKiFxyRy"
      },
      "source": [
        "Separacion variables categóricas/continuas"
      ]
    },
    {
      "cell_type": "code",
      "metadata": {
        "id": "AI-PBwD3xx4d"
      },
      "source": [
        "columns = ['nentdir','edad','genero','tipovi','estadciv','ubidepa']\r\n",
        "columns_Co = ['saldo','saldoprom3','saldomax3','saldorcc','varsldo3','v999_ventas_netas',\r\n",
        "              'plazobd1','v107_utilidad_del_negocio','v106_liquidez_disponible_999_total_patrimonio_neto',\r\n",
        "              'v500_capital','v100_caja_y_bancos',\r\n",
        "              'v107_utilidad_del_negocio_999_total_patrimonio_neto'] \r\n",
        "col_default = ['default12']\r\n",
        "Categorical_data = pd.DataFrame(Data_Prueba_1, columns=columns)\r\n",
        "Continua_data = pd.DataFrame(Data_Prueba_1, columns=columns_Co)\r\n",
        "Default_data = pd.DataFrame(Data_Prueba_1, columns=col_default)"
      ],
      "execution_count": 89,
      "outputs": []
    },
    {
      "cell_type": "code",
      "metadata": {
        "colab": {
          "base_uri": "https://localhost:8080/"
        },
        "id": "2ziaFYZJxweS",
        "outputId": "e6b9bbeb-1ea5-408d-8109-adab5859043c"
      },
      "source": [
        "print(Continua_data.var())"
      ],
      "execution_count": 90,
      "outputs": [
        {
          "output_type": "stream",
          "text": [
            "saldo                                                  3.331489e+07\n",
            "saldoprom3                                             2.293427e+08\n",
            "saldomax3                                              5.371801e+08\n",
            "saldorcc                                               5.095204e+08\n",
            "varsldo3                                               3.211626e-02\n",
            "v999_ventas_netas                                      6.736419e+07\n",
            "plazobd1                                               3.533535e+04\n",
            "v107_utilidad_del_negocio                              4.115068e+06\n",
            "v106_liquidez_disponible_999_total_patrimonio_neto     3.051398e-03\n",
            "v500_capital                                           1.286761e+09\n",
            "v100_caja_y_bancos                                     6.452581e+06\n",
            "v107_utilidad_del_negocio_999_total_patrimonio_neto    1.154112e-02\n",
            "dtype: float64\n"
          ],
          "name": "stdout"
        }
      ]
    },
    {
      "cell_type": "code",
      "metadata": {
        "id": "VGSG_iy1x13k"
      },
      "source": [
        "selector=VarianceThreshold(threshold=1000)\r\n",
        "Continua_data_F1=selector.fit_transform(Continua_data)"
      ],
      "execution_count": 91,
      "outputs": []
    },
    {
      "cell_type": "code",
      "metadata": {
        "id": "SCB6qmogx5UA"
      },
      "source": [
        "Continua_data_F2 = pd.DataFrame(data = Continua_data_F1\r\n",
        "             , columns = ['saldo','saldoprom3','saldomax3','saldorcc','v999_ventas_netas',\r\n",
        "              'plazobd1','v107_utilidad_del_negocio',\r\n",
        "              'v500_capital','v100_caja_y_bancos'])"
      ],
      "execution_count": 92,
      "outputs": []
    },
    {
      "cell_type": "code",
      "metadata": {
        "id": "Eq_uE8_Zx6vt"
      },
      "source": [
        "z=Default_data.reset_index(drop=True)\r\n",
        "z1=Categorical_data.reset_index(drop=True)"
      ],
      "execution_count": 93,
      "outputs": []
    },
    {
      "cell_type": "code",
      "metadata": {
        "id": "k4qgirEnx8M6"
      },
      "source": [
        "Data_Prueba_3 = pd.concat((z1,Continua_data_F2,z), axis = 1)"
      ],
      "execution_count": 94,
      "outputs": []
    },
    {
      "cell_type": "markdown",
      "metadata": {
        "id": "qNANonasyBkz"
      },
      "source": [
        "## Con Data PCA"
      ]
    },
    {
      "cell_type": "code",
      "metadata": {
        "colab": {
          "base_uri": "https://localhost:8080/"
        },
        "id": "czRCNg6ryANM",
        "outputId": "878d8f73-bcf1-494f-a109-6d6e8d4a2485"
      },
      "source": [
        "print(Data_Prueba_2.var())"
      ],
      "execution_count": 95,
      "outputs": [
        {
          "output_type": "stream",
          "text": [
            "component 1    6.166456\n",
            "component 2    2.054360\n",
            "component 3    1.489350\n",
            "component 4    1.258544\n",
            "component 5    1.109164\n",
            "component 6    1.047066\n",
            "component 7    0.900277\n",
            "component 8    0.858099\n",
            "component 9    0.697725\n",
            "default12      0.196959\n",
            "dtype: float64\n"
          ],
          "name": "stdout"
        }
      ]
    },
    {
      "cell_type": "code",
      "metadata": {
        "id": "XJsn5KOPyGqQ"
      },
      "source": [
        "col_default = ['default12']\r\n",
        "Default_data = pd.DataFrame(Data_Prueba_2, columns=col_default)"
      ],
      "execution_count": 96,
      "outputs": []
    },
    {
      "cell_type": "code",
      "metadata": {
        "id": "4LFcAjbRyI4Y"
      },
      "source": [
        "selector=VarianceThreshold(threshold=0.8)\r\n",
        "Aux_1=selector.fit_transform(Data_Prueba_2)"
      ],
      "execution_count": 97,
      "outputs": []
    },
    {
      "cell_type": "code",
      "metadata": {
        "id": "k7PHKmuqyKqu"
      },
      "source": [
        "Aux_2 = pd.DataFrame(data = Aux_1,\r\n",
        "                                columns = ['component 1', 'component 2','component 3',\r\n",
        "                                           'component 4', 'component 5', 'component 6', \r\n",
        "                                           'component 7', 'component 8'])"
      ],
      "execution_count": 98,
      "outputs": []
    },
    {
      "cell_type": "code",
      "metadata": {
        "id": "2fSF1WcAyL-r"
      },
      "source": [
        "Data_Prueba_4 = pd.concat((Aux_2,Default_data), axis = 1)"
      ],
      "execution_count": 99,
      "outputs": []
    },
    {
      "cell_type": "code",
      "metadata": {
        "id": "EJTiB_EiyO-R"
      },
      "source": [
        "data=Data_Prueba_4"
      ],
      "execution_count": 100,
      "outputs": []
    },
    {
      "cell_type": "markdown",
      "metadata": {
        "id": "c_G_yxwMNEJj"
      },
      "source": [
        "# QUANTILE TRANSFORMER"
      ]
    },
    {
      "cell_type": "code",
      "metadata": {
        "id": "e1mJ_7liNVFD"
      },
      "source": [
        "from sklearn.preprocessing import QuantileTransformer"
      ],
      "execution_count": 101,
      "outputs": []
    },
    {
      "cell_type": "code",
      "metadata": {
        "id": "nTC1owwINU8u"
      },
      "source": [
        "def QuantileTransform(dataframe, QuantileTransform=None):\r\n",
        "    qt=QuantileTransformer(n_quantiles=10, output_distribution='normal',random_state=0)\r\n",
        "    x=len(dataframe.columns)\r\n",
        "    y=len(dataframe.index)\r\n",
        "    Data_Transformada=np.zeros((y,x))\r\n",
        "    for i in range (0,x):\r\n",
        "      aux1=dataframe.iloc[:,[i]].values\r\n",
        "      aux2=qt.fit_transform(aux1)\r\n",
        "      Data_Transformada[:,[i]] = aux2 \r\n",
        "    Data_Transformada_1 = pd.DataFrame(data = Data_Transformada)\r\n",
        "    return (Data_Transformada_1)"
      ],
      "execution_count": 102,
      "outputs": []
    },
    {
      "cell_type": "code",
      "metadata": {
        "id": "svrXuolKNUzX"
      },
      "source": [
        "col_default = ['default12']\r\n",
        "Resto_data = pd.DataFrame(data = Data_Prueba_3\r\n",
        "             , columns = ['nentdir','edad','genero','tipovi','estadciv','ubidepa','saldo','saldoprom3','saldomax3','saldorcc','v999_ventas_netas',\r\n",
        "              'plazobd1','v107_utilidad_del_negocio',\r\n",
        "              'v500_capital','v100_caja_y_bancos'])\r\n",
        "Default_data = pd.DataFrame(Data_Prueba_3, columns = col_default)"
      ],
      "execution_count": 103,
      "outputs": []
    },
    {
      "cell_type": "code",
      "metadata": {
        "id": "zP2ueHe1NUnF"
      },
      "source": [
        "Aux=QuantileTransform(Resto_data)"
      ],
      "execution_count": 104,
      "outputs": []
    },
    {
      "cell_type": "code",
      "metadata": {
        "id": "G5edY5lGNZ9o"
      },
      "source": [
        "Aux.columns=['nentdir','edad','genero','tipovi','estadciv','ubidepa','saldo','saldoprom3','saldomax3','saldorcc','v999_ventas_netas',\r\n",
        "              'plazobd1','v107_utilidad_del_negocio',\r\n",
        "              'v500_capital','v100_caja_y_bancos']\r\n",
        "Data_Prueba_5 = pd.concat((Aux,Default_data), axis = 1)"
      ],
      "execution_count": 105,
      "outputs": []
    },
    {
      "cell_type": "code",
      "metadata": {
        "colab": {
          "base_uri": "https://localhost:8080/",
          "height": 426
        },
        "id": "L-pcRAPBNZ50",
        "outputId": "ab6784c4-eb42-4507-8e50-1c097a09391e"
      },
      "source": [
        "Data_Prueba_5.head(597077)"
      ],
      "execution_count": 106,
      "outputs": [
        {
          "output_type": "execute_result",
          "data": {
            "text/html": [
              "<div>\n",
              "<style scoped>\n",
              "    .dataframe tbody tr th:only-of-type {\n",
              "        vertical-align: middle;\n",
              "    }\n",
              "\n",
              "    .dataframe tbody tr th {\n",
              "        vertical-align: top;\n",
              "    }\n",
              "\n",
              "    .dataframe thead th {\n",
              "        text-align: right;\n",
              "    }\n",
              "</style>\n",
              "<table border=\"1\" class=\"dataframe\">\n",
              "  <thead>\n",
              "    <tr style=\"text-align: right;\">\n",
              "      <th></th>\n",
              "      <th>nentdir</th>\n",
              "      <th>edad</th>\n",
              "      <th>genero</th>\n",
              "      <th>tipovi</th>\n",
              "      <th>estadciv</th>\n",
              "      <th>ubidepa</th>\n",
              "      <th>saldo</th>\n",
              "      <th>saldoprom3</th>\n",
              "      <th>saldomax3</th>\n",
              "      <th>saldorcc</th>\n",
              "      <th>v999_ventas_netas</th>\n",
              "      <th>plazobd1</th>\n",
              "      <th>v107_utilidad_del_negocio</th>\n",
              "      <th>v500_capital</th>\n",
              "      <th>v100_caja_y_bancos</th>\n",
              "      <th>default12</th>\n",
              "    </tr>\n",
              "  </thead>\n",
              "  <tbody>\n",
              "    <tr>\n",
              "      <th>0</th>\n",
              "      <td>5.199338</td>\n",
              "      <td>0.430727</td>\n",
              "      <td>-5.199338</td>\n",
              "      <td>5.199338</td>\n",
              "      <td>5.199338</td>\n",
              "      <td>0.139710</td>\n",
              "      <td>0.876143</td>\n",
              "      <td>5.199338</td>\n",
              "      <td>5.199338</td>\n",
              "      <td>5.199338</td>\n",
              "      <td>5.199338</td>\n",
              "      <td>-5.199338</td>\n",
              "      <td>5.199338</td>\n",
              "      <td>5.199338</td>\n",
              "      <td>5.199338</td>\n",
              "      <td>0</td>\n",
              "    </tr>\n",
              "    <tr>\n",
              "      <th>1</th>\n",
              "      <td>-0.764710</td>\n",
              "      <td>-0.923867</td>\n",
              "      <td>-5.199338</td>\n",
              "      <td>-0.764710</td>\n",
              "      <td>5.199338</td>\n",
              "      <td>0.764710</td>\n",
              "      <td>-0.430727</td>\n",
              "      <td>-1.861440</td>\n",
              "      <td>-1.767271</td>\n",
              "      <td>-2.035386</td>\n",
              "      <td>0.682939</td>\n",
              "      <td>0.764710</td>\n",
              "      <td>0.012946</td>\n",
              "      <td>0.845794</td>\n",
              "      <td>0.282216</td>\n",
              "      <td>0</td>\n",
              "    </tr>\n",
              "    <tr>\n",
              "      <th>2</th>\n",
              "      <td>0.139710</td>\n",
              "      <td>0.000000</td>\n",
              "      <td>-5.199338</td>\n",
              "      <td>-0.764710</td>\n",
              "      <td>5.199338</td>\n",
              "      <td>-5.199338</td>\n",
              "      <td>-1.220640</td>\n",
              "      <td>-0.076705</td>\n",
              "      <td>-0.081933</td>\n",
              "      <td>-0.126991</td>\n",
              "      <td>-0.139710</td>\n",
              "      <td>-5.199338</td>\n",
              "      <td>-0.230362</td>\n",
              "      <td>-0.226965</td>\n",
              "      <td>0.589456</td>\n",
              "      <td>0</td>\n",
              "    </tr>\n",
              "    <tr>\n",
              "      <th>3</th>\n",
              "      <td>-0.764710</td>\n",
              "      <td>-0.674490</td>\n",
              "      <td>5.199338</td>\n",
              "      <td>-0.764710</td>\n",
              "      <td>5.199338</td>\n",
              "      <td>-5.199338</td>\n",
              "      <td>-0.430727</td>\n",
              "      <td>-0.723239</td>\n",
              "      <td>-0.741073</td>\n",
              "      <td>-0.742972</td>\n",
              "      <td>-2.147594</td>\n",
              "      <td>0.282216</td>\n",
              "      <td>-1.046870</td>\n",
              "      <td>-1.258261</td>\n",
              "      <td>-0.430727</td>\n",
              "      <td>0</td>\n",
              "    </tr>\n",
              "    <tr>\n",
              "      <th>4</th>\n",
              "      <td>0.967422</td>\n",
              "      <td>5.199338</td>\n",
              "      <td>-5.199338</td>\n",
              "      <td>5.199338</td>\n",
              "      <td>5.199338</td>\n",
              "      <td>5.199338</td>\n",
              "      <td>0.876143</td>\n",
              "      <td>0.535086</td>\n",
              "      <td>0.687539</td>\n",
              "      <td>0.779932</td>\n",
              "      <td>0.184355</td>\n",
              "      <td>-5.199338</td>\n",
              "      <td>1.360023</td>\n",
              "      <td>1.207936</td>\n",
              "      <td>-1.220640</td>\n",
              "      <td>0</td>\n",
              "    </tr>\n",
              "    <tr>\n",
              "      <th>...</th>\n",
              "      <td>...</td>\n",
              "      <td>...</td>\n",
              "      <td>...</td>\n",
              "      <td>...</td>\n",
              "      <td>...</td>\n",
              "      <td>...</td>\n",
              "      <td>...</td>\n",
              "      <td>...</td>\n",
              "      <td>...</td>\n",
              "      <td>...</td>\n",
              "      <td>...</td>\n",
              "      <td>...</td>\n",
              "      <td>...</td>\n",
              "      <td>...</td>\n",
              "      <td>...</td>\n",
              "      <td>...</td>\n",
              "    </tr>\n",
              "    <tr>\n",
              "      <th>597072</th>\n",
              "      <td>5.199338</td>\n",
              "      <td>-0.282216</td>\n",
              "      <td>5.199338</td>\n",
              "      <td>-0.764710</td>\n",
              "      <td>-0.967422</td>\n",
              "      <td>5.199338</td>\n",
              "      <td>0.139710</td>\n",
              "      <td>0.339298</td>\n",
              "      <td>0.285886</td>\n",
              "      <td>0.352730</td>\n",
              "      <td>0.568130</td>\n",
              "      <td>-0.343731</td>\n",
              "      <td>0.749234</td>\n",
              "      <td>0.899469</td>\n",
              "      <td>0.589456</td>\n",
              "      <td>1</td>\n",
              "    </tr>\n",
              "    <tr>\n",
              "      <th>597073</th>\n",
              "      <td>5.199338</td>\n",
              "      <td>-0.069685</td>\n",
              "      <td>-5.199338</td>\n",
              "      <td>-0.764710</td>\n",
              "      <td>-0.967422</td>\n",
              "      <td>5.199338</td>\n",
              "      <td>0.430727</td>\n",
              "      <td>0.487505</td>\n",
              "      <td>0.434987</td>\n",
              "      <td>0.503945</td>\n",
              "      <td>-0.044577</td>\n",
              "      <td>0.052558</td>\n",
              "      <td>0.437276</td>\n",
              "      <td>-0.374338</td>\n",
              "      <td>0.793000</td>\n",
              "      <td>1</td>\n",
              "    </tr>\n",
              "    <tr>\n",
              "      <th>597074</th>\n",
              "      <td>-0.764710</td>\n",
              "      <td>-1.012893</td>\n",
              "      <td>-5.199338</td>\n",
              "      <td>5.199338</td>\n",
              "      <td>5.199338</td>\n",
              "      <td>0.967422</td>\n",
              "      <td>5.199338</td>\n",
              "      <td>5.199338</td>\n",
              "      <td>1.868353</td>\n",
              "      <td>1.699177</td>\n",
              "      <td>5.199338</td>\n",
              "      <td>-5.199338</td>\n",
              "      <td>5.199338</td>\n",
              "      <td>5.199338</td>\n",
              "      <td>1.382994</td>\n",
              "      <td>1</td>\n",
              "    </tr>\n",
              "    <tr>\n",
              "      <th>597075</th>\n",
              "      <td>-0.764710</td>\n",
              "      <td>-5.199338</td>\n",
              "      <td>-5.199338</td>\n",
              "      <td>-5.199338</td>\n",
              "      <td>5.199338</td>\n",
              "      <td>-1.220640</td>\n",
              "      <td>-0.060681</td>\n",
              "      <td>-1.124962</td>\n",
              "      <td>-1.231006</td>\n",
              "      <td>-1.011007</td>\n",
              "      <td>-0.027855</td>\n",
              "      <td>0.508488</td>\n",
              "      <td>-0.187451</td>\n",
              "      <td>-0.725026</td>\n",
              "      <td>0.430727</td>\n",
              "      <td>1</td>\n",
              "    </tr>\n",
              "    <tr>\n",
              "      <th>597076</th>\n",
              "      <td>5.199338</td>\n",
              "      <td>-0.069685</td>\n",
              "      <td>-5.199338</td>\n",
              "      <td>-0.764710</td>\n",
              "      <td>-0.967422</td>\n",
              "      <td>0.764710</td>\n",
              "      <td>-0.246916</td>\n",
              "      <td>0.786338</td>\n",
              "      <td>0.756828</td>\n",
              "      <td>0.777819</td>\n",
              "      <td>-0.722568</td>\n",
              "      <td>0.788794</td>\n",
              "      <td>-0.308959</td>\n",
              "      <td>-0.132533</td>\n",
              "      <td>-5.199338</td>\n",
              "      <td>1</td>\n",
              "    </tr>\n",
              "  </tbody>\n",
              "</table>\n",
              "<p>597077 rows × 16 columns</p>\n",
              "</div>"
            ],
            "text/plain": [
              "         nentdir      edad    genero    tipovi  estadciv   ubidepa     saldo  \\\n",
              "0       5.199338  0.430727 -5.199338  5.199338  5.199338  0.139710  0.876143   \n",
              "1      -0.764710 -0.923867 -5.199338 -0.764710  5.199338  0.764710 -0.430727   \n",
              "2       0.139710  0.000000 -5.199338 -0.764710  5.199338 -5.199338 -1.220640   \n",
              "3      -0.764710 -0.674490  5.199338 -0.764710  5.199338 -5.199338 -0.430727   \n",
              "4       0.967422  5.199338 -5.199338  5.199338  5.199338  5.199338  0.876143   \n",
              "...          ...       ...       ...       ...       ...       ...       ...   \n",
              "597072  5.199338 -0.282216  5.199338 -0.764710 -0.967422  5.199338  0.139710   \n",
              "597073  5.199338 -0.069685 -5.199338 -0.764710 -0.967422  5.199338  0.430727   \n",
              "597074 -0.764710 -1.012893 -5.199338  5.199338  5.199338  0.967422  5.199338   \n",
              "597075 -0.764710 -5.199338 -5.199338 -5.199338  5.199338 -1.220640 -0.060681   \n",
              "597076  5.199338 -0.069685 -5.199338 -0.764710 -0.967422  0.764710 -0.246916   \n",
              "\n",
              "        saldoprom3  saldomax3  saldorcc  v999_ventas_netas  plazobd1  \\\n",
              "0         5.199338   5.199338  5.199338           5.199338 -5.199338   \n",
              "1        -1.861440  -1.767271 -2.035386           0.682939  0.764710   \n",
              "2        -0.076705  -0.081933 -0.126991          -0.139710 -5.199338   \n",
              "3        -0.723239  -0.741073 -0.742972          -2.147594  0.282216   \n",
              "4         0.535086   0.687539  0.779932           0.184355 -5.199338   \n",
              "...            ...        ...       ...                ...       ...   \n",
              "597072    0.339298   0.285886  0.352730           0.568130 -0.343731   \n",
              "597073    0.487505   0.434987  0.503945          -0.044577  0.052558   \n",
              "597074    5.199338   1.868353  1.699177           5.199338 -5.199338   \n",
              "597075   -1.124962  -1.231006 -1.011007          -0.027855  0.508488   \n",
              "597076    0.786338   0.756828  0.777819          -0.722568  0.788794   \n",
              "\n",
              "        v107_utilidad_del_negocio  v500_capital  v100_caja_y_bancos  default12  \n",
              "0                        5.199338      5.199338            5.199338          0  \n",
              "1                        0.012946      0.845794            0.282216          0  \n",
              "2                       -0.230362     -0.226965            0.589456          0  \n",
              "3                       -1.046870     -1.258261           -0.430727          0  \n",
              "4                        1.360023      1.207936           -1.220640          0  \n",
              "...                           ...           ...                 ...        ...  \n",
              "597072                   0.749234      0.899469            0.589456          1  \n",
              "597073                   0.437276     -0.374338            0.793000          1  \n",
              "597074                   5.199338      5.199338            1.382994          1  \n",
              "597075                  -0.187451     -0.725026            0.430727          1  \n",
              "597076                  -0.308959     -0.132533           -5.199338          1  \n",
              "\n",
              "[597077 rows x 16 columns]"
            ]
          },
          "metadata": {
            "tags": []
          },
          "execution_count": 106
        }
      ]
    },
    {
      "cell_type": "code",
      "metadata": {
        "colab": {
          "base_uri": "https://localhost:8080/",
          "height": 336
        },
        "id": "Nd_ZJyZkNZ3K",
        "outputId": "bab0c925-b73e-4685-dd0b-a122c1bef271"
      },
      "source": [
        "corr_matrix = Data_Prueba_5.corr('pearson')\r\n",
        "print('COEFICIENTES DE PEARSON-BISERIAL')\r\n",
        "display(corr_matrix.iloc[15])"
      ],
      "execution_count": 107,
      "outputs": [
        {
          "output_type": "stream",
          "text": [
            "COEFICIENTES DE PEARSON-BISERIAL\n"
          ],
          "name": "stdout"
        },
        {
          "output_type": "display_data",
          "data": {
            "text/plain": [
              "nentdir                      0.144187\n",
              "edad                        -0.052678\n",
              "genero                      -0.017978\n",
              "tipovi                      -0.070301\n",
              "estadciv                     0.093208\n",
              "ubidepa                      0.056327\n",
              "saldo                       -0.088146\n",
              "saldoprom3                  -0.031454\n",
              "saldomax3                   -0.034941\n",
              "saldorcc                    -0.001069\n",
              "v999_ventas_netas           -0.080295\n",
              "plazobd1                     0.094111\n",
              "v107_utilidad_del_negocio   -0.086225\n",
              "v500_capital                -0.149508\n",
              "v100_caja_y_bancos          -0.108245\n",
              "default12                    1.000000\n",
              "Name: default12, dtype: float64"
            ]
          },
          "metadata": {
            "tags": []
          }
        }
      ]
    },
    {
      "cell_type": "markdown",
      "metadata": {
        "id": "c9ZwGuoEPgKH"
      },
      "source": [
        "**SALDO**"
      ]
    },
    {
      "cell_type": "code",
      "metadata": {
        "colab": {
          "base_uri": "https://localhost:8080/",
          "height": 312
        },
        "id": "ZWV0rI6HNZ0d",
        "outputId": "7fa6e9da-026d-4e54-9a41-0df14a7e62f4"
      },
      "source": [
        "plt.hist (Data_Prueba_3 [\"saldo\"], bins = 20) \r\n",
        "plt.xlabel (\"Saldo\") \r\n",
        "plt.ylabel (\"Frecuencia\")\r\n",
        "plt.title (\"Histograma Variable Saldo\") "
      ],
      "execution_count": 108,
      "outputs": [
        {
          "output_type": "execute_result",
          "data": {
            "text/plain": [
              "Text(0.5, 1.0, 'Histograma Variable Saldo')"
            ]
          },
          "metadata": {
            "tags": []
          },
          "execution_count": 108
        },
        {
          "output_type": "display_data",
          "data": {
            "image/png": "[encoded data removed]",
            "text/plain": [
              "<Figure size 432x288 with 1 Axes>"
            ]
          },
          "metadata": {
            "tags": [],
            "needs_background": "light"
          }
        }
      ]
    },
    {
      "cell_type": "code",
      "metadata": {
        "colab": {
          "base_uri": "https://localhost:8080/",
          "height": 264
        },
        "id": "K-fdCM0jNZuw",
        "outputId": "094d9804-d8c0-4c82-cb65-01cf62a93101"
      },
      "source": [
        "qt=QuantileTransformer(n_quantiles=10, output_distribution='normal',random_state=0)\r\n",
        "saldo_colum = Data_Prueba_3.iloc[:,[6]].values\r\n",
        "Data_Transformada=qt.fit_transform(saldo_colum)\r\n",
        "plt.hist (Data_Transformada, alpha=0.5)\r\n",
        "plt.show()\r\n",
        "Data = pd.DataFrame(data = Data_Transformada)"
      ],
      "execution_count": 109,
      "outputs": [
        {
          "output_type": "display_data",
          "data": {
            "image/png": "[encoded data removed]",
            "text/plain": [
              "<Figure size 432x288 with 1 Axes>"
            ]
          },
          "metadata": {
            "tags": [],
            "needs_background": "light"
          }
        }
      ]
    },
    {
      "cell_type": "markdown",
      "metadata": {
        "id": "bry8sB-wPk8A"
      },
      "source": [
        "DATA PCA"
      ]
    },
    {
      "cell_type": "code",
      "metadata": {
        "id": "AohPqFoZPtBX"
      },
      "source": [
        "col_default = ['default12']\r\n",
        "Resto_data = pd.DataFrame(data = Data_Prueba_4\r\n",
        "             , columns = ['component 1', 'component 2','component 3','component 4', 'component 5', 'component 6', \r\n",
        "                          'component 7', 'component 8'])\r\n",
        "Default_data = pd.DataFrame(Data_Prueba_4, columns = col_default)"
      ],
      "execution_count": 110,
      "outputs": []
    },
    {
      "cell_type": "code",
      "metadata": {
        "id": "QrISTrFWPs_W"
      },
      "source": [
        "Aux=QuantileTransform(Resto_data)"
      ],
      "execution_count": 111,
      "outputs": []
    },
    {
      "cell_type": "code",
      "metadata": {
        "id": "3Mle3_k8Ps9L"
      },
      "source": [
        "Aux.columns=['component 1', 'component 2','component 3','component 4', 'component 5', 'component 6', \r\n",
        "                          'component 7', 'component 8']\r\n",
        "Data_Prueba_6 = pd.concat((Aux,Default_data), axis = 1)"
      ],
      "execution_count": 112,
      "outputs": []
    },
    {
      "cell_type": "code",
      "metadata": {
        "colab": {
          "base_uri": "https://localhost:8080/",
          "height": 406
        },
        "id": "YUfM--Z5Ps6e",
        "outputId": "5bd9b976-55b2-4e2b-f1ec-16ee5c7d05f8"
      },
      "source": [
        "Data_Prueba_6.head(597077)"
      ],
      "execution_count": 113,
      "outputs": [
        {
          "output_type": "execute_result",
          "data": {
            "text/html": [
              "<div>\n",
              "<style scoped>\n",
              "    .dataframe tbody tr th:only-of-type {\n",
              "        vertical-align: middle;\n",
              "    }\n",
              "\n",
              "    .dataframe tbody tr th {\n",
              "        vertical-align: top;\n",
              "    }\n",
              "\n",
              "    .dataframe thead th {\n",
              "        text-align: right;\n",
              "    }\n",
              "</style>\n",
              "<table border=\"1\" class=\"dataframe\">\n",
              "  <thead>\n",
              "    <tr style=\"text-align: right;\">\n",
              "      <th></th>\n",
              "      <th>component 1</th>\n",
              "      <th>component 2</th>\n",
              "      <th>component 3</th>\n",
              "      <th>component 4</th>\n",
              "      <th>component 5</th>\n",
              "      <th>component 6</th>\n",
              "      <th>component 7</th>\n",
              "      <th>component 8</th>\n",
              "      <th>default12</th>\n",
              "    </tr>\n",
              "  </thead>\n",
              "  <tbody>\n",
              "    <tr>\n",
              "      <th>0</th>\n",
              "      <td>2.029374</td>\n",
              "      <td>0.523089</td>\n",
              "      <td>-1.098582</td>\n",
              "      <td>-0.200260</td>\n",
              "      <td>-0.880364</td>\n",
              "      <td>0.834198</td>\n",
              "      <td>0.854090</td>\n",
              "      <td>-1.313977</td>\n",
              "      <td>0</td>\n",
              "    </tr>\n",
              "    <tr>\n",
              "      <th>1</th>\n",
              "      <td>-0.040096</td>\n",
              "      <td>-0.606659</td>\n",
              "      <td>1.301617</td>\n",
              "      <td>-0.841718</td>\n",
              "      <td>0.372975</td>\n",
              "      <td>1.319288</td>\n",
              "      <td>0.770928</td>\n",
              "      <td>-0.305865</td>\n",
              "      <td>0</td>\n",
              "    </tr>\n",
              "    <tr>\n",
              "      <th>2</th>\n",
              "      <td>-0.285913</td>\n",
              "      <td>-0.043729</td>\n",
              "      <td>-0.057970</td>\n",
              "      <td>-0.506283</td>\n",
              "      <td>-1.279276</td>\n",
              "      <td>-0.501207</td>\n",
              "      <td>1.340147</td>\n",
              "      <td>0.388870</td>\n",
              "      <td>0</td>\n",
              "    </tr>\n",
              "    <tr>\n",
              "      <th>3</th>\n",
              "      <td>-1.274876</td>\n",
              "      <td>0.525151</td>\n",
              "      <td>1.034913</td>\n",
              "      <td>0.014910</td>\n",
              "      <td>-0.355296</td>\n",
              "      <td>-1.531991</td>\n",
              "      <td>0.061432</td>\n",
              "      <td>0.445941</td>\n",
              "      <td>0</td>\n",
              "    </tr>\n",
              "    <tr>\n",
              "      <th>4</th>\n",
              "      <td>0.817161</td>\n",
              "      <td>-0.303912</td>\n",
              "      <td>-1.193608</td>\n",
              "      <td>-0.038707</td>\n",
              "      <td>0.063238</td>\n",
              "      <td>1.307483</td>\n",
              "      <td>-0.437193</td>\n",
              "      <td>-1.292621</td>\n",
              "      <td>0</td>\n",
              "    </tr>\n",
              "    <tr>\n",
              "      <th>...</th>\n",
              "      <td>...</td>\n",
              "      <td>...</td>\n",
              "      <td>...</td>\n",
              "      <td>...</td>\n",
              "      <td>...</td>\n",
              "      <td>...</td>\n",
              "      <td>...</td>\n",
              "      <td>...</td>\n",
              "      <td>...</td>\n",
              "    </tr>\n",
              "    <tr>\n",
              "      <th>597072</th>\n",
              "      <td>0.629558</td>\n",
              "      <td>-0.144977</td>\n",
              "      <td>-0.753608</td>\n",
              "      <td>-0.415455</td>\n",
              "      <td>-0.014211</td>\n",
              "      <td>1.172872</td>\n",
              "      <td>-1.781411</td>\n",
              "      <td>1.348937</td>\n",
              "      <td>1</td>\n",
              "    </tr>\n",
              "    <tr>\n",
              "      <th>597073</th>\n",
              "      <td>0.320639</td>\n",
              "      <td>0.667045</td>\n",
              "      <td>-1.305257</td>\n",
              "      <td>0.019123</td>\n",
              "      <td>1.234565</td>\n",
              "      <td>1.247198</td>\n",
              "      <td>-0.479696</td>\n",
              "      <td>1.317397</td>\n",
              "      <td>1</td>\n",
              "    </tr>\n",
              "    <tr>\n",
              "      <th>597074</th>\n",
              "      <td>1.680310</td>\n",
              "      <td>0.606667</td>\n",
              "      <td>0.892617</td>\n",
              "      <td>-0.453322</td>\n",
              "      <td>-0.512314</td>\n",
              "      <td>1.292969</td>\n",
              "      <td>0.606674</td>\n",
              "      <td>-1.312186</td>\n",
              "      <td>1</td>\n",
              "    </tr>\n",
              "    <tr>\n",
              "      <th>597075</th>\n",
              "      <td>-0.878110</td>\n",
              "      <td>1.012525</td>\n",
              "      <td>1.183586</td>\n",
              "      <td>-1.286919</td>\n",
              "      <td>0.014583</td>\n",
              "      <td>-0.823486</td>\n",
              "      <td>1.272254</td>\n",
              "      <td>1.264317</td>\n",
              "      <td>1</td>\n",
              "    </tr>\n",
              "    <tr>\n",
              "      <th>597076</th>\n",
              "      <td>0.366730</td>\n",
              "      <td>-0.020997</td>\n",
              "      <td>-1.381194</td>\n",
              "      <td>-0.618885</td>\n",
              "      <td>1.226438</td>\n",
              "      <td>0.799460</td>\n",
              "      <td>0.032691</td>\n",
              "      <td>1.357986</td>\n",
              "      <td>1</td>\n",
              "    </tr>\n",
              "  </tbody>\n",
              "</table>\n",
              "<p>597077 rows × 9 columns</p>\n",
              "</div>"
            ],
            "text/plain": [
              "        component 1  component 2  component 3  component 4  component 5  \\\n",
              "0          2.029374     0.523089    -1.098582    -0.200260    -0.880364   \n",
              "1         -0.040096    -0.606659     1.301617    -0.841718     0.372975   \n",
              "2         -0.285913    -0.043729    -0.057970    -0.506283    -1.279276   \n",
              "3         -1.274876     0.525151     1.034913     0.014910    -0.355296   \n",
              "4          0.817161    -0.303912    -1.193608    -0.038707     0.063238   \n",
              "...             ...          ...          ...          ...          ...   \n",
              "597072     0.629558    -0.144977    -0.753608    -0.415455    -0.014211   \n",
              "597073     0.320639     0.667045    -1.305257     0.019123     1.234565   \n",
              "597074     1.680310     0.606667     0.892617    -0.453322    -0.512314   \n",
              "597075    -0.878110     1.012525     1.183586    -1.286919     0.014583   \n",
              "597076     0.366730    -0.020997    -1.381194    -0.618885     1.226438   \n",
              "\n",
              "        component 6  component 7  component 8  default12  \n",
              "0          0.834198     0.854090    -1.313977          0  \n",
              "1          1.319288     0.770928    -0.305865          0  \n",
              "2         -0.501207     1.340147     0.388870          0  \n",
              "3         -1.531991     0.061432     0.445941          0  \n",
              "4          1.307483    -0.437193    -1.292621          0  \n",
              "...             ...          ...          ...        ...  \n",
              "597072     1.172872    -1.781411     1.348937          1  \n",
              "597073     1.247198    -0.479696     1.317397          1  \n",
              "597074     1.292969     0.606674    -1.312186          1  \n",
              "597075    -0.823486     1.272254     1.264317          1  \n",
              "597076     0.799460     0.032691     1.357986          1  \n",
              "\n",
              "[597077 rows x 9 columns]"
            ]
          },
          "metadata": {
            "tags": []
          },
          "execution_count": 113
        }
      ]
    },
    {
      "cell_type": "code",
      "metadata": {
        "colab": {
          "base_uri": "https://localhost:8080/",
          "height": 212
        },
        "id": "yymi2yXmPs38",
        "outputId": "210b6dc9-b993-401a-dc15-e319bcef8e6f"
      },
      "source": [
        "corr_matrix = Data_Prueba_6.corr('pearson')\r\n",
        "print('COEFICIENTES DE PEARSON-BISERIAL')\r\n",
        "display(corr_matrix.iloc[8])"
      ],
      "execution_count": 114,
      "outputs": [
        {
          "output_type": "stream",
          "text": [
            "COEFICIENTES DE PEARSON-BISERIAL\n"
          ],
          "name": "stdout"
        },
        {
          "output_type": "display_data",
          "data": {
            "text/plain": [
              "component 1   -0.111008\n",
              "component 2    0.155855\n",
              "component 3   -0.124607\n",
              "component 4   -0.093247\n",
              "component 5    0.101084\n",
              "component 6   -0.038994\n",
              "component 7   -0.071935\n",
              "component 8   -0.001010\n",
              "default12      1.000000\n",
              "Name: default12, dtype: float64"
            ]
          },
          "metadata": {
            "tags": []
          }
        }
      ]
    },
    {
      "cell_type": "markdown",
      "metadata": {
        "id": "VsqFHt-mP56x"
      },
      "source": [
        "# ROBUST SCALER"
      ]
    },
    {
      "cell_type": "code",
      "metadata": {
        "id": "u5f2vn5iPs1j"
      },
      "source": [
        "from sklearn.preprocessing import RobustScaler"
      ],
      "execution_count": 115,
      "outputs": []
    },
    {
      "cell_type": "code",
      "metadata": {
        "id": "0E42Lq6CPszG"
      },
      "source": [
        "def RobustScaler(dataframe, RobustScaler=None):\r\n",
        "    from sklearn.preprocessing import RobustScaler\r\n",
        "    x=len(dataframe.columns)\r\n",
        "    y=len(dataframe.index)\r\n",
        "    Data_Transformada=np.zeros((y,x))\r\n",
        "    for i in range (0,x):\r\n",
        "      aux1=dataframe.iloc[:,[i]].values\r\n",
        "      aux2=RobustScaler()\r\n",
        "      aux3=aux2.fit_transform(aux1)\r\n",
        "      Data_Transformada[:,[i]] = aux3 \r\n",
        "    Data_Transformada_1 = pd.DataFrame(data = Data_Transformada)\r\n",
        "    return (Data_Transformada_1)"
      ],
      "execution_count": 116,
      "outputs": []
    },
    {
      "cell_type": "markdown",
      "metadata": {
        "id": "4s1Hp6Q9QFU6"
      },
      "source": [
        "**DATA UPSAMPLING**"
      ]
    },
    {
      "cell_type": "code",
      "metadata": {
        "id": "veOceTzxQErr"
      },
      "source": [
        "Data_Prueba_7=RobustScaler(Data_Prueba_3)"
      ],
      "execution_count": 117,
      "outputs": []
    },
    {
      "cell_type": "code",
      "metadata": {
        "id": "vDHv8jakPsw3"
      },
      "source": [
        "Data_Prueba_7.columns=['nentdir','edad','genero','tipovi','estadciv','ubidepa','saldo','saldoprom3','saldomax3','saldorcc','v999_ventas_netas',\r\n",
        "              'plazobd1','v107_utilidad_del_negocio',\r\n",
        "              'v500_capital','v100_caja_y_bancos', 'default12']"
      ],
      "execution_count": 118,
      "outputs": []
    },
    {
      "cell_type": "code",
      "metadata": {
        "colab": {
          "base_uri": "https://localhost:8080/",
          "height": 426
        },
        "id": "h2ehb-rkPstg",
        "outputId": "22d0d434-f21a-44b9-c61d-fa6545330b09"
      },
      "source": [
        "Data_Prueba_7.head(500000)"
      ],
      "execution_count": 119,
      "outputs": [
        {
          "output_type": "execute_result",
          "data": {
            "text/html": [
              "<div>\n",
              "<style scoped>\n",
              "    .dataframe tbody tr th:only-of-type {\n",
              "        vertical-align: middle;\n",
              "    }\n",
              "\n",
              "    .dataframe tbody tr th {\n",
              "        vertical-align: top;\n",
              "    }\n",
              "\n",
              "    .dataframe thead th {\n",
              "        text-align: right;\n",
              "    }\n",
              "</style>\n",
              "<table border=\"1\" class=\"dataframe\">\n",
              "  <thead>\n",
              "    <tr style=\"text-align: right;\">\n",
              "      <th></th>\n",
              "      <th>nentdir</th>\n",
              "      <th>edad</th>\n",
              "      <th>genero</th>\n",
              "      <th>tipovi</th>\n",
              "      <th>estadciv</th>\n",
              "      <th>ubidepa</th>\n",
              "      <th>saldo</th>\n",
              "      <th>saldoprom3</th>\n",
              "      <th>saldomax3</th>\n",
              "      <th>saldorcc</th>\n",
              "      <th>v999_ventas_netas</th>\n",
              "      <th>plazobd1</th>\n",
              "      <th>v107_utilidad_del_negocio</th>\n",
              "      <th>v500_capital</th>\n",
              "      <th>v100_caja_y_bancos</th>\n",
              "      <th>default12</th>\n",
              "    </tr>\n",
              "  </thead>\n",
              "  <tbody>\n",
              "    <tr>\n",
              "      <th>0</th>\n",
              "      <td>1.0</td>\n",
              "      <td>0.333333</td>\n",
              "      <td>0.0</td>\n",
              "      <td>0.0</td>\n",
              "      <td>0.0</td>\n",
              "      <td>0.000000</td>\n",
              "      <td>1.272727</td>\n",
              "      <td>2.531098</td>\n",
              "      <td>4.393357</td>\n",
              "      <td>5.118846</td>\n",
              "      <td>1.689267</td>\n",
              "      <td>-0.765125</td>\n",
              "      <td>3.531331</td>\n",
              "      <td>3.212493</td>\n",
              "      <td>9.500000</td>\n",
              "      <td>0.0</td>\n",
              "    </tr>\n",
              "    <tr>\n",
              "      <th>1</th>\n",
              "      <td>-0.5</td>\n",
              "      <td>-0.666667</td>\n",
              "      <td>0.0</td>\n",
              "      <td>-1.0</td>\n",
              "      <td>0.0</td>\n",
              "      <td>0.333333</td>\n",
              "      <td>-0.181818</td>\n",
              "      <td>-0.356619</td>\n",
              "      <td>-0.369864</td>\n",
              "      <td>-0.351049</td>\n",
              "      <td>0.744186</td>\n",
              "      <td>0.245552</td>\n",
              "      <td>0.018309</td>\n",
              "      <td>1.140000</td>\n",
              "      <td>0.250000</td>\n",
              "      <td>0.0</td>\n",
              "    </tr>\n",
              "    <tr>\n",
              "      <th>2</th>\n",
              "      <td>0.0</td>\n",
              "      <td>0.000000</td>\n",
              "      <td>0.0</td>\n",
              "      <td>-1.0</td>\n",
              "      <td>0.0</td>\n",
              "      <td>-1.333333</td>\n",
              "      <td>-0.363636</td>\n",
              "      <td>-0.034360</td>\n",
              "      <td>-0.041831</td>\n",
              "      <td>-0.062059</td>\n",
              "      <td>-0.078712</td>\n",
              "      <td>-0.765125</td>\n",
              "      <td>-0.129241</td>\n",
              "      <td>-0.120644</td>\n",
              "      <td>0.750000</td>\n",
              "      <td>0.0</td>\n",
              "    </tr>\n",
              "    <tr>\n",
              "      <th>3</th>\n",
              "      <td>-0.5</td>\n",
              "      <td>-0.500000</td>\n",
              "      <td>1.0</td>\n",
              "      <td>-1.0</td>\n",
              "      <td>0.0</td>\n",
              "      <td>-1.333333</td>\n",
              "      <td>-0.181818</td>\n",
              "      <td>-0.247608</td>\n",
              "      <td>-0.261202</td>\n",
              "      <td>-0.251693</td>\n",
              "      <td>-0.538462</td>\n",
              "      <td>0.213523</td>\n",
              "      <td>-0.450188</td>\n",
              "      <td>-0.387691</td>\n",
              "      <td>-0.166667</td>\n",
              "      <td>0.0</td>\n",
              "    </tr>\n",
              "    <tr>\n",
              "      <th>4</th>\n",
              "      <td>0.5</td>\n",
              "      <td>0.666667</td>\n",
              "      <td>0.0</td>\n",
              "      <td>0.0</td>\n",
              "      <td>0.0</td>\n",
              "      <td>1.000000</td>\n",
              "      <td>1.272727</td>\n",
              "      <td>0.564414</td>\n",
              "      <td>0.826513</td>\n",
              "      <td>1.002925</td>\n",
              "      <td>0.143873</td>\n",
              "      <td>-0.765125</td>\n",
              "      <td>2.243786</td>\n",
              "      <td>2.077429</td>\n",
              "      <td>-0.333333</td>\n",
              "      <td>0.0</td>\n",
              "    </tr>\n",
              "    <tr>\n",
              "      <th>...</th>\n",
              "      <td>...</td>\n",
              "      <td>...</td>\n",
              "      <td>...</td>\n",
              "      <td>...</td>\n",
              "      <td>...</td>\n",
              "      <td>...</td>\n",
              "      <td>...</td>\n",
              "      <td>...</td>\n",
              "      <td>...</td>\n",
              "      <td>...</td>\n",
              "      <td>...</td>\n",
              "      <td>...</td>\n",
              "      <td>...</td>\n",
              "      <td>...</td>\n",
              "      <td>...</td>\n",
              "      <td>...</td>\n",
              "    </tr>\n",
              "    <tr>\n",
              "      <th>499995</th>\n",
              "      <td>0.0</td>\n",
              "      <td>0.555556</td>\n",
              "      <td>0.0</td>\n",
              "      <td>-1.0</td>\n",
              "      <td>-2.0</td>\n",
              "      <td>0.333333</td>\n",
              "      <td>-0.327273</td>\n",
              "      <td>0.415710</td>\n",
              "      <td>0.975807</td>\n",
              "      <td>-0.291871</td>\n",
              "      <td>-0.319320</td>\n",
              "      <td>0.213523</td>\n",
              "      <td>-0.577814</td>\n",
              "      <td>-0.047197</td>\n",
              "      <td>-0.250000</td>\n",
              "      <td>1.0</td>\n",
              "    </tr>\n",
              "    <tr>\n",
              "      <th>499996</th>\n",
              "      <td>-0.5</td>\n",
              "      <td>0.055556</td>\n",
              "      <td>1.0</td>\n",
              "      <td>-2.0</td>\n",
              "      <td>0.0</td>\n",
              "      <td>0.333333</td>\n",
              "      <td>-0.181818</td>\n",
              "      <td>2.531098</td>\n",
              "      <td>4.393357</td>\n",
              "      <td>1.451133</td>\n",
              "      <td>-0.187835</td>\n",
              "      <td>0.217082</td>\n",
              "      <td>0.378411</td>\n",
              "      <td>0.238671</td>\n",
              "      <td>0.333333</td>\n",
              "      <td>1.0</td>\n",
              "    </tr>\n",
              "    <tr>\n",
              "      <th>499997</th>\n",
              "      <td>0.0</td>\n",
              "      <td>-0.333333</td>\n",
              "      <td>0.0</td>\n",
              "      <td>-1.0</td>\n",
              "      <td>0.0</td>\n",
              "      <td>0.000000</td>\n",
              "      <td>-0.181818</td>\n",
              "      <td>-0.268983</td>\n",
              "      <td>-0.282538</td>\n",
              "      <td>-0.237626</td>\n",
              "      <td>-0.243292</td>\n",
              "      <td>0.217082</td>\n",
              "      <td>-0.166936</td>\n",
              "      <td>-0.388369</td>\n",
              "      <td>-0.291667</td>\n",
              "      <td>1.0</td>\n",
              "    </tr>\n",
              "    <tr>\n",
              "      <th>499998</th>\n",
              "      <td>1.0</td>\n",
              "      <td>0.666667</td>\n",
              "      <td>0.0</td>\n",
              "      <td>0.0</td>\n",
              "      <td>-2.0</td>\n",
              "      <td>1.000000</td>\n",
              "      <td>0.000000</td>\n",
              "      <td>-0.101207</td>\n",
              "      <td>-0.082890</td>\n",
              "      <td>-0.161398</td>\n",
              "      <td>-0.110912</td>\n",
              "      <td>0.213523</td>\n",
              "      <td>0.383953</td>\n",
              "      <td>-0.175448</td>\n",
              "      <td>-0.083333</td>\n",
              "      <td>1.0</td>\n",
              "    </tr>\n",
              "    <tr>\n",
              "      <th>499999</th>\n",
              "      <td>0.0</td>\n",
              "      <td>-0.500000</td>\n",
              "      <td>0.0</td>\n",
              "      <td>-1.0</td>\n",
              "      <td>0.0</td>\n",
              "      <td>0.666667</td>\n",
              "      <td>-0.272727</td>\n",
              "      <td>-0.287205</td>\n",
              "      <td>-0.299528</td>\n",
              "      <td>-0.278328</td>\n",
              "      <td>-0.263327</td>\n",
              "      <td>0.217082</td>\n",
              "      <td>-0.405493</td>\n",
              "      <td>-0.370991</td>\n",
              "      <td>-0.416667</td>\n",
              "      <td>1.0</td>\n",
              "    </tr>\n",
              "  </tbody>\n",
              "</table>\n",
              "<p>500000 rows × 16 columns</p>\n",
              "</div>"
            ],
            "text/plain": [
              "        nentdir      edad  genero  tipovi  estadciv   ubidepa     saldo  \\\n",
              "0           1.0  0.333333     0.0     0.0       0.0  0.000000  1.272727   \n",
              "1          -0.5 -0.666667     0.0    -1.0       0.0  0.333333 -0.181818   \n",
              "2           0.0  0.000000     0.0    -1.0       0.0 -1.333333 -0.363636   \n",
              "3          -0.5 -0.500000     1.0    -1.0       0.0 -1.333333 -0.181818   \n",
              "4           0.5  0.666667     0.0     0.0       0.0  1.000000  1.272727   \n",
              "...         ...       ...     ...     ...       ...       ...       ...   \n",
              "499995      0.0  0.555556     0.0    -1.0      -2.0  0.333333 -0.327273   \n",
              "499996     -0.5  0.055556     1.0    -2.0       0.0  0.333333 -0.181818   \n",
              "499997      0.0 -0.333333     0.0    -1.0       0.0  0.000000 -0.181818   \n",
              "499998      1.0  0.666667     0.0     0.0      -2.0  1.000000  0.000000   \n",
              "499999      0.0 -0.500000     0.0    -1.0       0.0  0.666667 -0.272727   \n",
              "\n",
              "        saldoprom3  saldomax3  saldorcc  v999_ventas_netas  plazobd1  \\\n",
              "0         2.531098   4.393357  5.118846           1.689267 -0.765125   \n",
              "1        -0.356619  -0.369864 -0.351049           0.744186  0.245552   \n",
              "2        -0.034360  -0.041831 -0.062059          -0.078712 -0.765125   \n",
              "3        -0.247608  -0.261202 -0.251693          -0.538462  0.213523   \n",
              "4         0.564414   0.826513  1.002925           0.143873 -0.765125   \n",
              "...            ...        ...       ...                ...       ...   \n",
              "499995    0.415710   0.975807 -0.291871          -0.319320  0.213523   \n",
              "499996    2.531098   4.393357  1.451133          -0.187835  0.217082   \n",
              "499997   -0.268983  -0.282538 -0.237626          -0.243292  0.217082   \n",
              "499998   -0.101207  -0.082890 -0.161398          -0.110912  0.213523   \n",
              "499999   -0.287205  -0.299528 -0.278328          -0.263327  0.217082   \n",
              "\n",
              "        v107_utilidad_del_negocio  v500_capital  v100_caja_y_bancos  default12  \n",
              "0                        3.531331      3.212493            9.500000        0.0  \n",
              "1                        0.018309      1.140000            0.250000        0.0  \n",
              "2                       -0.129241     -0.120644            0.750000        0.0  \n",
              "3                       -0.450188     -0.387691           -0.166667        0.0  \n",
              "4                        2.243786      2.077429           -0.333333        0.0  \n",
              "...                           ...           ...                 ...        ...  \n",
              "499995                  -0.577814     -0.047197           -0.250000        1.0  \n",
              "499996                   0.378411      0.238671            0.333333        1.0  \n",
              "499997                  -0.166936     -0.388369           -0.291667        1.0  \n",
              "499998                   0.383953     -0.175448           -0.083333        1.0  \n",
              "499999                  -0.405493     -0.370991           -0.416667        1.0  \n",
              "\n",
              "[500000 rows x 16 columns]"
            ]
          },
          "metadata": {
            "tags": []
          },
          "execution_count": 119
        }
      ]
    },
    {
      "cell_type": "markdown",
      "metadata": {
        "id": "Wxqan8y1QOgC"
      },
      "source": [
        "**DATA PCA**"
      ]
    },
    {
      "cell_type": "code",
      "metadata": {
        "id": "jhRDTaawPsqm"
      },
      "source": [
        "Data_Prueba_8=RobustScaler(Data_Prueba_4)"
      ],
      "execution_count": 120,
      "outputs": []
    },
    {
      "cell_type": "code",
      "metadata": {
        "id": "Lq9o4XjrPsnr"
      },
      "source": [
        "Data_Prueba_8.columns = ['component 1', 'component 2','component 3',\r\n",
        "                                           'component 4', 'component 5', 'component 6', \r\n",
        "                                           'component 7', 'component 8', 'default12']"
      ],
      "execution_count": 121,
      "outputs": []
    },
    {
      "cell_type": "code",
      "metadata": {
        "colab": {
          "base_uri": "https://localhost:8080/",
          "height": 406
        },
        "id": "bKnZipMfPsbL",
        "outputId": "ce2ba8ea-e9e9-4adc-9e21-3f78737016c6"
      },
      "source": [
        "Data_Prueba_8.head(500000)"
      ],
      "execution_count": 122,
      "outputs": [
        {
          "output_type": "execute_result",
          "data": {
            "text/html": [
              "<div>\n",
              "<style scoped>\n",
              "    .dataframe tbody tr th:only-of-type {\n",
              "        vertical-align: middle;\n",
              "    }\n",
              "\n",
              "    .dataframe tbody tr th {\n",
              "        vertical-align: top;\n",
              "    }\n",
              "\n",
              "    .dataframe thead th {\n",
              "        text-align: right;\n",
              "    }\n",
              "</style>\n",
              "<table border=\"1\" class=\"dataframe\">\n",
              "  <thead>\n",
              "    <tr style=\"text-align: right;\">\n",
              "      <th></th>\n",
              "      <th>component 1</th>\n",
              "      <th>component 2</th>\n",
              "      <th>component 3</th>\n",
              "      <th>component 4</th>\n",
              "      <th>component 5</th>\n",
              "      <th>component 6</th>\n",
              "      <th>component 7</th>\n",
              "      <th>component 8</th>\n",
              "      <th>default12</th>\n",
              "    </tr>\n",
              "  </thead>\n",
              "  <tbody>\n",
              "    <tr>\n",
              "      <th>0</th>\n",
              "      <td>3.112516</td>\n",
              "      <td>0.422506</td>\n",
              "      <td>-0.812579</td>\n",
              "      <td>-0.145709</td>\n",
              "      <td>-0.634875</td>\n",
              "      <td>0.606131</td>\n",
              "      <td>0.623152</td>\n",
              "      <td>-0.929213</td>\n",
              "      <td>0.0</td>\n",
              "    </tr>\n",
              "    <tr>\n",
              "      <th>1</th>\n",
              "      <td>-0.020624</td>\n",
              "      <td>-0.415343</td>\n",
              "      <td>1.461286</td>\n",
              "      <td>-0.589438</td>\n",
              "      <td>0.282144</td>\n",
              "      <td>1.220667</td>\n",
              "      <td>0.543586</td>\n",
              "      <td>-0.240560</td>\n",
              "      <td>0.0</td>\n",
              "    </tr>\n",
              "    <tr>\n",
              "      <th>2</th>\n",
              "      <td>-0.157209</td>\n",
              "      <td>-0.030453</td>\n",
              "      <td>-0.045513</td>\n",
              "      <td>-0.363408</td>\n",
              "      <td>-0.892578</td>\n",
              "      <td>-0.389999</td>\n",
              "      <td>1.171416</td>\n",
              "      <td>0.312974</td>\n",
              "      <td>0.0</td>\n",
              "    </tr>\n",
              "    <tr>\n",
              "      <th>3</th>\n",
              "      <td>-0.543992</td>\n",
              "      <td>0.424386</td>\n",
              "      <td>0.814029</td>\n",
              "      <td>0.015435</td>\n",
              "      <td>-0.299436</td>\n",
              "      <td>-1.583601</td>\n",
              "      <td>0.056965</td>\n",
              "      <td>0.358505</td>\n",
              "      <td>0.0</td>\n",
              "    </tr>\n",
              "    <tr>\n",
              "      <th>4</th>\n",
              "      <td>0.940717</td>\n",
              "      <td>-0.215111</td>\n",
              "      <td>-0.869307</td>\n",
              "      <td>-0.025148</td>\n",
              "      <td>0.045465</td>\n",
              "      <td>1.181771</td>\n",
              "      <td>-0.355050</td>\n",
              "      <td>-0.882383</td>\n",
              "      <td>0.0</td>\n",
              "    </tr>\n",
              "    <tr>\n",
              "      <th>...</th>\n",
              "      <td>...</td>\n",
              "      <td>...</td>\n",
              "      <td>...</td>\n",
              "      <td>...</td>\n",
              "      <td>...</td>\n",
              "      <td>...</td>\n",
              "      <td>...</td>\n",
              "      <td>...</td>\n",
              "      <td>...</td>\n",
              "    </tr>\n",
              "    <tr>\n",
              "      <th>499995</th>\n",
              "      <td>-0.105865</td>\n",
              "      <td>-0.897090</td>\n",
              "      <td>0.500011</td>\n",
              "      <td>0.731563</td>\n",
              "      <td>0.641297</td>\n",
              "      <td>1.666461</td>\n",
              "      <td>0.529994</td>\n",
              "      <td>0.604991</td>\n",
              "      <td>1.0</td>\n",
              "    </tr>\n",
              "    <tr>\n",
              "      <th>499996</th>\n",
              "      <td>0.833020</td>\n",
              "      <td>0.277213</td>\n",
              "      <td>0.947834</td>\n",
              "      <td>-0.366111</td>\n",
              "      <td>-0.053161</td>\n",
              "      <td>0.557205</td>\n",
              "      <td>-0.761689</td>\n",
              "      <td>-0.049934</td>\n",
              "      <td>1.0</td>\n",
              "    </tr>\n",
              "    <tr>\n",
              "      <th>499997</th>\n",
              "      <td>-0.555165</td>\n",
              "      <td>1.200596</td>\n",
              "      <td>-0.202050</td>\n",
              "      <td>0.064891</td>\n",
              "      <td>0.427986</td>\n",
              "      <td>-0.273722</td>\n",
              "      <td>0.290832</td>\n",
              "      <td>0.093525</td>\n",
              "      <td>1.0</td>\n",
              "    </tr>\n",
              "    <tr>\n",
              "      <th>499998</th>\n",
              "      <td>-0.047152</td>\n",
              "      <td>-0.266246</td>\n",
              "      <td>-1.145157</td>\n",
              "      <td>0.883133</td>\n",
              "      <td>1.145928</td>\n",
              "      <td>1.224366</td>\n",
              "      <td>-0.295374</td>\n",
              "      <td>0.321533</td>\n",
              "      <td>1.0</td>\n",
              "    </tr>\n",
              "    <tr>\n",
              "      <th>499999</th>\n",
              "      <td>-0.476626</td>\n",
              "      <td>0.430609</td>\n",
              "      <td>-0.052841</td>\n",
              "      <td>-0.700295</td>\n",
              "      <td>0.585470</td>\n",
              "      <td>0.582788</td>\n",
              "      <td>-0.097797</td>\n",
              "      <td>0.132454</td>\n",
              "      <td>1.0</td>\n",
              "    </tr>\n",
              "  </tbody>\n",
              "</table>\n",
              "<p>500000 rows × 9 columns</p>\n",
              "</div>"
            ],
            "text/plain": [
              "        component 1  component 2  component 3  component 4  component 5  \\\n",
              "0          3.112516     0.422506    -0.812579    -0.145709    -0.634875   \n",
              "1         -0.020624    -0.415343     1.461286    -0.589438     0.282144   \n",
              "2         -0.157209    -0.030453    -0.045513    -0.363408    -0.892578   \n",
              "3         -0.543992     0.424386     0.814029     0.015435    -0.299436   \n",
              "4          0.940717    -0.215111    -0.869307    -0.025148     0.045465   \n",
              "...             ...          ...          ...          ...          ...   \n",
              "499995    -0.105865    -0.897090     0.500011     0.731563     0.641297   \n",
              "499996     0.833020     0.277213     0.947834    -0.366111    -0.053161   \n",
              "499997    -0.555165     1.200596    -0.202050     0.064891     0.427986   \n",
              "499998    -0.047152    -0.266246    -1.145157     0.883133     1.145928   \n",
              "499999    -0.476626     0.430609    -0.052841    -0.700295     0.585470   \n",
              "\n",
              "        component 6  component 7  component 8  default12  \n",
              "0          0.606131     0.623152    -0.929213        0.0  \n",
              "1          1.220667     0.543586    -0.240560        0.0  \n",
              "2         -0.389999     1.171416     0.312974        0.0  \n",
              "3         -1.583601     0.056965     0.358505        0.0  \n",
              "4          1.181771    -0.355050    -0.882383        0.0  \n",
              "...             ...          ...          ...        ...  \n",
              "499995     1.666461     0.529994     0.604991        1.0  \n",
              "499996     0.557205    -0.761689    -0.049934        1.0  \n",
              "499997    -0.273722     0.290832     0.093525        1.0  \n",
              "499998     1.224366    -0.295374     0.321533        1.0  \n",
              "499999     0.582788    -0.097797     0.132454        1.0  \n",
              "\n",
              "[500000 rows x 9 columns]"
            ]
          },
          "metadata": {
            "tags": []
          },
          "execution_count": 122
        }
      ]
    },
    {
      "cell_type": "markdown",
      "metadata": {
        "id": "UUAvq88yQeoM"
      },
      "source": [
        "**EJEMPLO ROBUST SCALER**"
      ]
    },
    {
      "cell_type": "code",
      "metadata": {
        "id": "NQi_vsOdQZSW"
      },
      "source": [
        "from sklearn.preprocessing import RobustScaler\r\n",
        "X1=Data_Prueba_3.iloc[:,[6]].values\r\n",
        "rsc=RobustScaler()\r\n",
        "a=rsc.fit_transform(X1)"
      ],
      "execution_count": 128,
      "outputs": []
    },
    {
      "cell_type": "code",
      "metadata": {
        "colab": {
          "base_uri": "https://localhost:8080/"
        },
        "id": "yWvBBQZiQZNk",
        "outputId": "f4977330-1383-44b4-dcdc-53756b79dfb5"
      },
      "source": [
        "np.median(X1)"
      ],
      "execution_count": 129,
      "outputs": [
        {
          "output_type": "execute_result",
          "data": {
            "text/plain": [
              "3000.0"
            ]
          },
          "metadata": {
            "tags": []
          },
          "execution_count": 129
        }
      ]
    },
    {
      "cell_type": "code",
      "metadata": {
        "colab": {
          "base_uri": "https://localhost:8080/"
        },
        "id": "D-YxcJ6KQZI9",
        "outputId": "1fca7862-7e72-4577-9a12-71205834dd39"
      },
      "source": [
        "np.median(a)"
      ],
      "execution_count": 130,
      "outputs": [
        {
          "output_type": "execute_result",
          "data": {
            "text/plain": [
              "0.0"
            ]
          },
          "metadata": {
            "tags": []
          },
          "execution_count": 130
        }
      ]
    },
    {
      "cell_type": "code",
      "metadata": {
        "colab": {
          "base_uri": "https://localhost:8080/",
          "height": 266
        },
        "id": "WJizDqkaQZEz",
        "outputId": "4efc9ad7-10aa-45d9-de2c-833b46ea3e2f"
      },
      "source": [
        "plt.hist (X1, alpha=0.5)\r\n",
        "plt.show()"
      ],
      "execution_count": 131,
      "outputs": [
        {
          "output_type": "display_data",
          "data": {
            "image/png": "[encoded data removed]",
            "text/plain": [
              "<Figure size 432x288 with 1 Axes>"
            ]
          },
          "metadata": {
            "tags": [],
            "needs_background": "light"
          }
        }
      ]
    },
    {
      "cell_type": "code",
      "metadata": {
        "colab": {
          "base_uri": "https://localhost:8080/",
          "height": 266
        },
        "id": "fjLGEJFoQY4T",
        "outputId": "098eeed3-e166-4d0c-8b85-36e2ca565536"
      },
      "source": [
        "plt.hist (a, alpha=0.5)\r\n",
        "plt.show()"
      ],
      "execution_count": 132,
      "outputs": [
        {
          "output_type": "display_data",
          "data": {
            "image/png": "[encoded data removed]",
            "text/plain": [
              "<Figure size 432x288 with 1 Axes>"
            ]
          },
          "metadata": {
            "tags": [],
            "needs_background": "light"
          }
        }
      ]
    },
    {
      "cell_type": "markdown",
      "metadata": {
        "id": "p3i72w0Tr6Lz"
      },
      "source": [
        "**ARQUITECTURA Y CÓDIGO DE ENTRENAMIENTO**"
      ]
    },
    {
      "cell_type": "markdown",
      "metadata": {
        "id": "CyfN7nlwoR0A"
      },
      "source": [
        "**Tabnet**"
      ]
    },
    {
      "cell_type": "code",
      "metadata": {
        "colab": {
          "base_uri": "https://localhost:8080/"
        },
        "id": "wCCjVAzeoGb1",
        "outputId": "65b3775e-7b54-4e58-bde4-33d43bdd67c2"
      },
      "source": [
        "!pip install pytorch_tabnet"
      ],
      "execution_count": null,
      "outputs": [
        {
          "output_type": "stream",
          "text": [
            "Collecting pytorch_tabnet\n",
            "  Downloading https://files.pythonhosted.org/packages/50/66/6750481a520cc0c137777da1d84c8d892624520d660a258aa7f8498eaaab/pytorch_tabnet-2.0.1-py3-none-any.whl\n",
            "Requirement already satisfied: tqdm<5.0,>=4.36 in /usr/local/lib/python3.6/dist-packages (from pytorch_tabnet) (4.41.1)\n",
            "Requirement already satisfied: scipy>1.4 in /usr/local/lib/python3.6/dist-packages (from pytorch_tabnet) (1.4.1)\n",
            "Requirement already satisfied: numpy<2.0,>=1.17 in /usr/local/lib/python3.6/dist-packages (from pytorch_tabnet) (1.18.5)\n",
            "Requirement already satisfied: scikit_learn>0.21 in /usr/local/lib/python3.6/dist-packages (from pytorch_tabnet) (0.22.2.post1)\n",
            "Requirement already satisfied: torch<2.0,>=1.2 in /usr/local/lib/python3.6/dist-packages (from pytorch_tabnet) (1.7.0+cu101)\n",
            "Requirement already satisfied: joblib>=0.11 in /usr/local/lib/python3.6/dist-packages (from scikit_learn>0.21->pytorch_tabnet) (0.17.0)\n",
            "Requirement already satisfied: typing-extensions in /usr/local/lib/python3.6/dist-packages (from torch<2.0,>=1.2->pytorch_tabnet) (3.7.4.3)\n",
            "Requirement already satisfied: dataclasses in /usr/local/lib/python3.6/dist-packages (from torch<2.0,>=1.2->pytorch_tabnet) (0.8)\n",
            "Requirement already satisfied: future in /usr/local/lib/python3.6/dist-packages (from torch<2.0,>=1.2->pytorch_tabnet) (0.16.0)\n",
            "Installing collected packages: pytorch-tabnet\n",
            "Successfully installed pytorch-tabnet-2.0.1\n"
          ],
          "name": "stdout"
        }
      ]
    },
    {
      "cell_type": "code",
      "metadata": {
        "colab": {
          "base_uri": "https://localhost:8080/"
        },
        "id": "wcFWuFHQohBl",
        "outputId": "5295385b-45ab-4516-e712-1d0b75fb1559"
      },
      "source": [
        "!pip install wget"
      ],
      "execution_count": null,
      "outputs": [
        {
          "output_type": "stream",
          "text": [
            "Collecting wget\n",
            "  Downloading https://files.pythonhosted.org/packages/47/6a/62e288da7bcda82b935ff0c6cfe542970f04e29c756b0e147251b2fb251f/wget-3.2.zip\n",
            "Building wheels for collected packages: wget\n",
            "  Building wheel for wget (setup.py) ... \u001b[?25l\u001b[?25hdone\n",
            "  Created wheel for wget: filename=wget-3.2-cp36-none-any.whl size=9681 sha256=0b1e3e605945177986f3a32e391eadd9da84ae75f8b6d2f35bbbe247276aaccb\n",
            "  Stored in directory: /root/.cache/pip/wheels/40/15/30/7d8f7cea2902b4db79e3fea550d7d7b85ecb27ef992b618f3f\n",
            "Successfully built wget\n",
            "Installing collected packages: wget\n",
            "Successfully installed wget-3.2\n"
          ],
          "name": "stdout"
        }
      ]
    },
    {
      "cell_type": "code",
      "metadata": {
        "id": "Wo7erMwWoimk"
      },
      "source": [
        "from pytorch_tabnet.tab_model import TabNetClassifier\r\n",
        "import torch\r\n",
        "from sklearn.preprocessing import LabelEncoder\r\n",
        "from sklearn.metrics import roc_auc_score,f1_score,precision_recall_curve\r\n",
        "\r\n",
        "import pandas as pd\r\n",
        "import numpy as np\r\n",
        "np.random.seed(0)\r\n",
        "\r\n",
        "import os\r\n",
        "import wget\r\n",
        "from pathlib import Path\r\n",
        "\r\n",
        "import seaborn as sns\r\n",
        "from matplotlib import pyplot as plt\r\n",
        "%matplotlib inline"
      ],
      "execution_count": null,
      "outputs": []
    },
    {
      "cell_type": "code",
      "metadata": {
        "id": "Dssb5ktNok8k"
      },
      "source": [
        "def make_confusion_matrix(cf,\r\n",
        "                          group_names=None,\r\n",
        "                          categories='auto',\r\n",
        "                          count=True,\r\n",
        "                          percent=True,\r\n",
        "                          cbar=True,\r\n",
        "                          xyticks=True,\r\n",
        "                          xyplotlabels=True,\r\n",
        "                          label = \"label\",\r\n",
        "                          sum_stats=True,\r\n",
        "                          figsize=None,\r\n",
        "                          cmap='Blues',\r\n",
        "                          title=None):\r\n",
        "    '''\r\n",
        "    This function will make a pretty plot of an sklearn Confusion Matrix cm using a Seaborn heatmap visualization.\r\n",
        "    Arguments\r\n",
        "    ---------\r\n",
        "    cf:            confusion matrix to be passed in\r\n",
        "    group_names:   List of strings that represent the labels row by row to be shown in each square.\r\n",
        "    categories:    List of strings containing the categories to be displayed on the x,y axis. Default is 'auto'\r\n",
        "    count:         If True, show the raw number in the confusion matrix. Default is True.\r\n",
        "    normalize:     If True, show the proportions for each category. Default is True.\r\n",
        "    cbar:          If True, show the color bar. The cbar values are based off the values in the confusion matrix.\r\n",
        "                   Default is True.\r\n",
        "    xyticks:       If True, show x and y ticks. Default is True.\r\n",
        "    xyplotlabels:  If True, show 'True Label' and 'Predicted Label' on the figure. Default is True.\r\n",
        "    sum_stats:     If True, display summary statistics below the figure. Default is True.\r\n",
        "    figsize:       Tuple representing the figure size. Default will be the matplotlib rcParams value.\r\n",
        "    cmap:          Colormap of the values displayed from matplotlib.pyplot.cm. Default is 'Blues'\r\n",
        "                   See http://matplotlib.org/examples/color/colormaps_reference.html\r\n",
        "                   \r\n",
        "    title:         Title for the heatmap. Default is None.\r\n",
        "    '''\r\n",
        "\r\n",
        "\r\n",
        "    # CODE TO GENERATE TEXT INSIDE EACH SQUARE\r\n",
        "    blanks = ['' for i in range(cf.size)]\r\n",
        "\r\n",
        "    if group_names and len(group_names)==cf.size:\r\n",
        "        group_labels = [\"{}\\n\".format(value) for value in group_names]\r\n",
        "    else:\r\n",
        "        group_labels = blanks\r\n",
        "\r\n",
        "    if count:\r\n",
        "        group_counts = [\"{0:0.0f}\\n\".format(value) for value in cf.flatten()]\r\n",
        "    else:\r\n",
        "        group_counts = blanks\r\n",
        "\r\n",
        "    if percent:\r\n",
        "        group_percentages = [\"{0:.2%}\".format(value) for value in cf.flatten()/np.sum(cf)]\r\n",
        "    else:\r\n",
        "        group_percentages = blanks\r\n",
        "\r\n",
        "    box_labels = [f\"{v1}{v2}{v3}\".strip() for v1, v2, v3 in zip(group_labels,group_counts,group_percentages)]\r\n",
        "    box_labels = np.asarray(box_labels).reshape(cf.shape[0],cf.shape[1])\r\n",
        "\r\n",
        "\r\n",
        "    # CODE TO GENERATE SUMMARY STATISTICS & TEXT FOR SUMMARY STATS\r\n",
        "    if sum_stats:\r\n",
        "        #Accuracy is sum of diagonal divided by total observations\r\n",
        "        accuracy  = np.trace(cf) / float(np.sum(cf))\r\n",
        "\r\n",
        "        #if it is a binary confusion matrix, show some more stats\r\n",
        "        if len(cf)==2:\r\n",
        "            #Metrics for Binary Confusion Matrices\r\n",
        "            precision = cf[1,1] / sum(cf[:,1])\r\n",
        "            recall    = cf[1,1] / sum(cf[1,:])\r\n",
        "            f1_score  = 2*precision*recall / (precision + recall)\r\n",
        "            stats_text = \"\\n\\nPrecision={:0.3f}\\nRecall={:0.3f}\\nF1 Score={:0.3f}\".format(\r\n",
        "               precision,recall,f1_score)\r\n",
        "        # else:\r\n",
        "        #     stats_text = \"\\n\\nAccuracy={:0.3f}\".format(accuracy)\r\n",
        "    else:\r\n",
        "        stats_text = \"\"\r\n",
        "\r\n",
        "\r\n",
        "    # SET FIGURE PARAMETERS ACCORDING TO OTHER ARGUMENTS\r\n",
        "    if figsize==None:\r\n",
        "        #Get default figure size if not set\r\n",
        "        figsize = plt.rcParams.get('figure.figsize')\r\n",
        "\r\n",
        "    if xyticks==False:\r\n",
        "        #Do not show categories if xyticks is False\r\n",
        "        categories=False\r\n",
        "\r\n",
        "\r\n",
        "    # MAKE THE HEATMAP VISUALIZATION\r\n",
        "    plt.figure(figsize=figsize)\r\n",
        "    sns.heatmap(cf,annot=box_labels,fmt=\"\",cmap=cmap,cbar=cbar,xticklabels=categories,yticklabels=categories)\r\n",
        "\r\n",
        "    if xyplotlabels:\r\n",
        "        plt.ylabel('Correct '+label)\r\n",
        "        plt.xlabel('Predicted ' +label+ stats_text)\r\n",
        "    else:\r\n",
        "        plt.xlabel(stats_text)\r\n",
        "    \r\n",
        "\r\n",
        "    if title:\r\n",
        "        plt.title(title)\r\n",
        "    else:\r\n",
        "        plt.title(\"Confusion matrix\")"
      ],
      "execution_count": null,
      "outputs": []
    },
    {
      "cell_type": "code",
      "metadata": {
        "id": "N5-1Shc9o28Y"
      },
      "source": [
        "#Guardamos el random state para dividir la data en train, valid y test\r\n",
        "r = np.random.RandomState(1)\r\n",
        "\r\n",
        "target = \"default12\"\r\n",
        "\r\n",
        "if \"Set\" not in data.columns:\r\n",
        "  data[\"Set\"] = r.choice(['train','valid','test'],p=[.8,.10,.10], size = (data.shape[0],))\r\n",
        "\r\n",
        "train_indices = data[data.Set==\"train\"].index\r\n",
        "valid_indices = data[data.Set==\"valid\"].index\r\n",
        "test_indices = data[data.Set==\"test\"].index"
      ],
      "execution_count": null,
      "outputs": []
    },
    {
      "cell_type": "code",
      "metadata": {
        "id": "mpXRj2aQpG50"
      },
      "source": [
        "nunique = data.nunique()\r\n",
        "types = data.dtypes"
      ],
      "execution_count": null,
      "outputs": []
    },
    {
      "cell_type": "code",
      "metadata": {
        "colab": {
          "base_uri": "https://localhost:8080/"
        },
        "id": "eLKH5-1jpJKu",
        "outputId": "769090e3-3753-44ae-b6e1-8221d63900a5"
      },
      "source": [
        "categorical_columns = []\r\n",
        "categorical_dims = {}\r\n",
        "\r\n",
        "for col in data.columns:\r\n",
        "  if types[col] == 'object' or nunique[col] < 200:\r\n",
        "    print (col, data[col].nunique())\r\n",
        "    l_enc= LabelEncoder()\r\n",
        "    data[col] = data[col].fillna(\"VV_likely\")\r\n",
        "    data[col] = l_enc.fit_transform(data[col].values)\r\n",
        "    categorical_columns.append(col)\r\n",
        "    categorical_dims[col] = len(l_enc.classes_)\r\n",
        "  else:\r\n",
        "    data.fillna(0,inplace=True)"
      ],
      "execution_count": null,
      "outputs": [
        {
          "output_type": "stream",
          "text": [
            "default12 2\n",
            "Set 3\n"
          ],
          "name": "stdout"
        }
      ]
    },
    {
      "cell_type": "markdown",
      "metadata": {
        "id": "LexjPCQ7pN6y"
      },
      "source": [
        "**Define categorical features for categorical embeddings**"
      ]
    },
    {
      "cell_type": "code",
      "metadata": {
        "id": "sEsSg7-rpPCo"
      },
      "source": [
        "unused_feat = ['Set']\r\n",
        "\r\n",
        "features = [col for col in data.columns if col not in unused_feat+[target]]\r\n",
        "cat_idxs = [i for i, f in enumerate(features) if f in categorical_columns]\r\n",
        "cat_dims = [categorical_dims[f] for i, f in enumerate(features) if f in categorical_columns]"
      ],
      "execution_count": null,
      "outputs": []
    },
    {
      "cell_type": "code",
      "metadata": {
        "colab": {
          "base_uri": "https://localhost:8080/"
        },
        "id": "J7WIv8Q6pRGV",
        "outputId": "f1ae0253-4b1a-439e-d334-de5874289c08"
      },
      "source": [
        "print(f\"Used features: {features}\")\r\n",
        "print(\"-------\")\r\n",
        "print(f\"Categorical features indices: {cat_idxs}\")\r\n",
        "print(\"-------\")\r\n",
        "print(f\"Number of modalities per categorical feature: {cat_dims}\")"
      ],
      "execution_count": null,
      "outputs": [
        {
          "output_type": "stream",
          "text": [
            "Used features: ['component 1', 'component 2', 'component 3', 'component 4', 'component 5', 'component 6', 'component 7', 'component 8']\n",
            "-------\n",
            "Categorical features indices: []\n",
            "-------\n",
            "Number of modalities per categorical feature: []\n"
          ],
          "name": "stdout"
        }
      ]
    },
    {
      "cell_type": "markdown",
      "metadata": {
        "id": "7W0P0_h3pVAO"
      },
      "source": [
        "**Creating train, valid, test matrices**"
      ]
    },
    {
      "cell_type": "code",
      "metadata": {
        "id": "LaxWRBbZZ-fY"
      },
      "source": [
        "X_train = data[features].values[train_indices]\r\n",
        "y_train = data[target].values[train_indices]\r\n",
        "\r\n",
        "X_valid = data[features].values[valid_indices]\r\n",
        "y_valid = data[target].values[valid_indices]\r\n",
        "\r\n",
        "X_test = data[features].values[test_indices]\r\n",
        "y_test = data[target].values[test_indices]"
      ],
      "execution_count": null,
      "outputs": []
    },
    {
      "cell_type": "code",
      "metadata": {
        "colab": {
          "base_uri": "https://localhost:8080/"
        },
        "id": "7nEtFu5m5jFP",
        "outputId": "3daa7c42-e4a9-4c51-aba9-0d2e9d03450e"
      },
      "source": [
        "len(X_train)"
      ],
      "execution_count": null,
      "outputs": [
        {
          "output_type": "execute_result",
          "data": {
            "text/plain": [
              "478135"
            ]
          },
          "metadata": {
            "tags": []
          },
          "execution_count": 73
        }
      ]
    },
    {
      "cell_type": "markdown",
      "metadata": {
        "id": "-m3U_G1ypYvV"
      },
      "source": [
        "**Parámetros de la Red**"
      ]
    },
    {
      "cell_type": "code",
      "metadata": {
        "colab": {
          "base_uri": "https://localhost:8080/"
        },
        "id": "B_IDa1BbpaU9",
        "outputId": "9d709cb2-b0e3-4d9a-d9ca-145a7f591821"
      },
      "source": [
        "clf = TabNetClassifier(cat_idxs= cat_idxs,cat_dims=cat_dims, cat_emb_dim=1,n_d=128,n_a=128,lambda_sparse=0.0001,n_steps=5,gamma=1.4)"
      ],
      "execution_count": null,
      "outputs": [
        {
          "output_type": "stream",
          "text": [
            "Device used : cuda\n"
          ],
          "name": "stdout"
        }
      ]
    },
    {
      "cell_type": "code",
      "metadata": {
        "colab": {
          "base_uri": "https://localhost:8080/"
        },
        "id": "1TyJgaBP08wc",
        "outputId": "44b662f2-9964-46f4-aeb0-2a37a3cae4d7"
      },
      "source": [
        "clf"
      ],
      "execution_count": null,
      "outputs": [
        {
          "output_type": "execute_result",
          "data": {
            "text/plain": [
              "TabNetClassifier(n_d=128, n_a=128, n_steps=5, gamma=1.4, cat_idxs=[], cat_dims=[], cat_emb_dim=1, n_independent=2, n_shared=2, epsilon=1e-15, momentum=0.02, lambda_sparse=0.0001, seed=0, clip_value=1, verbose=1, optimizer_fn=<class 'torch.optim.adam.Adam'>, optimizer_params={'lr': 0.02}, scheduler_fn=None, scheduler_params={}, mask_type='sparsemax', input_dim=None, output_dim=None, device_name='auto')"
            ]
          },
          "metadata": {
            "tags": []
          },
          "execution_count": 75
        }
      ]
    },
    {
      "cell_type": "code",
      "metadata": {
        "id": "03fQBrx-09la"
      },
      "source": [
        "max_epochs = 1000 if not os.getenv(\"CI\", False) else 20"
      ],
      "execution_count": null,
      "outputs": []
    },
    {
      "cell_type": "code",
      "metadata": {
        "id": "BHIGhoVe1AtR",
        "colab": {
          "base_uri": "https://localhost:8080/"
        },
        "outputId": "ffba895d-ef2c-4f98-fdfc-7c64206f9e5d"
      },
      "source": [
        "clf.fit(X_train= X_train, y_train=y_train,\r\n",
        "        eval_set= [(X_train, y_train),(X_valid,y_valid)],\r\n",
        "        eval_name = ['train','valid'],\r\n",
        "        eval_metric = ['auc'],\r\n",
        "        max_epochs = max_epochs, patience = 15,\r\n",
        "        batch_size = 32768, virtual_batch_size = 4096,\r\n",
        "        num_workers = 1,\r\n",
        "        weights = 1,\r\n",
        "        drop_last = False)"
      ],
      "execution_count": null,
      "outputs": [
        {
          "output_type": "stream",
          "text": [
            "epoch 0  | loss: 1.64563 | train_auc: 0.5811  | valid_auc: 0.58049 |  0:00:14s\n",
            "epoch 1  | loss: 0.74731 | train_auc: 0.6467  | valid_auc: 0.64762 |  0:00:29s\n",
            "epoch 2  | loss: 0.65932 | train_auc: 0.66146 | valid_auc: 0.66054 |  0:00:44s\n",
            "epoch 3  | loss: 0.64614 | train_auc: 0.67303 | valid_auc: 0.67048 |  0:00:58s\n",
            "epoch 4  | loss: 0.64264 | train_auc: 0.6771  | valid_auc: 0.67393 |  0:01:13s\n",
            "epoch 5  | loss: 0.64023 | train_auc: 0.67756 | valid_auc: 0.67594 |  0:01:27s\n",
            "epoch 6  | loss: 0.63999 | train_auc: 0.68059 | valid_auc: 0.67945 |  0:01:42s\n",
            "epoch 7  | loss: 0.63942 | train_auc: 0.68177 | valid_auc: 0.68045 |  0:01:57s\n",
            "epoch 8  | loss: 0.63954 | train_auc: 0.68074 | valid_auc: 0.67965 |  0:02:12s\n",
            "epoch 9  | loss: 0.63946 | train_auc: 0.68215 | valid_auc: 0.67981 |  0:02:27s\n",
            "epoch 10 | loss: 0.63899 | train_auc: 0.68028 | valid_auc: 0.67905 |  0:02:41s\n",
            "epoch 11 | loss: 0.63933 | train_auc: 0.68363 | valid_auc: 0.6814  |  0:02:56s\n",
            "epoch 12 | loss: 0.63879 | train_auc: 0.6843  | valid_auc: 0.68216 |  0:03:11s\n",
            "epoch 13 | loss: 0.63646 | train_auc: 0.68621 | valid_auc: 0.68402 |  0:03:26s\n",
            "epoch 14 | loss: 0.6359  | train_auc: 0.68686 | valid_auc: 0.68531 |  0:03:40s\n",
            "epoch 15 | loss: 0.63574 | train_auc: 0.68679 | valid_auc: 0.68566 |  0:03:55s\n",
            "epoch 16 | loss: 0.63996 | train_auc: 0.68246 | valid_auc: 0.68144 |  0:04:10s\n",
            "epoch 17 | loss: 0.63971 | train_auc: 0.68376 | valid_auc: 0.68241 |  0:04:25s\n",
            "epoch 18 | loss: 0.63581 | train_auc: 0.68844 | valid_auc: 0.68566 |  0:04:39s\n",
            "epoch 19 | loss: 0.63495 | train_auc: 0.6886  | valid_auc: 0.68573 |  0:04:54s\n",
            "epoch 20 | loss: 0.63572 | train_auc: 0.68664 | valid_auc: 0.68331 |  0:05:09s\n",
            "epoch 21 | loss: 0.63395 | train_auc: 0.69043 | valid_auc: 0.68727 |  0:05:23s\n",
            "epoch 22 | loss: 0.63407 | train_auc: 0.69058 | valid_auc: 0.68634 |  0:05:38s\n",
            "epoch 23 | loss: 0.63424 | train_auc: 0.69102 | valid_auc: 0.68723 |  0:05:53s\n",
            "epoch 24 | loss: 0.63422 | train_auc: 0.69164 | valid_auc: 0.68684 |  0:06:08s\n",
            "epoch 25 | loss: 0.6338  | train_auc: 0.69354 | valid_auc: 0.68988 |  0:06:22s\n",
            "epoch 26 | loss: 0.63134 | train_auc: 0.69342 | valid_auc: 0.69042 |  0:06:37s\n",
            "epoch 27 | loss: 0.6317  | train_auc: 0.6931  | valid_auc: 0.68892 |  0:06:51s\n",
            "epoch 28 | loss: 0.63129 | train_auc: 0.69329 | valid_auc: 0.68887 |  0:07:06s\n",
            "epoch 29 | loss: 0.63048 | train_auc: 0.69446 | valid_auc: 0.69061 |  0:07:21s\n",
            "epoch 30 | loss: 0.62998 | train_auc: 0.69489 | valid_auc: 0.69145 |  0:07:35s\n",
            "epoch 31 | loss: 0.63106 | train_auc: 0.69348 | valid_auc: 0.68967 |  0:07:50s\n",
            "epoch 32 | loss: 0.63119 | train_auc: 0.6941  | valid_auc: 0.68922 |  0:08:05s\n",
            "epoch 33 | loss: 0.62998 | train_auc: 0.69584 | valid_auc: 0.6914  |  0:08:19s\n",
            "epoch 34 | loss: 0.63052 | train_auc: 0.69644 | valid_auc: 0.69185 |  0:08:34s\n",
            "epoch 35 | loss: 0.63024 | train_auc: 0.6951  | valid_auc: 0.6907  |  0:08:48s\n",
            "epoch 36 | loss: 0.62974 | train_auc: 0.69626 | valid_auc: 0.69152 |  0:09:03s\n",
            "epoch 37 | loss: 0.62952 | train_auc: 0.69702 | valid_auc: 0.69252 |  0:09:18s\n",
            "epoch 38 | loss: 0.62919 | train_auc: 0.69769 | valid_auc: 0.69344 |  0:09:32s\n",
            "epoch 39 | loss: 0.62987 | train_auc: 0.69661 | valid_auc: 0.69201 |  0:09:47s\n",
            "epoch 40 | loss: 0.62977 | train_auc: 0.69688 | valid_auc: 0.6927  |  0:10:02s\n",
            "epoch 41 | loss: 0.62833 | train_auc: 0.69702 | valid_auc: 0.69224 |  0:10:17s\n",
            "epoch 42 | loss: 0.62819 | train_auc: 0.69843 | valid_auc: 0.69329 |  0:10:31s\n",
            "epoch 43 | loss: 0.62725 | train_auc: 0.69902 | valid_auc: 0.69442 |  0:10:46s\n",
            "epoch 44 | loss: 0.62686 | train_auc: 0.6996  | valid_auc: 0.69468 |  0:11:00s\n",
            "epoch 45 | loss: 0.62704 | train_auc: 0.69805 | valid_auc: 0.69331 |  0:11:15s\n",
            "epoch 46 | loss: 0.62854 | train_auc: 0.69798 | valid_auc: 0.69284 |  0:11:30s\n",
            "epoch 47 | loss: 0.62805 | train_auc: 0.70039 | valid_auc: 0.69465 |  0:11:44s\n",
            "epoch 48 | loss: 0.62779 | train_auc: 0.69872 | valid_auc: 0.6926  |  0:11:59s\n",
            "epoch 49 | loss: 0.62755 | train_auc: 0.69978 | valid_auc: 0.69432 |  0:12:13s\n",
            "epoch 50 | loss: 0.62662 | train_auc: 0.69995 | valid_auc: 0.69426 |  0:12:28s\n",
            "epoch 51 | loss: 0.62695 | train_auc: 0.70105 | valid_auc: 0.69507 |  0:12:43s\n",
            "epoch 52 | loss: 0.62647 | train_auc: 0.70085 | valid_auc: 0.69468 |  0:12:57s\n",
            "epoch 53 | loss: 0.62685 | train_auc: 0.70077 | valid_auc: 0.69531 |  0:13:12s\n",
            "epoch 54 | loss: 0.62638 | train_auc: 0.70154 | valid_auc: 0.69579 |  0:13:27s\n",
            "epoch 55 | loss: 0.62686 | train_auc: 0.70221 | valid_auc: 0.69578 |  0:13:41s\n",
            "epoch 56 | loss: 0.62642 | train_auc: 0.70139 | valid_auc: 0.69626 |  0:13:56s\n",
            "epoch 57 | loss: 0.62574 | train_auc: 0.70198 | valid_auc: 0.69627 |  0:14:11s\n",
            "epoch 58 | loss: 0.62651 | train_auc: 0.70277 | valid_auc: 0.69701 |  0:14:25s\n",
            "epoch 59 | loss: 0.62408 | train_auc: 0.70241 | valid_auc: 0.69631 |  0:14:40s\n",
            "epoch 60 | loss: 0.62572 | train_auc: 0.70335 | valid_auc: 0.69692 |  0:14:55s\n",
            "epoch 61 | loss: 0.62547 | train_auc: 0.70349 | valid_auc: 0.69751 |  0:15:09s\n",
            "epoch 62 | loss: 0.62437 | train_auc: 0.70417 | valid_auc: 0.69806 |  0:15:24s\n",
            "epoch 63 | loss: 0.62432 | train_auc: 0.70327 | valid_auc: 0.6959  |  0:15:39s\n",
            "epoch 64 | loss: 0.62483 | train_auc: 0.70425 | valid_auc: 0.69649 |  0:15:53s\n",
            "epoch 65 | loss: 0.62395 | train_auc: 0.70488 | valid_auc: 0.69803 |  0:16:08s\n",
            "epoch 66 | loss: 0.62365 | train_auc: 0.70342 | valid_auc: 0.69718 |  0:16:23s\n",
            "epoch 67 | loss: 0.6239  | train_auc: 0.70171 | valid_auc: 0.69548 |  0:16:37s\n",
            "epoch 68 | loss: 0.62575 | train_auc: 0.70247 | valid_auc: 0.69595 |  0:16:52s\n",
            "epoch 69 | loss: 0.62549 | train_auc: 0.70429 | valid_auc: 0.69647 |  0:17:06s\n",
            "epoch 70 | loss: 0.62423 | train_auc: 0.70518 | valid_auc: 0.69795 |  0:17:21s\n",
            "epoch 71 | loss: 0.62296 | train_auc: 0.70673 | valid_auc: 0.69938 |  0:17:36s\n",
            "epoch 72 | loss: 0.62299 | train_auc: 0.70552 | valid_auc: 0.6979  |  0:17:50s\n",
            "epoch 73 | loss: 0.62276 | train_auc: 0.70608 | valid_auc: 0.69969 |  0:18:05s\n",
            "epoch 74 | loss: 0.62188 | train_auc: 0.70615 | valid_auc: 0.6986  |  0:18:20s\n",
            "epoch 75 | loss: 0.62189 | train_auc: 0.70694 | valid_auc: 0.69936 |  0:18:34s\n",
            "epoch 76 | loss: 0.62028 | train_auc: 0.70751 | valid_auc: 0.69992 |  0:18:49s\n",
            "epoch 77 | loss: 0.62295 | train_auc: 0.70649 | valid_auc: 0.69606 |  0:19:04s\n",
            "epoch 78 | loss: 0.62367 | train_auc: 0.70457 | valid_auc: 0.69682 |  0:19:18s\n",
            "epoch 79 | loss: 0.62635 | train_auc: 0.70185 | valid_auc: 0.69576 |  0:19:33s\n",
            "epoch 80 | loss: 0.62597 | train_auc: 0.7027  | valid_auc: 0.697   |  0:19:48s\n",
            "epoch 81 | loss: 0.62567 | train_auc: 0.7024  | valid_auc: 0.69555 |  0:20:03s\n",
            "epoch 82 | loss: 0.62568 | train_auc: 0.70321 | valid_auc: 0.69659 |  0:20:17s\n",
            "epoch 83 | loss: 0.62419 | train_auc: 0.70477 | valid_auc: 0.6977  |  0:20:32s\n",
            "epoch 84 | loss: 0.625   | train_auc: 0.70423 | valid_auc: 0.69821 |  0:20:46s\n",
            "epoch 85 | loss: 0.62414 | train_auc: 0.70567 | valid_auc: 0.69772 |  0:21:01s\n",
            "epoch 86 | loss: 0.62305 | train_auc: 0.70666 | valid_auc: 0.69897 |  0:21:16s\n",
            "epoch 87 | loss: 0.62267 | train_auc: 0.70715 | valid_auc: 0.69982 |  0:21:30s\n",
            "epoch 88 | loss: 0.62229 | train_auc: 0.70696 | valid_auc: 0.69968 |  0:21:45s\n",
            "epoch 89 | loss: 0.62132 | train_auc: 0.70748 | valid_auc: 0.69928 |  0:21:59s\n",
            "epoch 90 | loss: 0.62236 | train_auc: 0.70829 | valid_auc: 0.70004 |  0:22:14s\n",
            "epoch 91 | loss: 0.6208  | train_auc: 0.7097  | valid_auc: 0.70116 |  0:22:29s\n",
            "epoch 92 | loss: 0.61992 | train_auc: 0.71042 | valid_auc: 0.70095 |  0:22:43s\n",
            "epoch 93 | loss: 0.62106 | train_auc: 0.70546 | valid_auc: 0.69812 |  0:22:58s\n",
            "epoch 94 | loss: 0.62195 | train_auc: 0.70828 | valid_auc: 0.69988 |  0:23:12s\n",
            "epoch 95 | loss: 0.62097 | train_auc: 0.70967 | valid_auc: 0.69901 |  0:23:27s\n",
            "epoch 96 | loss: 0.6197  | train_auc: 0.71093 | valid_auc: 0.70179 |  0:23:42s\n",
            "epoch 97 | loss: 0.61919 | train_auc: 0.71125 | valid_auc: 0.70148 |  0:23:56s\n",
            "epoch 98 | loss: 0.61903 | train_auc: 0.71335 | valid_auc: 0.703   |  0:24:11s\n",
            "epoch 99 | loss: 0.6177  | train_auc: 0.71287 | valid_auc: 0.70242 |  0:24:25s\n",
            "epoch 100| loss: 0.61746 | train_auc: 0.71222 | valid_auc: 0.70088 |  0:24:40s\n",
            "epoch 101| loss: 0.61845 | train_auc: 0.71257 | valid_auc: 0.70188 |  0:24:55s\n",
            "epoch 102| loss: 0.6201  | train_auc: 0.71321 | valid_auc: 0.70352 |  0:25:09s\n",
            "epoch 103| loss: 0.61837 | train_auc: 0.71417 | valid_auc: 0.70317 |  0:25:24s\n",
            "epoch 104| loss: 0.61605 | train_auc: 0.71381 | valid_auc: 0.70296 |  0:25:38s\n",
            "epoch 105| loss: 0.61605 | train_auc: 0.71565 | valid_auc: 0.70506 |  0:25:53s\n",
            "epoch 106| loss: 0.61428 | train_auc: 0.71574 | valid_auc: 0.70379 |  0:26:07s\n",
            "epoch 107| loss: 0.61452 | train_auc: 0.71564 | valid_auc: 0.70502 |  0:26:22s\n",
            "epoch 108| loss: 0.61377 | train_auc: 0.71854 | valid_auc: 0.70613 |  0:26:37s\n",
            "epoch 109| loss: 0.61282 | train_auc: 0.71709 | valid_auc: 0.70597 |  0:26:51s\n",
            "epoch 110| loss: 0.61491 | train_auc: 0.71906 | valid_auc: 0.70619 |  0:27:06s\n",
            "epoch 111| loss: 0.61297 | train_auc: 0.71955 | valid_auc: 0.70664 |  0:27:20s\n",
            "epoch 112| loss: 0.61363 | train_auc: 0.71915 | valid_auc: 0.70657 |  0:27:35s\n",
            "epoch 113| loss: 0.61255 | train_auc: 0.71785 | valid_auc: 0.70627 |  0:27:50s\n",
            "epoch 114| loss: 0.6112  | train_auc: 0.72043 | valid_auc: 0.70435 |  0:28:04s\n",
            "epoch 115| loss: 0.61161 | train_auc: 0.72163 | valid_auc: 0.70814 |  0:28:19s\n",
            "epoch 116| loss: 0.61081 | train_auc: 0.72298 | valid_auc: 0.70771 |  0:28:33s\n",
            "epoch 117| loss: 0.61041 | train_auc: 0.72199 | valid_auc: 0.70894 |  0:28:48s\n",
            "epoch 118| loss: 0.61112 | train_auc: 0.72164 | valid_auc: 0.70586 |  0:29:02s\n",
            "epoch 119| loss: 0.61225 | train_auc: 0.71616 | valid_auc: 0.70211 |  0:29:17s\n",
            "epoch 120| loss: 0.61369 | train_auc: 0.72167 | valid_auc: 0.70884 |  0:29:31s\n",
            "epoch 121| loss: 0.61098 | train_auc: 0.7246  | valid_auc: 0.71013 |  0:29:46s\n",
            "epoch 122| loss: 0.60911 | train_auc: 0.72123 | valid_auc: 0.70604 |  0:30:00s\n",
            "epoch 123| loss: 0.60962 | train_auc: 0.72472 | valid_auc: 0.70822 |  0:30:15s\n",
            "epoch 124| loss: 0.60942 | train_auc: 0.7186  | valid_auc: 0.70487 |  0:30:30s\n",
            "epoch 125| loss: 0.61125 | train_auc: 0.72345 | valid_auc: 0.70789 |  0:30:44s\n",
            "epoch 126| loss: 0.61044 | train_auc: 0.72422 | valid_auc: 0.70986 |  0:30:59s\n",
            "epoch 127| loss: 0.60764 | train_auc: 0.72732 | valid_auc: 0.71065 |  0:31:13s\n",
            "epoch 128| loss: 0.60503 | train_auc: 0.72811 | valid_auc: 0.71063 |  0:31:28s\n",
            "epoch 129| loss: 0.60588 | train_auc: 0.72807 | valid_auc: 0.71178 |  0:31:43s\n",
            "epoch 130| loss: 0.60774 | train_auc: 0.72536 | valid_auc: 0.70858 |  0:31:57s\n",
            "epoch 131| loss: 0.60945 | train_auc: 0.72519 | valid_auc: 0.70948 |  0:32:12s\n",
            "epoch 132| loss: 0.6127  | train_auc: 0.72216 | valid_auc: 0.70577 |  0:32:26s\n",
            "epoch 133| loss: 0.60994 | train_auc: 0.72419 | valid_auc: 0.70932 |  0:32:41s\n",
            "epoch 134| loss: 0.60808 | train_auc: 0.72732 | valid_auc: 0.71139 |  0:32:56s\n",
            "epoch 135| loss: 0.60622 | train_auc: 0.72843 | valid_auc: 0.71082 |  0:33:10s\n",
            "epoch 136| loss: 0.60711 | train_auc: 0.72955 | valid_auc: 0.71237 |  0:33:25s\n",
            "epoch 137| loss: 0.60606 | train_auc: 0.72883 | valid_auc: 0.71085 |  0:33:39s\n",
            "epoch 138| loss: 0.6097  | train_auc: 0.68827 | valid_auc: 0.68099 |  0:33:54s\n",
            "epoch 139| loss: 0.63155 | train_auc: 0.69718 | valid_auc: 0.69179 |  0:34:09s\n",
            "epoch 140| loss: 0.62697 | train_auc: 0.70398 | valid_auc: 0.69839 |  0:34:23s\n",
            "epoch 141| loss: 0.62117 | train_auc: 0.71033 | valid_auc: 0.70304 |  0:34:38s\n",
            "epoch 142| loss: 0.61842 | train_auc: 0.71286 | valid_auc: 0.70348 |  0:34:52s\n",
            "epoch 143| loss: 0.61585 | train_auc: 0.71526 | valid_auc: 0.70459 |  0:35:07s\n",
            "epoch 144| loss: 0.61583 | train_auc: 0.7168  | valid_auc: 0.70449 |  0:35:22s\n",
            "epoch 145| loss: 0.61331 | train_auc: 0.71836 | valid_auc: 0.70608 |  0:35:36s\n",
            "epoch 146| loss: 0.61164 | train_auc: 0.72105 | valid_auc: 0.70843 |  0:35:51s\n",
            "epoch 147| loss: 0.61086 | train_auc: 0.72286 | valid_auc: 0.70856 |  0:36:05s\n",
            "epoch 148| loss: 0.60872 | train_auc: 0.72428 | valid_auc: 0.71031 |  0:36:20s\n",
            "epoch 149| loss: 0.60732 | train_auc: 0.72557 | valid_auc: 0.71102 |  0:36:35s\n",
            "epoch 150| loss: 0.60625 | train_auc: 0.72735 | valid_auc: 0.71127 |  0:36:49s\n",
            "epoch 151| loss: 0.60538 | train_auc: 0.72931 | valid_auc: 0.71348 |  0:37:04s\n",
            "epoch 152| loss: 0.60502 | train_auc: 0.72975 | valid_auc: 0.71451 |  0:37:18s\n",
            "epoch 153| loss: 0.60386 | train_auc: 0.72946 | valid_auc: 0.71277 |  0:37:33s\n",
            "epoch 154| loss: 0.6035  | train_auc: 0.73037 | valid_auc: 0.71218 |  0:37:48s\n",
            "epoch 155| loss: 0.60345 | train_auc: 0.73306 | valid_auc: 0.71422 |  0:38:02s\n",
            "epoch 156| loss: 0.60055 | train_auc: 0.73493 | valid_auc: 0.71533 |  0:38:17s\n",
            "epoch 157| loss: 0.59997 | train_auc: 0.73189 | valid_auc: 0.71154 |  0:38:31s\n",
            "epoch 158| loss: 0.59814 | train_auc: 0.73586 | valid_auc: 0.71603 |  0:38:46s\n",
            "epoch 159| loss: 0.59891 | train_auc: 0.73809 | valid_auc: 0.71602 |  0:39:00s\n",
            "epoch 160| loss: 0.59901 | train_auc: 0.73917 | valid_auc: 0.71942 |  0:39:15s\n",
            "epoch 161| loss: 0.5933  | train_auc: 0.7419  | valid_auc: 0.71911 |  0:39:30s\n",
            "epoch 162| loss: 0.59243 | train_auc: 0.74106 | valid_auc: 0.71863 |  0:39:44s\n",
            "epoch 163| loss: 0.59221 | train_auc: 0.74345 | valid_auc: 0.7199  |  0:39:59s\n",
            "epoch 164| loss: 0.58981 | train_auc: 0.74424 | valid_auc: 0.72154 |  0:40:13s\n",
            "epoch 165| loss: 0.59138 | train_auc: 0.74929 | valid_auc: 0.72397 |  0:40:28s\n",
            "epoch 166| loss: 0.5899  | train_auc: 0.74751 | valid_auc: 0.72232 |  0:40:42s\n",
            "epoch 167| loss: 0.58611 | train_auc: 0.7489  | valid_auc: 0.72257 |  0:40:57s\n",
            "epoch 168| loss: 0.58497 | train_auc: 0.75104 | valid_auc: 0.72461 |  0:41:11s\n",
            "epoch 169| loss: 0.5835  | train_auc: 0.75946 | valid_auc: 0.73173 |  0:41:26s\n",
            "epoch 170| loss: 0.58607 | train_auc: 0.75164 | valid_auc: 0.72633 |  0:41:41s\n",
            "epoch 171| loss: 0.58157 | train_auc: 0.75847 | valid_auc: 0.72913 |  0:41:55s\n",
            "epoch 172| loss: 0.57839 | train_auc: 0.75136 | valid_auc: 0.72314 |  0:42:10s\n",
            "epoch 173| loss: 0.58055 | train_auc: 0.75882 | valid_auc: 0.7303  |  0:42:24s\n",
            "epoch 174| loss: 0.57614 | train_auc: 0.7607  | valid_auc: 0.72967 |  0:42:39s\n",
            "epoch 175| loss: 0.57318 | train_auc: 0.76627 | valid_auc: 0.73546 |  0:42:54s\n",
            "epoch 176| loss: 0.57357 | train_auc: 0.7669  | valid_auc: 0.73479 |  0:43:08s\n",
            "epoch 177| loss: 0.56893 | train_auc: 0.76575 | valid_auc: 0.73142 |  0:43:23s\n",
            "epoch 178| loss: 0.57066 | train_auc: 0.7711  | valid_auc: 0.73655 |  0:43:37s\n",
            "epoch 179| loss: 0.56581 | train_auc: 0.7725  | valid_auc: 0.74094 |  0:43:52s\n",
            "epoch 180| loss: 0.56445 | train_auc: 0.76382 | valid_auc: 0.72926 |  0:44:06s\n",
            "epoch 181| loss: 0.56589 | train_auc: 0.76636 | valid_auc: 0.73376 |  0:44:21s\n",
            "epoch 182| loss: 0.57229 | train_auc: 0.76493 | valid_auc: 0.73273 |  0:44:36s\n",
            "epoch 183| loss: 0.56698 | train_auc: 0.77435 | valid_auc: 0.73725 |  0:44:50s\n",
            "epoch 184| loss: 0.56183 | train_auc: 0.77411 | valid_auc: 0.73889 |  0:45:05s\n",
            "epoch 185| loss: 0.55828 | train_auc: 0.78077 | valid_auc: 0.74304 |  0:45:19s\n",
            "epoch 186| loss: 0.55817 | train_auc: 0.78334 | valid_auc: 0.74431 |  0:45:34s\n",
            "epoch 187| loss: 0.55515 | train_auc: 0.78851 | valid_auc: 0.75028 |  0:45:49s\n",
            "epoch 188| loss: 0.54827 | train_auc: 0.7854  | valid_auc: 0.74627 |  0:46:03s\n",
            "epoch 189| loss: 0.54844 | train_auc: 0.78126 | valid_auc: 0.74357 |  0:46:18s\n",
            "epoch 190| loss: 0.54671 | train_auc: 0.79283 | valid_auc: 0.75075 |  0:46:32s\n",
            "epoch 191| loss: 0.54726 | train_auc: 0.79724 | valid_auc: 0.75333 |  0:46:47s\n",
            "epoch 192| loss: 0.54454 | train_auc: 0.79417 | valid_auc: 0.75095 |  0:47:01s\n",
            "epoch 193| loss: 0.53954 | train_auc: 0.79659 | valid_auc: 0.75254 |  0:47:16s\n",
            "epoch 194| loss: 0.53691 | train_auc: 0.79744 | valid_auc: 0.75548 |  0:47:31s\n",
            "epoch 195| loss: 0.53555 | train_auc: 0.79813 | valid_auc: 0.75467 |  0:47:45s\n",
            "epoch 196| loss: 0.53409 | train_auc: 0.80416 | valid_auc: 0.76119 |  0:48:00s\n",
            "epoch 197| loss: 0.53649 | train_auc: 0.80542 | valid_auc: 0.76003 |  0:48:14s\n",
            "epoch 198| loss: 0.53256 | train_auc: 0.80154 | valid_auc: 0.75373 |  0:48:29s\n",
            "epoch 199| loss: 0.52978 | train_auc: 0.81081 | valid_auc: 0.76256 |  0:48:43s\n",
            "epoch 200| loss: 0.53094 | train_auc: 0.78592 | valid_auc: 0.74404 |  0:48:58s\n",
            "epoch 201| loss: 0.55125 | train_auc: 0.79418 | valid_auc: 0.75349 |  0:49:12s\n",
            "epoch 202| loss: 0.54341 | train_auc: 0.79805 | valid_auc: 0.75724 |  0:49:27s\n",
            "epoch 203| loss: 0.53295 | train_auc: 0.81237 | valid_auc: 0.76374 |  0:49:42s\n",
            "epoch 204| loss: 0.52257 | train_auc: 0.81262 | valid_auc: 0.76544 |  0:49:56s\n",
            "epoch 205| loss: 0.52047 | train_auc: 0.8171  | valid_auc: 0.76724 |  0:50:11s\n",
            "epoch 206| loss: 0.52064 | train_auc: 0.81326 | valid_auc: 0.76567 |  0:50:25s\n",
            "epoch 207| loss: 0.51616 | train_auc: 0.8177  | valid_auc: 0.76919 |  0:50:40s\n",
            "epoch 208| loss: 0.50969 | train_auc: 0.82346 | valid_auc: 0.77401 |  0:50:55s\n",
            "epoch 209| loss: 0.5071  | train_auc: 0.82144 | valid_auc: 0.77033 |  0:51:09s\n",
            "epoch 210| loss: 0.51151 | train_auc: 0.81647 | valid_auc: 0.76909 |  0:51:24s\n",
            "epoch 211| loss: 0.5088  | train_auc: 0.82437 | valid_auc: 0.77563 |  0:51:38s\n",
            "epoch 212| loss: 0.5084  | train_auc: 0.82721 | valid_auc: 0.77547 |  0:51:53s\n",
            "epoch 213| loss: 0.51132 | train_auc: 0.81656 | valid_auc: 0.76725 |  0:52:08s\n",
            "epoch 214| loss: 0.50715 | train_auc: 0.82936 | valid_auc: 0.77703 |  0:52:22s\n",
            "epoch 215| loss: 0.50248 | train_auc: 0.83586 | valid_auc: 0.78029 |  0:52:37s\n",
            "epoch 216| loss: 0.48792 | train_auc: 0.82599 | valid_auc: 0.77374 |  0:52:51s\n",
            "epoch 217| loss: 0.49108 | train_auc: 0.83741 | valid_auc: 0.78517 |  0:53:06s\n",
            "epoch 218| loss: 0.48524 | train_auc: 0.83228 | valid_auc: 0.77899 |  0:53:20s\n",
            "epoch 219| loss: 0.48783 | train_auc: 0.83622 | valid_auc: 0.78435 |  0:53:35s\n",
            "epoch 220| loss: 0.47687 | train_auc: 0.84566 | valid_auc: 0.7895  |  0:53:50s\n",
            "epoch 221| loss: 0.47692 | train_auc: 0.84578 | valid_auc: 0.78956 |  0:54:04s\n",
            "epoch 222| loss: 0.47394 | train_auc: 0.84732 | valid_auc: 0.78967 |  0:54:19s\n",
            "epoch 223| loss: 0.4673  | train_auc: 0.86029 | valid_auc: 0.80041 |  0:54:33s\n",
            "epoch 224| loss: 0.46167 | train_auc: 0.86145 | valid_auc: 0.80132 |  0:54:48s\n",
            "epoch 225| loss: 0.45659 | train_auc: 0.86611 | valid_auc: 0.80895 |  0:55:03s\n",
            "epoch 226| loss: 0.45427 | train_auc: 0.86028 | valid_auc: 0.80069 |  0:55:17s\n",
            "epoch 227| loss: 0.46274 | train_auc: 0.85916 | valid_auc: 0.80114 |  0:55:32s\n",
            "epoch 228| loss: 0.46819 | train_auc: 0.85547 | valid_auc: 0.80014 |  0:55:46s\n",
            "epoch 229| loss: 0.46205 | train_auc: 0.86347 | valid_auc: 0.80313 |  0:56:01s\n",
            "epoch 230| loss: 0.44377 | train_auc: 0.87354 | valid_auc: 0.81207 |  0:56:16s\n",
            "epoch 231| loss: 0.43995 | train_auc: 0.86841 | valid_auc: 0.81025 |  0:56:30s\n",
            "epoch 232| loss: 0.4454  | train_auc: 0.87693 | valid_auc: 0.81338 |  0:56:45s\n",
            "epoch 233| loss: 0.43704 | train_auc: 0.88113 | valid_auc: 0.82021 |  0:56:59s\n",
            "epoch 234| loss: 0.4315  | train_auc: 0.88211 | valid_auc: 0.82071 |  0:57:14s\n",
            "epoch 235| loss: 0.43429 | train_auc: 0.88183 | valid_auc: 0.81923 |  0:57:29s\n",
            "epoch 236| loss: 0.45035 | train_auc: 0.87723 | valid_auc: 0.8162  |  0:57:43s\n",
            "epoch 237| loss: 0.43823 | train_auc: 0.87409 | valid_auc: 0.81372 |  0:57:58s\n",
            "epoch 238| loss: 0.44249 | train_auc: 0.87958 | valid_auc: 0.81699 |  0:58:12s\n",
            "epoch 239| loss: 0.45353 | train_auc: 0.86558 | valid_auc: 0.80445 |  0:58:27s\n",
            "epoch 240| loss: 0.44365 | train_auc: 0.87462 | valid_auc: 0.81452 |  0:58:42s\n",
            "epoch 241| loss: 0.43059 | train_auc: 0.88849 | valid_auc: 0.82613 |  0:58:56s\n",
            "epoch 242| loss: 0.42047 | train_auc: 0.88116 | valid_auc: 0.81711 |  0:59:11s\n",
            "epoch 243| loss: 0.41672 | train_auc: 0.89387 | valid_auc: 0.8283  |  0:59:25s\n",
            "epoch 244| loss: 0.40756 | train_auc: 0.89911 | valid_auc: 0.83325 |  0:59:40s\n",
            "epoch 245| loss: 0.40903 | train_auc: 0.90021 | valid_auc: 0.83371 |  0:59:54s\n",
            "epoch 246| loss: 0.40048 | train_auc: 0.90198 | valid_auc: 0.83621 |  1:00:09s\n",
            "epoch 247| loss: 0.3881  | train_auc: 0.90003 | valid_auc: 0.83559 |  1:00:24s\n",
            "epoch 248| loss: 0.39471 | train_auc: 0.90822 | valid_auc: 0.84229 |  1:00:38s\n",
            "epoch 249| loss: 0.38492 | train_auc: 0.90856 | valid_auc: 0.84273 |  1:00:53s\n",
            "epoch 250| loss: 0.38316 | train_auc: 0.91027 | valid_auc: 0.84338 |  1:01:07s\n",
            "epoch 251| loss: 0.3822  | train_auc: 0.90945 | valid_auc: 0.84301 |  1:01:22s\n",
            "epoch 252| loss: 0.39172 | train_auc: 0.90854 | valid_auc: 0.84524 |  1:01:37s\n",
            "epoch 253| loss: 0.39045 | train_auc: 0.91304 | valid_auc: 0.84646 |  1:01:51s\n",
            "epoch 254| loss: 0.37941 | train_auc: 0.91396 | valid_auc: 0.84639 |  1:02:06s\n",
            "epoch 255| loss: 0.36926 | train_auc: 0.91231 | valid_auc: 0.84625 |  1:02:20s\n",
            "epoch 256| loss: 0.38043 | train_auc: 0.90823 | valid_auc: 0.84415 |  1:02:35s\n",
            "epoch 257| loss: 0.382   | train_auc: 0.90989 | valid_auc: 0.84151 |  1:02:50s\n",
            "epoch 258| loss: 0.37682 | train_auc: 0.91121 | valid_auc: 0.84488 |  1:03:04s\n",
            "epoch 259| loss: 0.37928 | train_auc: 0.91201 | valid_auc: 0.84473 |  1:03:19s\n",
            "epoch 260| loss: 0.36677 | train_auc: 0.91999 | valid_auc: 0.85352 |  1:03:33s\n",
            "epoch 261| loss: 0.37058 | train_auc: 0.91638 | valid_auc: 0.84977 |  1:03:48s\n",
            "epoch 262| loss: 0.36611 | train_auc: 0.92708 | valid_auc: 0.85937 |  1:04:02s\n",
            "epoch 263| loss: 0.3564  | train_auc: 0.92626 | valid_auc: 0.85881 |  1:04:17s\n",
            "epoch 264| loss: 0.36195 | train_auc: 0.91233 | valid_auc: 0.84555 |  1:04:32s\n",
            "epoch 265| loss: 0.36485 | train_auc: 0.91131 | valid_auc: 0.84807 |  1:04:46s\n",
            "epoch 266| loss: 0.36944 | train_auc: 0.91454 | valid_auc: 0.84701 |  1:05:01s\n",
            "epoch 267| loss: 0.36055 | train_auc: 0.92626 | valid_auc: 0.85812 |  1:05:15s\n",
            "epoch 268| loss: 0.3348  | train_auc: 0.93499 | valid_auc: 0.86619 |  1:05:30s\n",
            "epoch 269| loss: 0.33927 | train_auc: 0.9311  | valid_auc: 0.8622  |  1:05:45s\n",
            "epoch 270| loss: 0.33087 | train_auc: 0.93521 | valid_auc: 0.86702 |  1:05:59s\n",
            "epoch 271| loss: 0.33554 | train_auc: 0.9316  | valid_auc: 0.86178 |  1:06:14s\n",
            "epoch 272| loss: 0.3457  | train_auc: 0.92835 | valid_auc: 0.86058 |  1:06:28s\n",
            "epoch 273| loss: 0.3364  | train_auc: 0.9359  | valid_auc: 0.86688 |  1:06:43s\n",
            "epoch 274| loss: 0.33122 | train_auc: 0.92808 | valid_auc: 0.85937 |  1:06:58s\n",
            "epoch 275| loss: 0.33819 | train_auc: 0.93941 | valid_auc: 0.86982 |  1:07:12s\n",
            "epoch 276| loss: 0.33221 | train_auc: 0.9298  | valid_auc: 0.86135 |  1:07:27s\n",
            "epoch 277| loss: 0.3361  | train_auc: 0.93006 | valid_auc: 0.8615  |  1:07:41s\n",
            "epoch 278| loss: 0.32928 | train_auc: 0.9371  | valid_auc: 0.86624 |  1:07:56s\n",
            "epoch 279| loss: 0.33169 | train_auc: 0.93607 | valid_auc: 0.86802 |  1:08:11s\n",
            "epoch 280| loss: 0.33939 | train_auc: 0.93872 | valid_auc: 0.86976 |  1:08:25s\n",
            "epoch 281| loss: 0.32373 | train_auc: 0.94081 | valid_auc: 0.87354 |  1:08:40s\n",
            "epoch 282| loss: 0.32903 | train_auc: 0.94658 | valid_auc: 0.8763  |  1:08:54s\n",
            "epoch 283| loss: 0.31961 | train_auc: 0.93861 | valid_auc: 0.87096 |  1:09:09s\n",
            "epoch 284| loss: 0.30644 | train_auc: 0.94345 | valid_auc: 0.87539 |  1:09:23s\n",
            "epoch 285| loss: 0.30697 | train_auc: 0.94637 | valid_auc: 0.87602 |  1:09:38s\n",
            "epoch 286| loss: 0.30148 | train_auc: 0.9485  | valid_auc: 0.87768 |  1:09:52s\n",
            "epoch 287| loss: 0.3017  | train_auc: 0.94001 | valid_auc: 0.87153 |  1:10:07s\n",
            "epoch 288| loss: 0.31089 | train_auc: 0.94379 | valid_auc: 0.87429 |  1:10:22s\n",
            "epoch 289| loss: 0.30742 | train_auc: 0.93812 | valid_auc: 0.87023 |  1:10:36s\n",
            "epoch 290| loss: 0.30163 | train_auc: 0.94702 | valid_auc: 0.87879 |  1:10:51s\n",
            "epoch 291| loss: 0.29482 | train_auc: 0.94994 | valid_auc: 0.88021 |  1:11:05s\n",
            "epoch 292| loss: 0.29774 | train_auc: 0.95077 | valid_auc: 0.88295 |  1:11:20s\n",
            "epoch 293| loss: 0.28369 | train_auc: 0.95683 | valid_auc: 0.88704 |  1:11:34s\n",
            "epoch 294| loss: 0.29301 | train_auc: 0.94496 | valid_auc: 0.87517 |  1:11:49s\n",
            "epoch 295| loss: 0.31122 | train_auc: 0.94181 | valid_auc: 0.87498 |  1:12:04s\n",
            "epoch 296| loss: 0.32116 | train_auc: 0.94206 | valid_auc: 0.8751  |  1:12:18s\n",
            "epoch 297| loss: 0.31098 | train_auc: 0.9447  | valid_auc: 0.87583 |  1:12:33s\n",
            "epoch 298| loss: 0.29008 | train_auc: 0.94594 | valid_auc: 0.87716 |  1:12:48s\n",
            "epoch 299| loss: 0.29408 | train_auc: 0.94958 | valid_auc: 0.87978 |  1:13:02s\n",
            "epoch 300| loss: 0.28196 | train_auc: 0.96098 | valid_auc: 0.8911  |  1:13:17s\n",
            "epoch 301| loss: 0.29145 | train_auc: 0.94634 | valid_auc: 0.87723 |  1:13:31s\n",
            "epoch 302| loss: 0.29574 | train_auc: 0.95347 | valid_auc: 0.88348 |  1:13:46s\n",
            "epoch 303| loss: 0.35826 | train_auc: 0.94691 | valid_auc: 0.87643 |  1:14:01s\n",
            "epoch 304| loss: 0.34174 | train_auc: 0.94462 | valid_auc: 0.87471 |  1:14:15s\n",
            "epoch 305| loss: 0.33955 | train_auc: 0.94895 | valid_auc: 0.8793  |  1:14:30s\n",
            "epoch 306| loss: 0.29478 | train_auc: 0.95433 | valid_auc: 0.88614 |  1:14:44s\n",
            "epoch 307| loss: 0.26939 | train_auc: 0.9565  | valid_auc: 0.88773 |  1:14:59s\n",
            "epoch 308| loss: 0.27554 | train_auc: 0.95767 | valid_auc: 0.88768 |  1:15:14s\n",
            "epoch 309| loss: 0.28631 | train_auc: 0.94402 | valid_auc: 0.87652 |  1:15:28s\n",
            "epoch 310| loss: 0.29788 | train_auc: 0.94633 | valid_auc: 0.8768  |  1:15:43s\n",
            "epoch 311| loss: 0.28102 | train_auc: 0.9522  | valid_auc: 0.88417 |  1:15:57s\n",
            "epoch 312| loss: 0.29351 | train_auc: 0.94991 | valid_auc: 0.88085 |  1:16:12s\n",
            "epoch 313| loss: 0.30439 | train_auc: 0.95192 | valid_auc: 0.88213 |  1:16:27s\n",
            "epoch 314| loss: 0.30688 | train_auc: 0.94977 | valid_auc: 0.88152 |  1:16:41s\n",
            "epoch 315| loss: 0.2887  | train_auc: 0.95756 | valid_auc: 0.88819 |  1:16:56s\n",
            "\n",
            "Early stopping occured at epoch 315 with best_epoch = 300 and best_valid_auc = 0.8911\n",
            "Best weights from best epoch are automatically used!\n"
          ],
          "name": "stdout"
        }
      ]
    },
    {
      "cell_type": "code",
      "metadata": {
        "colab": {
          "base_uri": "https://localhost:8080/",
          "height": 283
        },
        "id": "EzC37B1t1HFK",
        "outputId": "3ca7f950-c9cc-4e09-a057-a2e417ce6569"
      },
      "source": [
        "#plot losses\r\n",
        "plt.plot(clf.history['loss'])"
      ],
      "execution_count": null,
      "outputs": [
        {
          "output_type": "execute_result",
          "data": {
            "text/plain": [
              "[<matplotlib.lines.Line2D at 0x7fe710e7afd0>]"
            ]
          },
          "metadata": {
            "tags": []
          },
          "execution_count": 78
        },
        {
          "output_type": "display_data",
          "data": {
            "image/png": "[encoded data removed]",
            "text/plain": [
              "<Figure size 432x288 with 1 Axes>"
            ]
          },
          "metadata": {
            "tags": [],
            "needs_background": "light"
          }
        }
      ]
    },
    {
      "cell_type": "code",
      "metadata": {
        "colab": {
          "base_uri": "https://localhost:8080/",
          "height": 283
        },
        "id": "xNMXUEM51Jmt",
        "outputId": "e0255c9d-31dc-4b1b-c1e8-136853f51afd"
      },
      "source": [
        "# plot auc\r\n",
        "plt.plot(clf.history['train_auc'])\r\n",
        "plt.plot(clf.history['valid_auc'])"
      ],
      "execution_count": null,
      "outputs": [
        {
          "output_type": "execute_result",
          "data": {
            "text/plain": [
              "[<matplotlib.lines.Line2D at 0x7fe710e59128>]"
            ]
          },
          "metadata": {
            "tags": []
          },
          "execution_count": 79
        },
        {
          "output_type": "display_data",
          "data": {
            "image/png": "[encoded data removed]",
            "text/plain": [
              "<Figure size 432x288 with 1 Axes>"
            ]
          },
          "metadata": {
            "tags": [],
            "needs_background": "light"
          }
        }
      ]
    },
    {
      "cell_type": "markdown",
      "metadata": {
        "id": "FFxVZDCy1Z1Z"
      },
      "source": [
        "**Predicciones**"
      ]
    },
    {
      "cell_type": "code",
      "metadata": {
        "colab": {
          "base_uri": "https://localhost:8080/"
        },
        "id": "_A4v5pJynqCN",
        "outputId": "4e630cca-fd9e-444f-e083-6da52e627d80"
      },
      "source": [
        "preds_train = clf.predict_proba(X_train)\r\n",
        "train_auc = roc_auc_score(y_score=preds_train[:,1], y_true = y_train)\r\n",
        "print(f\"Final train score for : {train_auc}\")"
      ],
      "execution_count": null,
      "outputs": [
        {
          "output_type": "stream",
          "text": [
            "Final train score for : 0.9609754715627055\n"
          ],
          "name": "stdout"
        }
      ]
    },
    {
      "cell_type": "code",
      "metadata": {
        "colab": {
          "base_uri": "https://localhost:8080/"
        },
        "id": "o0EqYP3s1cG9",
        "outputId": "1b95d81d-112d-4b74-c4a4-8fde89b1ecee"
      },
      "source": [
        "preds_valid = clf.predict_proba(X_valid)\r\n",
        "valid_auc = roc_auc_score(y_score=preds_valid[:,1], y_true=y_valid)\r\n",
        "print (f\"Best valid score for: {clf.best_cost}\")\r\n",
        "print(f\"Final valid score for : {clf.history['valid_auc'][-1]}\")\r\n"
      ],
      "execution_count": null,
      "outputs": [
        {
          "output_type": "stream",
          "text": [
            "Best valid score for: 0.8910963391891717\n",
            "Final valid score for : 0.8881893002798661\n"
          ],
          "name": "stdout"
        }
      ]
    },
    {
      "cell_type": "code",
      "metadata": {
        "colab": {
          "base_uri": "https://localhost:8080/"
        },
        "id": "SC5oI4p01KTC",
        "outputId": "fcb980e3-870a-4e0f-f22c-2d0e5cc6d090"
      },
      "source": [
        "preds_test = clf.predict_proba(X_test)\r\n",
        "test_auc = roc_auc_score(y_score=preds_test[:,1], y_true = y_test)\r\n",
        "print(f\"Final test score for: {test_auc}\")"
      ],
      "execution_count": null,
      "outputs": [
        {
          "output_type": "stream",
          "text": [
            "Final test score for: 0.8895379120236444\n"
          ],
          "name": "stdout"
        }
      ]
    },
    {
      "cell_type": "markdown",
      "metadata": {
        "id": "1110f_jb1fpx"
      },
      "source": [
        "**Matriz de confusión sobre el dataset de dev y testing**"
      ]
    },
    {
      "cell_type": "code",
      "metadata": {
        "id": "rY1Mzx9K0zsK"
      },
      "source": [
        "#ROC CURVE\r\n",
        "def curva_f1(y_true, y_pred):\r\n",
        "    # calculate roc curves\r\n",
        "    precision, recall, thresholds = precision_recall_curve(y_true, y_pred)\r\n",
        "    # convert to f score\r\n",
        "    fscore = (2 * precision * recall) / (precision + recall)\r\n",
        "    # locate the index of the largest f score\r\n",
        "    ix = np.argmax(fscore)\r\n",
        "    print('Best Threshold=%f, F-Score=%.3f' % (thresholds[ix], fscore[ix]))\r\n",
        "    # plot the roc curve for the model\r\n",
        "    no_skill = len(y_true[y_true==1]) / len(y_true)\r\n",
        "    plt.plot([0,1], [no_skill,no_skill], linestyle='--', label='No Skill')\r\n",
        "    plt.plot(recall, precision, marker='.', label='ANN')\r\n",
        "    plt.scatter(recall[ix], precision[ix], marker='o', color='black', label='Best')\r\n",
        "    # axis labels\r\n",
        "    plt.xlabel('Recall')\r\n",
        "    plt.ylabel('Precision')\r\n",
        "    plt.legend()\r\n",
        "    plt.show()"
      ],
      "execution_count": null,
      "outputs": []
    },
    {
      "cell_type": "code",
      "metadata": {
        "colab": {
          "base_uri": "https://localhost:8080/",
          "height": 297
        },
        "id": "6tWUMvRZ03Zm",
        "outputId": "40090b06-d4fe-440d-b2f7-219ae9f0f32d"
      },
      "source": [
        "curva_f1(y_true=y_test,y_pred=preds_test[:,1])"
      ],
      "execution_count": null,
      "outputs": [
        {
          "output_type": "stream",
          "text": [
            "Best Threshold=0.515555, F-Score=0.706\n"
          ],
          "name": "stdout"
        },
        {
          "output_type": "display_data",
          "data": {
            "image/png": "[encoded data removed]",
            "text/plain": [
              "<Figure size 432x288 with 1 Axes>"
            ]
          },
          "metadata": {
            "tags": [],
            "needs_background": "light"
          }
        }
      ]
    },
    {
      "cell_type": "code",
      "metadata": {
        "colab": {
          "base_uri": "https://localhost:8080/",
          "height": 342
        },
        "id": "82gntrqQmGqW",
        "outputId": "a19cefdb-c2ee-46c2-d7b9-a1c0d63105e7"
      },
      "source": [
        "from sklearn.metrics import confusion_matrix\r\n",
        "\r\n",
        "umbral = 0.515555\r\n",
        "y_pred_valid =  preds_valid[:,1]> umbral\r\n",
        "y_pred_test =  preds_test[:,1]> umbral\r\n",
        "y_pred_train =  preds_train[:,1]> umbral\r\n",
        "cf_matrix_valid = confusion_matrix(y_true=y_valid,y_pred=y_pred_valid)\r\n",
        "cf_matrix_test = confusion_matrix(y_true=y_test,y_pred=y_pred_test)\r\n",
        "cf_matrix_train = confusion_matrix(y_true=y_train,y_pred=y_pred_train)\r\n",
        "\r\n",
        "labels = ['TN','FP','FN','TP']\r\n",
        "categories = ['0', '1']\r\n",
        "make_confusion_matrix(cf_matrix_train, \r\n",
        "                      group_names=labels,\r\n",
        "                      label = \"Default\",\r\n",
        "                      categories=categories, \r\n",
        "                      cmap='Blues',\r\n",
        "                      title = \"Confusion Matrix Train\")"
      ],
      "execution_count": null,
      "outputs": [
        {
          "output_type": "display_data",
          "data": {
            "image/png": "[encoded data removed]",
            "text/plain": [
              "<Figure size 432x288 with 2 Axes>"
            ]
          },
          "metadata": {
            "tags": [],
            "needs_background": "light"
          }
        }
      ]
    },
    {
      "cell_type": "code",
      "metadata": {
        "colab": {
          "base_uri": "https://localhost:8080/",
          "height": 342
        },
        "id": "Y096xGaG1hhj",
        "outputId": "6f6cb098-b935-42f1-c289-e1b7d81458b2"
      },
      "source": [
        "\r\n",
        "umbral = 0.515555\r\n",
        "y_pred_valid =  preds_valid[:,1]> umbral\r\n",
        "y_pred_test =  preds_test[:,1]> umbral\r\n",
        "cf_matrix_valid = confusion_matrix(y_true=y_valid,y_pred=y_pred_valid)\r\n",
        "cf_matrix_test = confusion_matrix(y_true=y_test,y_pred=y_pred_test)\r\n",
        "\r\n",
        "labels = ['TN','FP','FN','TP']\r\n",
        "categories = ['0', '1']\r\n",
        "make_confusion_matrix(cf_matrix_valid, \r\n",
        "                      group_names=labels,\r\n",
        "                      label = \"Default\",\r\n",
        "                      categories=categories, \r\n",
        "                      cmap='Blues',\r\n",
        "                      title = \"Confusion Matrix Valid\")"
      ],
      "execution_count": null,
      "outputs": [
        {
          "output_type": "display_data",
          "data": {
            "image/png": "[encoded data removed]",
            "text/plain": [
              "<Figure size 432x288 with 2 Axes>"
            ]
          },
          "metadata": {
            "tags": [],
            "needs_background": "light"
          }
        }
      ]
    },
    {
      "cell_type": "code",
      "metadata": {
        "colab": {
          "base_uri": "https://localhost:8080/",
          "height": 342
        },
        "id": "Dp-DfZjx1dfi",
        "outputId": "38d81d47-3607-4099-d9e2-d30a14b6c668"
      },
      "source": [
        "umbral = 0.515555\r\n",
        "y_pred_valid =  preds_valid[:,1]> umbral\r\n",
        "y_pred_test =  preds_test[:,1]> umbral\r\n",
        "cf_matrix_valid = confusion_matrix(y_true=y_valid,y_pred=y_pred_valid)\r\n",
        "cf_matrix_test = confusion_matrix(y_true=y_test,y_pred=y_pred_test)\r\n",
        "\r\n",
        "labels = ['TN','FP','FN','TP']\r\n",
        "categories = ['0', '1']\r\n",
        "make_confusion_matrix(cf_matrix_test, \r\n",
        "                      group_names=labels,\r\n",
        "                      label = \"Default\",\r\n",
        "                      categories=categories, \r\n",
        "                      cmap='Blues',\r\n",
        "                      title = \"Confusion Matrix Test\")"
      ],
      "execution_count": null,
      "outputs": [
        {
          "output_type": "display_data",
          "data": {
            "image/png": "[encoded data removed]",
            "text/plain": [
              "<Figure size 432x288 with 2 Axes>"
            ]
          },
          "metadata": {
            "tags": [],
            "needs_background": "light"
          }
        }
      ]
    },
    {
      "cell_type": "markdown",
      "metadata": {
        "id": "yagL3P3N1t69"
      },
      "source": [
        "**Global explainability : feat importance summing to 1**"
      ]
    },
    {
      "cell_type": "code",
      "metadata": {
        "colab": {
          "base_uri": "https://localhost:8080/"
        },
        "id": "u33b8ls41sTT",
        "outputId": "68ff530e-7226-44c1-8901-89462ba154d2"
      },
      "source": [
        "clf.feature_importances_"
      ],
      "execution_count": null,
      "outputs": [
        {
          "output_type": "execute_result",
          "data": {
            "text/plain": [
              "array([0.11091476, 0.14409572, 0.17371606, 0.13175105, 0.15826437,\n",
              "       0.14897014, 0.04285597, 0.08943193])"
            ]
          },
          "metadata": {
            "tags": []
          },
          "execution_count": 88
        }
      ]
    },
    {
      "cell_type": "code",
      "metadata": {
        "id": "Bx5QR06d1xNn"
      },
      "source": [
        "explain_matrix, masks = clf.explain(X_test)"
      ],
      "execution_count": null,
      "outputs": []
    },
    {
      "cell_type": "code",
      "metadata": {
        "colab": {
          "base_uri": "https://localhost:8080/",
          "height": 1000
        },
        "id": "TCcx_6eA1yeV",
        "outputId": "1de07e03-d564-40af-df04-f5c53471bb9f"
      },
      "source": [
        "fig, axs = plt.subplots(1,5, figsize=(20,60))\r\n",
        "\r\n",
        "for i in range (5):\r\n",
        "  axs[i].imshow(masks[i][:100])\r\n",
        "  axs[i].set_title(f\"Mask {i}\")"
      ],
      "execution_count": null,
      "outputs": [
        {
          "output_type": "display_data",
          "data": {
            "image/png": "[encoded data removed]",
            "text/plain": [
              "<Figure size 1440x4320 with 5 Axes>"
            ]
          },
          "metadata": {
            "tags": [],
            "needs_background": "light"
          }
        }
      ]
    },
    {
      "cell_type": "code",
      "metadata": {
        "colab": {
          "base_uri": "https://localhost:8080/"
        },
        "id": "hUHbuhSl10WT",
        "outputId": "0255f2a4-2297-4067-999c-41323b3c0544"
      },
      "source": [
        "explain_matrix"
      ],
      "execution_count": null,
      "outputs": [
        {
          "output_type": "execute_result",
          "data": {
            "text/plain": [
              "array([[ 7.00879812,  8.58747292, 14.23495674, ..., 10.61420536,\n",
              "         1.41796565,  4.31654263],\n",
              "       [ 4.30710983, 20.23546028,  3.04293609, ...,  5.54661703,\n",
              "         4.08196402,  0.65973419],\n",
              "       [ 3.27019906,  1.5302062 ,  3.36543465, ...,  0.80017638,\n",
              "         3.85035944,  6.80538368],\n",
              "       ...,\n",
              "       [ 6.13964462,  6.82119513,  9.63371181, ...,  4.52699471,\n",
              "         2.0797205 ,  1.09555912],\n",
              "       [ 1.02980614,  4.6771965 ,  5.36812496, ...,  3.54095173,\n",
              "         0.29320964,  1.03733206],\n",
              "       [ 2.49350762,  3.045398  ,  5.34573078, ...,  2.35308647,\n",
              "         0.57880783,  2.84761834]])"
            ]
          },
          "metadata": {
            "tags": []
          },
          "execution_count": 91
        }
      ]
    },
    {
      "cell_type": "markdown",
      "metadata": {
        "id": "fiKepLtb12O_"
      },
      "source": [
        "**i) Código de serialización y deserialización del modelo para ser usada en la evaluación sobre el dataset de test**"
      ]
    },
    {
      "cell_type": "code",
      "metadata": {
        "colab": {
          "base_uri": "https://localhost:8080/"
        },
        "id": "KOm1LV1-13s2",
        "outputId": "abf016c2-9bc8-4ed3-c13f-189a74b7c9bd"
      },
      "source": [
        "# save tabnet model\r\n",
        "saving_path_name = \"/content/Tabnet_Modelo_4_2\"\r\n",
        "saved_filepath = clf.save_model(saving_path_name)"
      ],
      "execution_count": null,
      "outputs": [
        {
          "output_type": "stream",
          "text": [
            "Successfully saved model at /content/Tabnet_Modelo_4_2.zip\n"
          ],
          "name": "stdout"
        }
      ]
    },
    {
      "cell_type": "code",
      "metadata": {
        "colab": {
          "base_uri": "https://localhost:8080/"
        },
        "id": "tDZr-boo155N",
        "outputId": "bad42c71-8504-4673-cecd-0f0520f798f1"
      },
      "source": [
        "# define new model with basic parameters and load state dict weights\r\n",
        "loaded_clf = TabNetClassifier()\r\n",
        "loaded_clf.load_model(saved_filepath)"
      ],
      "execution_count": null,
      "outputs": [
        {
          "output_type": "stream",
          "text": [
            "Device used : cuda\n",
            "Device used : cuda\n"
          ],
          "name": "stdout"
        }
      ]
    },
    {
      "cell_type": "code",
      "metadata": {
        "id": "eQHppbc8183-"
      },
      "source": [
        "preds_test = loaded_clf.predict_proba(X_test)\r\n",
        "test_auc = roc_auc_score(y_score=preds_test[:,1], y_true=y_test)\r\n"
      ],
      "execution_count": null,
      "outputs": []
    },
    {
      "cell_type": "markdown",
      "metadata": {
        "id": "YpMjqxfA2Ayq"
      },
      "source": [
        "**Matriz de confusión sobre el dataset de dev y testing**\r\n"
      ]
    },
    {
      "cell_type": "code",
      "metadata": {
        "colab": {
          "base_uri": "https://localhost:8080/"
        },
        "id": "g7gV5CbBhsbc",
        "outputId": "198b8fa0-6931-4cf4-84ae-045b81c6dea4"
      },
      "source": [
        "data1=PreprocesamientoData4(df_train)\r\n",
        "data1.shape"
      ],
      "execution_count": null,
      "outputs": [
        {
          "output_type": "execute_result",
          "data": {
            "text/plain": [
              "(489725, 9)"
            ]
          },
          "metadata": {
            "tags": []
          },
          "execution_count": 202
        }
      ]
    },
    {
      "cell_type": "code",
      "metadata": {
        "colab": {
          "base_uri": "https://localhost:8080/"
        },
        "id": "aRV5o1Qihv-A",
        "outputId": "d4e829f5-992e-4f4c-bc09-ecf482f4a659"
      },
      "source": [
        "df_train.shape"
      ],
      "execution_count": null,
      "outputs": [
        {
          "output_type": "execute_result",
          "data": {
            "text/plain": [
              "(583613, 196)"
            ]
          },
          "metadata": {
            "tags": []
          },
          "execution_count": 203
        }
      ]
    },
    {
      "cell_type": "code",
      "metadata": {
        "colab": {
          "base_uri": "https://localhost:8080/",
          "height": 422
        },
        "id": "LSzPx8bGhyB7",
        "outputId": "b92bf859-a920-40a3-971f-5a058bf2d184"
      },
      "source": [
        "data1.head(489725)"
      ],
      "execution_count": null,
      "outputs": [
        {
          "output_type": "execute_result",
          "data": {
            "text/html": [
              "<div>\n",
              "<style scoped>\n",
              "    .dataframe tbody tr th:only-of-type {\n",
              "        vertical-align: middle;\n",
              "    }\n",
              "\n",
              "    .dataframe tbody tr th {\n",
              "        vertical-align: top;\n",
              "    }\n",
              "\n",
              "    .dataframe thead th {\n",
              "        text-align: right;\n",
              "    }\n",
              "</style>\n",
              "<table border=\"1\" class=\"dataframe\">\n",
              "  <thead>\n",
              "    <tr style=\"text-align: right;\">\n",
              "      <th></th>\n",
              "      <th>0</th>\n",
              "      <th>1</th>\n",
              "      <th>2</th>\n",
              "      <th>3</th>\n",
              "      <th>4</th>\n",
              "      <th>5</th>\n",
              "      <th>6</th>\n",
              "      <th>7</th>\n",
              "      <th>default12</th>\n",
              "    </tr>\n",
              "  </thead>\n",
              "  <tbody>\n",
              "    <tr>\n",
              "      <th>0</th>\n",
              "      <td>7.226679</td>\n",
              "      <td>0.545185</td>\n",
              "      <td>-1.522548</td>\n",
              "      <td>-0.346680</td>\n",
              "      <td>-0.779166</td>\n",
              "      <td>0.897336</td>\n",
              "      <td>0.594568</td>\n",
              "      <td>-1.480581</td>\n",
              "      <td>0</td>\n",
              "    </tr>\n",
              "    <tr>\n",
              "      <th>1</th>\n",
              "      <td>-0.993760</td>\n",
              "      <td>-0.882218</td>\n",
              "      <td>2.178940</td>\n",
              "      <td>-1.093326</td>\n",
              "      <td>0.508930</td>\n",
              "      <td>1.662205</td>\n",
              "      <td>0.592249</td>\n",
              "      <td>-0.583765</td>\n",
              "      <td>0</td>\n",
              "    </tr>\n",
              "    <tr>\n",
              "      <th>2</th>\n",
              "      <td>-1.352499</td>\n",
              "      <td>-0.154683</td>\n",
              "      <td>-0.197313</td>\n",
              "      <td>-0.748021</td>\n",
              "      <td>-1.325529</td>\n",
              "      <td>-0.457742</td>\n",
              "      <td>1.584103</td>\n",
              "      <td>0.048225</td>\n",
              "      <td>0</td>\n",
              "    </tr>\n",
              "    <tr>\n",
              "      <th>3</th>\n",
              "      <td>-2.374587</td>\n",
              "      <td>0.776946</td>\n",
              "      <td>1.181420</td>\n",
              "      <td>-0.074633</td>\n",
              "      <td>-0.714997</td>\n",
              "      <td>-2.218487</td>\n",
              "      <td>0.159718</td>\n",
              "      <td>0.381830</td>\n",
              "      <td>0</td>\n",
              "    </tr>\n",
              "    <tr>\n",
              "      <th>4</th>\n",
              "      <td>1.508309</td>\n",
              "      <td>-0.578331</td>\n",
              "      <td>-1.518341</td>\n",
              "      <td>-0.128225</td>\n",
              "      <td>0.234852</td>\n",
              "      <td>1.643651</td>\n",
              "      <td>-0.614033</td>\n",
              "      <td>-1.193790</td>\n",
              "      <td>0</td>\n",
              "    </tr>\n",
              "    <tr>\n",
              "      <th>...</th>\n",
              "      <td>...</td>\n",
              "      <td>...</td>\n",
              "      <td>...</td>\n",
              "      <td>...</td>\n",
              "      <td>...</td>\n",
              "      <td>...</td>\n",
              "      <td>...</td>\n",
              "      <td>...</td>\n",
              "      <td>...</td>\n",
              "    </tr>\n",
              "    <tr>\n",
              "      <th>489720</th>\n",
              "      <td>1.203722</td>\n",
              "      <td>-0.055142</td>\n",
              "      <td>0.136254</td>\n",
              "      <td>-0.553757</td>\n",
              "      <td>-0.944880</td>\n",
              "      <td>0.514596</td>\n",
              "      <td>-1.372568</td>\n",
              "      <td>-0.048943</td>\n",
              "      <td>0</td>\n",
              "    </tr>\n",
              "    <tr>\n",
              "      <th>489721</th>\n",
              "      <td>-0.613254</td>\n",
              "      <td>-0.745579</td>\n",
              "      <td>0.872964</td>\n",
              "      <td>-2.134815</td>\n",
              "      <td>1.659148</td>\n",
              "      <td>-1.353325</td>\n",
              "      <td>-0.916413</td>\n",
              "      <td>0.634708</td>\n",
              "      <td>0</td>\n",
              "    </tr>\n",
              "    <tr>\n",
              "      <th>489722</th>\n",
              "      <td>-1.908153</td>\n",
              "      <td>1.533285</td>\n",
              "      <td>-0.531766</td>\n",
              "      <td>1.761504</td>\n",
              "      <td>-0.356194</td>\n",
              "      <td>0.307547</td>\n",
              "      <td>0.039875</td>\n",
              "      <td>-1.148405</td>\n",
              "      <td>0</td>\n",
              "    </tr>\n",
              "    <tr>\n",
              "      <th>489723</th>\n",
              "      <td>-3.080677</td>\n",
              "      <td>2.282837</td>\n",
              "      <td>1.147981</td>\n",
              "      <td>1.606806</td>\n",
              "      <td>-0.146554</td>\n",
              "      <td>1.589339</td>\n",
              "      <td>0.104903</td>\n",
              "      <td>-1.128814</td>\n",
              "      <td>0</td>\n",
              "    </tr>\n",
              "    <tr>\n",
              "      <th>489724</th>\n",
              "      <td>3.975060</td>\n",
              "      <td>2.072542</td>\n",
              "      <td>-0.250168</td>\n",
              "      <td>2.127467</td>\n",
              "      <td>1.743467</td>\n",
              "      <td>-2.226245</td>\n",
              "      <td>-0.888408</td>\n",
              "      <td>-1.645920</td>\n",
              "      <td>0</td>\n",
              "    </tr>\n",
              "  </tbody>\n",
              "</table>\n",
              "<p>489725 rows × 9 columns</p>\n",
              "</div>"
            ],
            "text/plain": [
              "               0         1         2         3         4         5         6  \\\n",
              "0       7.226679  0.545185 -1.522548 -0.346680 -0.779166  0.897336  0.594568   \n",
              "1      -0.993760 -0.882218  2.178940 -1.093326  0.508930  1.662205  0.592249   \n",
              "2      -1.352499 -0.154683 -0.197313 -0.748021 -1.325529 -0.457742  1.584103   \n",
              "3      -2.374587  0.776946  1.181420 -0.074633 -0.714997 -2.218487  0.159718   \n",
              "4       1.508309 -0.578331 -1.518341 -0.128225  0.234852  1.643651 -0.614033   \n",
              "...          ...       ...       ...       ...       ...       ...       ...   \n",
              "489720  1.203722 -0.055142  0.136254 -0.553757 -0.944880  0.514596 -1.372568   \n",
              "489721 -0.613254 -0.745579  0.872964 -2.134815  1.659148 -1.353325 -0.916413   \n",
              "489722 -1.908153  1.533285 -0.531766  1.761504 -0.356194  0.307547  0.039875   \n",
              "489723 -3.080677  2.282837  1.147981  1.606806 -0.146554  1.589339  0.104903   \n",
              "489724  3.975060  2.072542 -0.250168  2.127467  1.743467 -2.226245 -0.888408   \n",
              "\n",
              "               7  default12  \n",
              "0      -1.480581          0  \n",
              "1      -0.583765          0  \n",
              "2       0.048225          0  \n",
              "3       0.381830          0  \n",
              "4      -1.193790          0  \n",
              "...          ...        ...  \n",
              "489720 -0.048943          0  \n",
              "489721  0.634708          0  \n",
              "489722 -1.148405          0  \n",
              "489723 -1.128814          0  \n",
              "489724 -1.645920          0  \n",
              "\n",
              "[489725 rows x 9 columns]"
            ]
          },
          "metadata": {
            "tags": []
          },
          "execution_count": 204
        }
      ]
    },
    {
      "cell_type": "code",
      "metadata": {
        "id": "wGE3VXT6bPsW"
      },
      "source": [
        "data=data1"
      ],
      "execution_count": null,
      "outputs": []
    },
    {
      "cell_type": "code",
      "metadata": {
        "id": "x8b29TwwXkuE"
      },
      "source": [
        "r = np.random.RandomState(1)\r\n",
        "\r\n",
        "target = \"default12\"\r\n",
        "\r\n",
        "if \"Set\" not in data.columns:\r\n",
        "  data[\"Set\"] = r.choice(['test'],p=[1], size = (data.shape[0],))\r\n",
        "\r\n",
        "test_indices = data[data.Set==\"test\"].index"
      ],
      "execution_count": null,
      "outputs": []
    },
    {
      "cell_type": "code",
      "metadata": {
        "colab": {
          "base_uri": "https://localhost:8080/"
        },
        "id": "PLMjHQltZbFF",
        "outputId": "d26300f7-fd52-441b-f4a6-5a21fc93f401"
      },
      "source": [
        "print(test_indices.shape)"
      ],
      "execution_count": null,
      "outputs": [
        {
          "output_type": "stream",
          "text": [
            "(489725,)\n"
          ],
          "name": "stdout"
        }
      ]
    },
    {
      "cell_type": "code",
      "metadata": {
        "colab": {
          "base_uri": "https://localhost:8080/"
        },
        "id": "hUGB-clZYAHo",
        "outputId": "53ae669b-36ec-426a-970c-6cb7bbeae9e4"
      },
      "source": [
        "nunique = data.nunique()\r\n",
        "types = data.dtypes\r\n",
        "categorical_columns = []\r\n",
        "categorical_dims = {}\r\n",
        "\r\n",
        "for col in data.columns:\r\n",
        "  if types[col] == 'object' or nunique[col] < 200:\r\n",
        "    print (col, data[col].nunique())\r\n",
        "    l_enc= LabelEncoder()\r\n",
        "    data[col] = data[col].fillna(\"VV_likely\")\r\n",
        "    data[col] = l_enc.fit_transform(data[col].values)\r\n",
        "    categorical_columns.append(col)\r\n",
        "    categorical_dims[col] = len(l_enc.classes_)\r\n",
        "  else:\r\n",
        "    data.fillna(0,inplace=True)"
      ],
      "execution_count": null,
      "outputs": [
        {
          "output_type": "stream",
          "text": [
            "default12 2\n",
            "Set 1\n"
          ],
          "name": "stdout"
        }
      ]
    },
    {
      "cell_type": "code",
      "metadata": {
        "id": "k6WTEarhYEQf"
      },
      "source": [
        "unused_feat = ['Set']\r\n",
        "\r\n",
        "features = [col for col in data.columns if col not in unused_feat+[target]]\r\n",
        "cat_idxs = [i for i, f in enumerate(features) if f in categorical_columns]\r\n",
        "cat_dims = [categorical_dims[f] for i, f in enumerate(features) if f in categorical_columns]"
      ],
      "execution_count": null,
      "outputs": []
    },
    {
      "cell_type": "code",
      "metadata": {
        "colab": {
          "base_uri": "https://localhost:8080/"
        },
        "id": "FT1hMB9QYHRz",
        "outputId": "dba484d1-89b9-48e2-c131-5e6225b1a6cd"
      },
      "source": [
        "print(f\"Used features: {features}\")\r\n",
        "print(\"-------\")\r\n",
        "print(f\"Categorical features indices: {cat_idxs}\")\r\n",
        "print(\"-------\")\r\n",
        "print(f\"Number of modalities per categorical feature: {cat_dims}\")"
      ],
      "execution_count": null,
      "outputs": [
        {
          "output_type": "stream",
          "text": [
            "Used features: [0, 1, 2, 3, 4, 5, 6, 7]\n",
            "-------\n",
            "Categorical features indices: []\n",
            "-------\n",
            "Number of modalities per categorical feature: []\n"
          ],
          "name": "stdout"
        }
      ]
    },
    {
      "cell_type": "code",
      "metadata": {
        "id": "v7FK57O8YJCv"
      },
      "source": [
        "X_test_t = data[features].values[test_indices]\r\n",
        "y_test_t = data[target].values[test_indices]"
      ],
      "execution_count": null,
      "outputs": []
    },
    {
      "cell_type": "code",
      "metadata": {
        "colab": {
          "base_uri": "https://localhost:8080/"
        },
        "id": "Lo-zhbpXYMxA",
        "outputId": "ddbd928f-9c70-4c3c-8c72-806f7d15b5be"
      },
      "source": [
        "print(X_test_t.shape)"
      ],
      "execution_count": null,
      "outputs": [
        {
          "output_type": "stream",
          "text": [
            "(489725, 8)\n"
          ],
          "name": "stdout"
        }
      ]
    },
    {
      "cell_type": "code",
      "metadata": {
        "id": "waoKAdXdYZDe"
      },
      "source": [
        "preds_test = clf.predict_proba(X_test_t)\r\n",
        "test_auc = roc_auc_score(y_score=preds_test[:,1], y_true = y_test_t)\r\n",
        "# print(f\"Final test score for: {test_auc}\")"
      ],
      "execution_count": null,
      "outputs": []
    },
    {
      "cell_type": "code",
      "metadata": {
        "colab": {
          "base_uri": "https://localhost:8080/"
        },
        "id": "J1NauhF-k-_F",
        "outputId": "6b487774-e95a-4f41-c9e4-ba03e2f7d05b"
      },
      "source": [
        "preds_test.shape"
      ],
      "execution_count": null,
      "outputs": [
        {
          "output_type": "execute_result",
          "data": {
            "text/plain": [
              "(489725, 2)"
            ]
          },
          "metadata": {
            "tags": []
          },
          "execution_count": 215
        }
      ]
    },
    {
      "cell_type": "code",
      "metadata": {
        "colab": {
          "base_uri": "https://localhost:8080/",
          "height": 342
        },
        "id": "2rwhlFfLLW_w",
        "outputId": "bdc747bb-fee5-4d8a-f49a-c3091563d4f6"
      },
      "source": [
        "from sklearn.metrics import confusion_matrix\r\n",
        "\r\n",
        "umbral = 0.515555\r\n",
        "y_pred_test =  preds_test[:,1]> umbral\r\n",
        "cf_matrix_test = confusion_matrix(y_true=y_test_t,y_pred=y_pred_test)\r\n",
        "\r\n",
        "labels = ['TN','FP','FN','TP']\r\n",
        "categories = ['0', '1']\r\n",
        "make_confusion_matrix(cf_matrix_test, \r\n",
        "                      group_names=labels,\r\n",
        "                      label = \"Default\",\r\n",
        "                      categories=categories, \r\n",
        "                      cmap='Blues',\r\n",
        "                      title = \"Confusion Matrix Test\")"
      ],
      "execution_count": null,
      "outputs": [
        {
          "output_type": "display_data",
          "data": {
            "image/png": "[encoded data removed]",
            "text/plain": [
              "<Figure size 432x288 with 2 Axes>"
            ]
          },
          "metadata": {
            "tags": [],
            "needs_background": "light"
          }
        }
      ]
    },
    {
      "cell_type": "code",
      "metadata": {
        "id": "1muS9paAne1L"
      },
      "source": [
        "#ROC CURVE\r\n",
        "def curva_f1(y_true, y_pred):\r\n",
        "    # calculate roc curves\r\n",
        "    precision, recall, thresholds = precision_recall_curve(y_true, y_pred)\r\n",
        "    # convert to f score\r\n",
        "    fscore = (2 * precision * recall) / (precision + recall)\r\n",
        "    # locate the index of the largest f score\r\n",
        "    ix = np.argmax(fscore)\r\n",
        "    print('Best Threshold=%f, F-Score=%.3f' % (thresholds[ix], fscore[ix]))\r\n",
        "    # plot the roc curve for the model\r\n",
        "    no_skill = len(y_true[y_true==1]) / len(y_true)\r\n",
        "    plt.plot([0,1], [no_skill,no_skill], linestyle='--', label='No Skill')\r\n",
        "    plt.plot(recall, precision, marker='.', label='ANN')\r\n",
        "    plt.scatter(recall[ix], precision[ix], marker='o', color='black', label='Best')\r\n",
        "    # axis labels\r\n",
        "    plt.xlabel('Recall')\r\n",
        "    plt.ylabel('Precision')\r\n",
        "    plt.legend()\r\n",
        "    plt.show()"
      ],
      "execution_count": null,
      "outputs": []
    },
    {
      "cell_type": "code",
      "metadata": {
        "colab": {
          "base_uri": "https://localhost:8080/",
          "height": 296
        },
        "id": "VOMCC-34ng6N",
        "outputId": "29c35e75-0a66-4fcb-f4d1-e271a83642dd"
      },
      "source": [
        "curva_f1(y_true=y_test_t,y_pred=preds_test[:,1])"
      ],
      "execution_count": null,
      "outputs": [
        {
          "output_type": "stream",
          "text": [
            "Best Threshold=0.572920, F-Score=0.362\n"
          ],
          "name": "stdout"
        },
        {
          "output_type": "display_data",
          "data": {
            "image/png": "[encoded data removed]",
            "text/plain": [
              "<Figure size 432x288 with 1 Axes>"
            ]
          },
          "metadata": {
            "tags": [],
            "needs_background": "light"
          }
        }
      ]
    },
    {
      "cell_type": "code",
      "metadata": {
        "colab": {
          "base_uri": "https://localhost:8080/",
          "height": 342
        },
        "id": "xFcmLzRGp51_",
        "outputId": "cfe39dca-d5fb-4e26-ee94-3f856523a4e8"
      },
      "source": [
        "from sklearn.metrics import confusion_matrix\r\n",
        "\r\n",
        "umbral = 0.572920\r\n",
        "y_pred_test =  preds_test[:,1]> umbral\r\n",
        "cf_matrix_test = confusion_matrix(y_true=y_test_t,y_pred=y_pred_test)\r\n",
        "\r\n",
        "labels = ['TN','FP','FN','TP']\r\n",
        "categories = ['0', '1']\r\n",
        "make_confusion_matrix(cf_matrix_test, \r\n",
        "                      group_names=labels,\r\n",
        "                      label = \"Default\",\r\n",
        "                      categories=categories, \r\n",
        "                      cmap='Blues',\r\n",
        "                      title = \"Confusion Matrix Test\")"
      ],
      "execution_count": null,
      "outputs": [
        {
          "output_type": "display_data",
          "data": {
            "image/png": "[encoded data removed]",
            "text/plain": [
              "<Figure size 432x288 with 2 Axes>"
            ]
          },
          "metadata": {
            "tags": [],
            "needs_background": "light"
          }
        }
      ]
    },
    {
      "cell_type": "markdown",
      "metadata": {
        "id": "q32adMvmFbmA"
      },
      "source": [
        "##### RECOMENDACIÓN SOBRE EL DATASET (3):\r\n",
        "\r\n",
        "1. Quitar los límites superiores o inferiores que se han colocado en diversas variables al momento de recolectar el dataset, ya que esto hace que la verdadera distribución de la variable sea modificada.\r\n",
        "\r\n",
        "2. Implementar filtros en los aplicativos de recojo de datos con el fin de asegurar que todos los campos de la base de datos sean llenados de manera correcta y obligatoria para evitar hacer una sustitución de ese valor Null por un número representativo de la data.\r\n",
        "\r\n",
        "3. Implementar un análisis más profundo de las variables del dataset, con el fin de obtener una mejor distribución y correlación entre ellas, de esa manera, las probabilidades de obtener un buen modelo son mayores\r\n"
      ]
    },
    {
      "cell_type": "markdown",
      "metadata": {
        "id": "mWxzrxZEFgG1"
      },
      "source": [
        "EXPERIMENTOS FUTUROS (3):\r\n",
        "\r\n",
        "1. Probar modelos con arquitecturas híbridas que utilizen clustering para la seleccion de caracteristicas, a modo de ejmplo, se propone utilizar un modelo que combine Redes neuronales y arboles de desicion como Random Forest.\r\n",
        "\r\n",
        "2. Respecto al procesamiento de la data, se propone utilizar robust variational autoencoders, que permite detectar anomalías en la data.\r\n",
        "\r\n",
        "3. Utiliza undersampling (proceso opuesto al oversampling, utilizado en el trabajo)\r\n",
        "\r\n",
        "\r\n"
      ]
    }
  ]
}